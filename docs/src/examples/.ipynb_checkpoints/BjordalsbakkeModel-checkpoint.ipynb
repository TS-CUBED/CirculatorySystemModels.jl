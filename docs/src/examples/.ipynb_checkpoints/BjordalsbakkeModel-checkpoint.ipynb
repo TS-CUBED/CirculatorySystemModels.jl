{
 "cells": [
  {
   "cell_type": "markdown",
   "metadata": {},
   "source": [
    "# Importing the required packages"
   ]
  },
  {
   "cell_type": "code",
   "execution_count": null,
   "metadata": {},
   "outputs": [
    {
     "name": "stderr",
     "output_type": "stream",
     "text": [
      "\u001b[32m\u001b[1m    Updating\u001b[22m\u001b[39m registry at `~/.julia/registries/General.toml`\n",
      "\u001b[32m\u001b[1m   Installed\u001b[22m\u001b[39m DynamicPolynomials ────── v0.5.2\n",
      "\u001b[32m\u001b[1m   Installed\u001b[22m\u001b[39m MultivariatePolynomials ─ v0.5.1\n",
      "\u001b[32m\u001b[1m   Installed\u001b[22m\u001b[39m DiffEqBase ────────────── v6.128.0\n",
      "\u001b[32m\u001b[1m   Installed\u001b[22m\u001b[39m SciMLOperators ────────── v0.3.6\n",
      "\u001b[32m\u001b[1m   Installed\u001b[22m\u001b[39m SimpleNonlinearSolve ──── v0.1.19\n",
      "\u001b[32m\u001b[1m   Installed\u001b[22m\u001b[39m BandedMatrices ────────── v0.17.35\n",
      "\u001b[32m\u001b[1m   Installed\u001b[22m\u001b[39m StochasticDiffEq ──────── v6.62.0\n",
      "\u001b[32m\u001b[1m   Installed\u001b[22m\u001b[39m ModelingToolkit ───────── v8.64.0\n",
      "\u001b[32m\u001b[1m   Installed\u001b[22m\u001b[39m SymbolicUtils ─────────── v1.2.0\n",
      "\u001b[32m\u001b[1m   Installed\u001b[22m\u001b[39m Documenter ────────────── v0.27.25\n",
      "\u001b[32m\u001b[1m    Updating\u001b[22m\u001b[39m `~/Projects/CirculatorySystemModels.jl/docs/Project.toml`\n",
      "  \u001b[90m[4211d73e] \u001b[39m\u001b[92m+ CirculatorySystemModels v0.1.1\u001b[39m\n",
      "  \u001b[90m[0b91fe84] \u001b[39m\u001b[92m+ DisplayAs v0.1.6\u001b[39m\n",
      "  \u001b[90m[e30172f5] \u001b[39m\u001b[92m+ Documenter v0.27.25\u001b[39m\n",
      "  \u001b[90m[98b081ad] \u001b[39m\u001b[92m+ Literate v2.14.0\u001b[39m\n",
      "  \u001b[90m[91a5bcdd] \u001b[39m\u001b[92m+ Plots v1.38.17\u001b[39m\n",
      "\u001b[32m\u001b[1m    Updating\u001b[22m\u001b[39m `~/Projects/CirculatorySystemModels.jl/docs/Manifest.toml`\n",
      "  \u001b[90m[47edcb42] \u001b[39m\u001b[92m+ ADTypes v0.1.6\u001b[39m\n",
      "  \u001b[90m[a4c015fc] \u001b[39m\u001b[92m+ ANSIColoredPrinters v0.0.1\u001b[39m\n",
      "  \u001b[90m[c3fe647b] \u001b[39m\u001b[92m+ AbstractAlgebra v0.31.0\u001b[39m\n",
      "  \u001b[90m[1520ce14] \u001b[39m\u001b[92m+ AbstractTrees v0.4.4\u001b[39m\n",
      "  \u001b[90m[79e6a3ab] \u001b[39m\u001b[92m+ Adapt v3.6.2\u001b[39m\n",
      "  \u001b[90m[ec485272] \u001b[39m\u001b[92m+ ArnoldiMethod v0.2.0\u001b[39m\n",
      "  \u001b[90m[4fba245c] \u001b[39m\u001b[92m+ ArrayInterface v7.4.11\u001b[39m\n",
      "  \u001b[90m[30b0a656] \u001b[39m\u001b[92m+ ArrayInterfaceCore v0.1.29\u001b[39m\n",
      "  \u001b[90m[4c555306] \u001b[39m\u001b[92m+ ArrayLayouts v1.1.1\u001b[39m\n",
      "  \u001b[90m[aae01518] \u001b[39m\u001b[92m+ BandedMatrices v0.17.35\u001b[39m\n",
      "  \u001b[90m[e2ed5e7c] \u001b[39m\u001b[92m+ Bijections v0.1.4\u001b[39m\n",
      "  \u001b[90m[d1d4a3ce] \u001b[39m\u001b[92m+ BitFlags v0.1.7\u001b[39m\n",
      "  \u001b[90m[62783981] \u001b[39m\u001b[92m+ BitTwiddlingConvenienceFunctions v0.1.5\u001b[39m\n",
      "\u001b[33m⌅\u001b[39m \u001b[90m[764a87c0] \u001b[39m\u001b[92m+ BoundaryValueDiffEq v2.11.0\u001b[39m\n",
      "  \u001b[90m[fa961155] \u001b[39m\u001b[92m+ CEnum v0.4.2\u001b[39m\n",
      "  \u001b[90m[2a0fbf3d] \u001b[39m\u001b[92m+ CPUSummary v0.2.3\u001b[39m\n",
      "  \u001b[90m[00ebfdb7] \u001b[39m\u001b[92m+ CSTParser v3.3.6\u001b[39m\n",
      "  \u001b[90m[336ed68f] \u001b[39m\u001b[92m+ CSV v0.10.11\u001b[39m\n",
      "  \u001b[90m[49dc2e85] \u001b[39m\u001b[92m+ Calculus v0.5.1\u001b[39m\n",
      "  \u001b[90m[d360d2e6] \u001b[39m\u001b[92m+ ChainRulesCore v1.16.0\u001b[39m\n",
      "  \u001b[90m[4211d73e] \u001b[39m\u001b[92m+ CirculatorySystemModels v0.1.1\u001b[39m\n",
      "  \u001b[90m[fb6a15b2] \u001b[39m\u001b[92m+ CloseOpenIntervals v0.1.12\u001b[39m\n",
      "  \u001b[90m[944b1d66] \u001b[39m\u001b[92m+ CodecZlib v0.7.2\u001b[39m\n",
      "  \u001b[90m[35d6a980] \u001b[39m\u001b[92m+ ColorSchemes v3.22.0\u001b[39m\n",
      "  \u001b[90m[3da002f7] \u001b[39m\u001b[92m+ ColorTypes v0.11.4\u001b[39m\n",
      "  \u001b[90m[c3611d14] \u001b[39m\u001b[92m+ ColorVectorSpace v0.10.0\u001b[39m\n",
      "  \u001b[90m[5ae59095] \u001b[39m\u001b[92m+ Colors v0.12.10\u001b[39m\n",
      "  \u001b[90m[861a8166] \u001b[39m\u001b[92m+ Combinatorics v1.0.2\u001b[39m\n",
      "  \u001b[90m[a80b9123] \u001b[39m\u001b[92m+ CommonMark v0.8.12\u001b[39m\n",
      "  \u001b[90m[38540f10] \u001b[39m\u001b[92m+ CommonSolve v0.2.4\u001b[39m\n",
      "  \u001b[90m[bbf7d656] \u001b[39m\u001b[92m+ CommonSubexpressions v0.3.0\u001b[39m\n",
      "  \u001b[90m[34da2185] \u001b[39m\u001b[92m+ Compat v4.9.0\u001b[39m\n",
      "  \u001b[90m[b152e2b5] \u001b[39m\u001b[92m+ CompositeTypes v0.1.3\u001b[39m\n",
      "  \u001b[90m[f0e56b4a] \u001b[39m\u001b[92m+ ConcurrentUtilities v2.2.1\u001b[39m\n",
      "  \u001b[90m[187b0558] \u001b[39m\u001b[92m+ ConstructionBase v1.5.3\u001b[39m\n",
      "  \u001b[90m[d38c429a] \u001b[39m\u001b[92m+ Contour v0.6.2\u001b[39m\n",
      "  \u001b[90m[adafc99b] \u001b[39m\u001b[92m+ CpuId v0.3.1\u001b[39m\n",
      "  \u001b[90m[a8cc5b0e] \u001b[39m\u001b[92m+ Crayons v4.1.1\u001b[39m\n",
      "  \u001b[90m[9a962f9c] \u001b[39m\u001b[92m+ DataAPI v1.15.0\u001b[39m\n",
      "  \u001b[90m[a93c6f00] \u001b[39m\u001b[92m+ DataFrames v1.6.1\u001b[39m\n",
      "  \u001b[90m[864edb3b] \u001b[39m\u001b[92m+ DataStructures v0.18.14\u001b[39m\n",
      "  \u001b[90m[e2d170a0] \u001b[39m\u001b[92m+ DataValueInterfaces v1.0.0\u001b[39m\n",
      "  \u001b[90m[bcd4f6db] \u001b[39m\u001b[92m+ DelayDiffEq v5.42.0\u001b[39m\n",
      "  \u001b[90m[8bb1440f] \u001b[39m\u001b[92m+ DelimitedFiles v1.9.1\u001b[39m\n",
      "  \u001b[90m[2b5f629d] \u001b[39m\u001b[92m+ DiffEqBase v6.128.0\u001b[39m\n",
      "  \u001b[90m[459566f4] \u001b[39m\u001b[92m+ DiffEqCallbacks v2.27.0\u001b[39m\n",
      "  \u001b[90m[77a26b50] \u001b[39m\u001b[92m+ DiffEqNoiseProcess v5.18.0\u001b[39m\n",
      "  \u001b[90m[163ba53b] \u001b[39m\u001b[92m+ DiffResults v1.1.0\u001b[39m\n",
      "  \u001b[90m[b552c78f] \u001b[39m\u001b[92m+ DiffRules v1.15.1\u001b[39m\n",
      "  \u001b[90m[0c46a032] \u001b[39m\u001b[92m+ DifferentialEquations v7.8.0\u001b[39m\n",
      "  \u001b[90m[0b91fe84] \u001b[39m\u001b[92m+ DisplayAs v0.1.6\u001b[39m\n",
      "  \u001b[90m[b4f34e82] \u001b[39m\u001b[92m+ Distances v0.10.9\u001b[39m\n",
      "  \u001b[90m[31c24e10] \u001b[39m\u001b[92m+ Distributions v0.25.98\u001b[39m\n",
      "  \u001b[90m[ffbed154] \u001b[39m\u001b[92m+ DocStringExtensions v0.9.3\u001b[39m\n",
      "  \u001b[90m[e30172f5] \u001b[39m\u001b[92m+ Documenter v0.27.25\u001b[39m\n",
      "  \u001b[90m[5b8099bc] \u001b[39m\u001b[92m+ DomainSets v0.6.7\u001b[39m\n",
      "  \u001b[90m[fa6b7ba4] \u001b[39m\u001b[92m+ DualNumbers v0.6.8\u001b[39m\n",
      "  \u001b[90m[7c1d4256] \u001b[39m\u001b[92m+ DynamicPolynomials v0.5.2\u001b[39m\n",
      "  \u001b[90m[4e289a0a] \u001b[39m\u001b[92m+ EnumX v1.0.4\u001b[39m\n",
      "  \u001b[90m[460bff9d] \u001b[39m\u001b[92m+ ExceptionUnwrapping v0.1.9\u001b[39m\n",
      "  \u001b[90m[d4d017d3] \u001b[39m\u001b[92m+ ExponentialUtilities v1.24.0\u001b[39m\n",
      "  \u001b[90m[e2ba6199] \u001b[39m\u001b[92m+ ExprTools v0.1.10\u001b[39m\n",
      "  \u001b[90m[c87230d0] \u001b[39m\u001b[92m+ FFMPEG v0.4.1\u001b[39m\n",
      "  \u001b[90m[7034ab61] \u001b[39m\u001b[92m+ FastBroadcast v0.2.6\u001b[39m\n",
      "  \u001b[90m[9aa1b823] \u001b[39m\u001b[92m+ FastClosures v0.3.2\u001b[39m\n",
      "  \u001b[90m[29a986be] \u001b[39m\u001b[92m+ FastLapackInterface v2.0.0\u001b[39m\n",
      "  \u001b[90m[48062228] \u001b[39m\u001b[92m+ FilePathsBase v0.9.20\u001b[39m\n",
      "  \u001b[90m[1a297f60] \u001b[39m\u001b[92m+ FillArrays v1.5.0\u001b[39m\n",
      "  \u001b[90m[6a86dc24] \u001b[39m\u001b[92m+ FiniteDiff v2.21.1\u001b[39m\n",
      "  \u001b[90m[53c48c17] \u001b[39m\u001b[92m+ FixedPointNumbers v0.8.4\u001b[39m\n",
      "  \u001b[90m[59287772] \u001b[39m\u001b[92m+ Formatting v0.4.2\u001b[39m\n",
      "  \u001b[90m[f6369f11] \u001b[39m\u001b[92m+ ForwardDiff v0.10.35\u001b[39m\n",
      "  \u001b[90m[069b7b12] \u001b[39m\u001b[92m+ FunctionWrappers v1.1.3\u001b[39m\n",
      "  \u001b[90m[77dc65aa] \u001b[39m\u001b[92m+ FunctionWrappersWrappers v0.1.3\u001b[39m\n",
      "  \u001b[90m[46192b85] \u001b[39m\u001b[92m+ GPUArraysCore v0.1.5\u001b[39m\n",
      "  \u001b[90m[28b8d3ca] \u001b[39m\u001b[92m+ GR v0.72.9\u001b[39m\n",
      "  \u001b[90m[c145ed77] \u001b[39m\u001b[92m+ GenericSchur v0.5.3\u001b[39m\n",
      "  \u001b[90m[c27321d9] \u001b[39m\u001b[92m+ Glob v1.3.1\u001b[39m\n",
      "  \u001b[90m[86223c79] \u001b[39m\u001b[92m+ Graphs v1.8.0\u001b[39m\n",
      "  \u001b[90m[42e2da0e] \u001b[39m\u001b[92m+ Grisu v1.0.2\u001b[39m\n",
      "  \u001b[90m[0b43b601] \u001b[39m\u001b[92m+ Groebner v0.4.2\u001b[39m\n",
      "  \u001b[90m[d5909c97] \u001b[39m\u001b[92m+ GroupsCore v0.4.0\u001b[39m\n",
      "  \u001b[90m[cd3eb016] \u001b[39m\u001b[92m+ HTTP v1.9.14\u001b[39m\n",
      "  \u001b[90m[3e5b6fbb] \u001b[39m\u001b[92m+ HostCPUFeatures v0.1.15\u001b[39m\n",
      "  \u001b[90m[34004b35] \u001b[39m\u001b[92m+ HypergeometricFunctions v0.3.23\u001b[39m\n",
      "  \u001b[90m[b5f81e59] \u001b[39m\u001b[92m+ IOCapture v0.2.3\u001b[39m\n",
      "  \u001b[90m[615f187c] \u001b[39m\u001b[92m+ IfElse v0.1.1\u001b[39m\n",
      "  \u001b[90m[d25df0c9] \u001b[39m\u001b[92m+ Inflate v0.1.3\u001b[39m\n",
      "  \u001b[90m[842dd82b] \u001b[39m\u001b[92m+ InlineStrings v1.4.0\u001b[39m\n",
      "  \u001b[90m[18e54dd8] \u001b[39m\u001b[92m+ IntegerMathUtils v0.1.2\u001b[39m\n",
      "  \u001b[90m[8197267c] \u001b[39m\u001b[92m+ IntervalSets v0.7.7\u001b[39m\n",
      "  \u001b[90m[41ab1584] \u001b[39m\u001b[92m+ InvertedIndices v1.3.0\u001b[39m\n",
      "  \u001b[90m[92d709cd] \u001b[39m\u001b[92m+ IrrationalConstants v0.2.2\u001b[39m\n",
      "  \u001b[90m[82899510] \u001b[39m\u001b[92m+ IteratorInterfaceExtensions v1.0.0\u001b[39m\n",
      "  \u001b[90m[1019f520] \u001b[39m\u001b[92m+ JLFzf v0.1.5\u001b[39m\n",
      "  \u001b[90m[692b3bcd] \u001b[39m\u001b[92m+ JLLWrappers v1.4.1\u001b[39m\n",
      "  \u001b[90m[682c06a0] \u001b[39m\u001b[92m+ JSON v0.21.4\u001b[39m\n",
      "  \u001b[90m[98e50ef6] \u001b[39m\u001b[92m+ JuliaFormatter v1.0.34\u001b[39m\n",
      "  \u001b[90m[ccbc3e58] \u001b[39m\u001b[92m+ JumpProcesses v9.7.2\u001b[39m\n",
      "  \u001b[90m[ef3ab10e] \u001b[39m\u001b[92m+ KLU v0.4.0\u001b[39m\n",
      "  \u001b[90m[ba0b0d4f] \u001b[39m\u001b[92m+ Krylov v0.9.2\u001b[39m\n",
      "  \u001b[90m[b964fa9f] \u001b[39m\u001b[92m+ LaTeXStrings v1.3.0\u001b[39m\n",
      "  \u001b[90m[2ee39098] \u001b[39m\u001b[92m+ LabelledArrays v1.14.0\u001b[39m\n",
      "  \u001b[90m[984bce1d] \u001b[39m\u001b[92m+ LambertW v0.4.6\u001b[39m\n",
      "  \u001b[90m[23fbe1c1] \u001b[39m\u001b[92m+ Latexify v0.16.1\u001b[39m\n",
      "  \u001b[90m[10f19ff3] \u001b[39m\u001b[92m+ LayoutPointers v0.1.14\u001b[39m\n",
      "  \u001b[90m[50d2b5c4] \u001b[39m\u001b[92m+ Lazy v0.15.1\u001b[39m\n",
      "  \u001b[90m[2d8b4e74] \u001b[39m\u001b[92m+ LevyArea v1.0.0\u001b[39m\n",
      "  \u001b[90m[d3d80556] \u001b[39m\u001b[92m+ LineSearches v7.2.0\u001b[39m\n",
      "  \u001b[90m[7ed4a6bd] \u001b[39m\u001b[92m+ LinearSolve v2.4.2\u001b[39m\n",
      "  \u001b[90m[98b081ad] \u001b[39m\u001b[92m+ Literate v2.14.0\u001b[39m\n",
      "  \u001b[90m[2ab3a3ac] \u001b[39m\u001b[92m+ LogExpFunctions v0.3.24\u001b[39m\n",
      "  \u001b[90m[e6f89c97] \u001b[39m\u001b[92m+ LoggingExtras v1.0.0\u001b[39m\n",
      "  \u001b[90m[bdcacae8] \u001b[39m\u001b[92m+ LoopVectorization v0.12.165\u001b[39m\n",
      "  \u001b[90m[d8e11817] \u001b[39m\u001b[92m+ MLStyle v0.4.17\u001b[39m\n",
      "  \u001b[90m[1914dd2f] \u001b[39m\u001b[92m+ MacroTools v0.5.10\u001b[39m\n",
      "  \u001b[90m[d125e4d3] \u001b[39m\u001b[92m+ ManualMemory v0.1.8\u001b[39m\n",
      "  \u001b[90m[739be429] \u001b[39m\u001b[92m+ MbedTLS v1.1.7\u001b[39m\n",
      "  \u001b[90m[442fdcdd] \u001b[39m\u001b[92m+ Measures v0.3.2\u001b[39m\n",
      "  \u001b[90m[e1d29d7a] \u001b[39m\u001b[92m+ Missings v1.1.0\u001b[39m\n",
      "  \u001b[90m[961ee093] \u001b[39m\u001b[92m+ ModelingToolkit v8.64.0\u001b[39m\n",
      "  \u001b[90m[46d2c3a1] \u001b[39m\u001b[92m+ MuladdMacro v0.2.4\u001b[39m\n",
      "  \u001b[90m[102ac46a] \u001b[39m\u001b[92m+ MultivariatePolynomials v0.5.1\u001b[39m\n",
      "  \u001b[90m[d8a4904e] \u001b[39m\u001b[92m+ MutableArithmetics v1.3.0\u001b[39m\n",
      "  \u001b[90m[d41bc354] \u001b[39m\u001b[92m+ NLSolversBase v7.8.3\u001b[39m\n",
      "  \u001b[90m[2774e3e8] \u001b[39m\u001b[92m+ NLsolve v4.5.1\u001b[39m\n",
      "  \u001b[90m[77ba4419] \u001b[39m\u001b[92m+ NaNMath v1.0.2\u001b[39m\n",
      "  \u001b[90m[8913a72c] \u001b[39m\u001b[92m+ NonlinearSolve v1.9.0\u001b[39m\n",
      "  \u001b[90m[6fe1bfb0] \u001b[39m\u001b[92m+ OffsetArrays v1.12.10\u001b[39m\n",
      "  \u001b[90m[4d8831e6] \u001b[39m\u001b[92m+ OpenSSL v1.4.1\u001b[39m\n",
      "  \u001b[90m[429524aa] \u001b[39m\u001b[92m+ Optim v1.7.6\u001b[39m\n",
      "  \u001b[90m[bac558e1] \u001b[39m\u001b[92m+ OrderedCollections v1.6.2\u001b[39m\n",
      "  \u001b[90m[1dea7af3] \u001b[39m\u001b[92m+ OrdinaryDiffEq v6.53.4\u001b[39m\n",
      "  \u001b[90m[90014a1f] \u001b[39m\u001b[92m+ PDMats v0.11.17\u001b[39m\n",
      "  \u001b[90m[65ce6f38] \u001b[39m\u001b[92m+ PackageExtensionCompat v1.0.0\u001b[39m\n",
      "  \u001b[90m[d96e819e] \u001b[39m\u001b[92m+ Parameters v0.12.3\u001b[39m\n",
      "  \u001b[90m[69de0a69] \u001b[39m\u001b[92m+ Parsers v2.7.2\u001b[39m\n",
      "  \u001b[90m[b98c9c47] \u001b[39m\u001b[92m+ Pipe v1.3.0\u001b[39m\n",
      "  \u001b[90m[ccf2f8ad] \u001b[39m\u001b[92m+ PlotThemes v3.1.0\u001b[39m\n",
      "  \u001b[90m[995b91a9] \u001b[39m\u001b[92m+ PlotUtils v1.3.5\u001b[39m\n",
      "  \u001b[90m[91a5bcdd] \u001b[39m\u001b[92m+ Plots v1.38.17\u001b[39m\n",
      "  \u001b[90m[e409e4f3] \u001b[39m\u001b[92m+ PoissonRandom v0.4.4\u001b[39m\n",
      "  \u001b[90m[f517fe37] \u001b[39m\u001b[92m+ Polyester v0.7.5\u001b[39m\n",
      "  \u001b[90m[1d0040c9] \u001b[39m\u001b[92m+ PolyesterWeave v0.2.1\u001b[39m\n",
      "  \u001b[90m[2dfb63ee] \u001b[39m\u001b[92m+ PooledArrays v1.4.2\u001b[39m\n",
      "  \u001b[90m[85a6dd25] \u001b[39m\u001b[92m+ PositiveFactorizations v0.2.4\u001b[39m\n",
      "  \u001b[90m[d236fae5] \u001b[39m\u001b[92m+ PreallocationTools v0.4.12\u001b[39m\n",
      "  \u001b[90m[aea7be01] \u001b[39m\u001b[92m+ PrecompileTools v1.1.2\u001b[39m\n",
      "  \u001b[90m[21216c6a] \u001b[39m\u001b[92m+ Preferences v1.4.0\u001b[39m\n",
      "  \u001b[90m[08abe8d2] \u001b[39m\u001b[92m+ PrettyTables v2.2.7\u001b[39m\n",
      "  \u001b[90m[27ebfcd6] \u001b[39m\u001b[92m+ Primes v0.5.4\u001b[39m\n",
      "  \u001b[90m[1fd47b50] \u001b[39m\u001b[92m+ QuadGK v2.8.2\u001b[39m\n",
      "  \u001b[90m[74087812] \u001b[39m\u001b[92m+ Random123 v1.6.1\u001b[39m\n",
      "  \u001b[90m[fb686558] \u001b[39m\u001b[92m+ RandomExtensions v0.4.3\u001b[39m\n",
      "  \u001b[90m[e6cf234a] \u001b[39m\u001b[92m+ RandomNumbers v1.5.3\u001b[39m\n",
      "  \u001b[90m[3cdcf5f2] \u001b[39m\u001b[92m+ RecipesBase v1.3.4\u001b[39m\n",
      "  \u001b[90m[01d81517] \u001b[39m\u001b[92m+ RecipesPipeline v0.6.12\u001b[39m\n",
      "  \u001b[90m[731186ca] \u001b[39m\u001b[92m+ RecursiveArrayTools v2.38.7\u001b[39m\n",
      "  \u001b[90m[f2c3362d] \u001b[39m\u001b[92m+ RecursiveFactorization v0.2.18\u001b[39m\n",
      "  \u001b[90m[189a3867] \u001b[39m\u001b[92m+ Reexport v1.2.2\u001b[39m\n",
      "  \u001b[90m[05181044] \u001b[39m\u001b[92m+ RelocatableFolders v1.0.0\u001b[39m\n",
      "  \u001b[90m[ae029012] \u001b[39m\u001b[92m+ Requires v1.3.0\u001b[39m\n",
      "  \u001b[90m[ae5879a3] \u001b[39m\u001b[92m+ ResettableStacks v1.1.1\u001b[39m\n",
      "  \u001b[90m[79098fc4] \u001b[39m\u001b[92m+ Rmath v0.7.1\u001b[39m\n",
      "  \u001b[90m[7e49a35a] \u001b[39m\u001b[92m+ RuntimeGeneratedFunctions v0.5.11\u001b[39m\n",
      "  \u001b[90m[fdea26ae] \u001b[39m\u001b[92m+ SIMD v3.4.5\u001b[39m\n",
      "  \u001b[90m[94e857df] \u001b[39m\u001b[92m+ SIMDTypes v0.1.0\u001b[39m\n",
      "  \u001b[90m[476501e8] \u001b[39m\u001b[92m+ SLEEFPirates v0.6.39\u001b[39m\n",
      "  \u001b[90m[0bca4576] \u001b[39m\u001b[92m+ SciMLBase v1.94.0\u001b[39m\n",
      "  \u001b[90m[e9a6253c] \u001b[39m\u001b[92m+ SciMLNLSolve v0.1.8\u001b[39m\n",
      "  \u001b[90m[c0aeaf25] \u001b[39m\u001b[92m+ SciMLOperators v0.3.6\u001b[39m\n",
      "  \u001b[90m[6c6a2e73] \u001b[39m\u001b[92m+ Scratch v1.2.0\u001b[39m\n",
      "  \u001b[90m[91c51154] \u001b[39m\u001b[92m+ SentinelArrays v1.4.0\u001b[39m\n",
      "  \u001b[90m[efcf1570] \u001b[39m\u001b[92m+ Setfield v1.1.1\u001b[39m\n",
      "  \u001b[90m[992d4aef] \u001b[39m\u001b[92m+ Showoff v1.0.3\u001b[39m\n",
      "  \u001b[90m[777ac1f9] \u001b[39m\u001b[92m+ SimpleBufferStream v1.1.0\u001b[39m\n",
      "  \u001b[90m[727e6d20] \u001b[39m\u001b[92m+ SimpleNonlinearSolve v0.1.19\u001b[39m\n",
      "  \u001b[90m[699a6c99] \u001b[39m\u001b[92m+ SimpleTraits v0.9.4\u001b[39m\n",
      "  \u001b[90m[ce78b400] \u001b[39m\u001b[92m+ SimpleUnPack v1.1.0\u001b[39m\n",
      "  \u001b[90m[66db9d55] \u001b[39m\u001b[92m+ SnoopPrecompile v1.0.3\u001b[39m\n",
      "  \u001b[90m[a2af1166] \u001b[39m\u001b[92m+ SortingAlgorithms v1.1.1\u001b[39m\n",
      "  \u001b[90m[47a9eef4] \u001b[39m\u001b[92m+ SparseDiffTools v2.4.1\u001b[39m\n",
      "  \u001b[90m[e56a9233] \u001b[39m\u001b[92m+ Sparspak v0.3.9\u001b[39m\n",
      "  \u001b[90m[276daf66] \u001b[39m\u001b[92m+ SpecialFunctions v2.3.0\u001b[39m\n",
      "  \u001b[90m[aedffcd0] \u001b[39m\u001b[92m+ Static v0.8.8\u001b[39m\n"
     ]
    },
    {
     "name": "stderr",
     "output_type": "stream",
     "text": [
      "  \u001b[90m[0d7ed370] \u001b[39m\u001b[92m+ StaticArrayInterface v1.4.0\u001b[39m\n",
      "  \u001b[90m[90137ffa] \u001b[39m\u001b[92m+ StaticArrays v1.6.2\u001b[39m\n",
      "  \u001b[90m[1e83bf80] \u001b[39m\u001b[92m+ StaticArraysCore v1.4.2\u001b[39m\n",
      "  \u001b[90m[82ae8749] \u001b[39m\u001b[92m+ StatsAPI v1.6.0\u001b[39m\n",
      "  \u001b[90m[2913bbd2] \u001b[39m\u001b[92m+ StatsBase v0.34.0\u001b[39m\n",
      "  \u001b[90m[4c63d2b9] \u001b[39m\u001b[92m+ StatsFuns v1.3.0\u001b[39m\n",
      "  \u001b[90m[9672c7b4] \u001b[39m\u001b[92m+ SteadyStateDiffEq v1.16.0\u001b[39m\n",
      "  \u001b[90m[789caeaf] \u001b[39m\u001b[92m+ StochasticDiffEq v6.62.0\u001b[39m\n",
      "  \u001b[90m[7792a7ef] \u001b[39m\u001b[92m+ StrideArraysCore v0.4.17\u001b[39m\n",
      "  \u001b[90m[892a3eda] \u001b[39m\u001b[92m+ StringManipulation v0.3.0\u001b[39m\n",
      "  \u001b[90m[c3572dad] \u001b[39m\u001b[92m+ Sundials v4.19.3\u001b[39m\n",
      "  \u001b[90m[2efcf032] \u001b[39m\u001b[92m+ SymbolicIndexingInterface v0.2.2\u001b[39m\n",
      "  \u001b[90m[d1185830] \u001b[39m\u001b[92m+ SymbolicUtils v1.2.0\u001b[39m\n",
      "  \u001b[90m[0c5d862f] \u001b[39m\u001b[92m+ Symbolics v5.5.1\u001b[39m\n",
      "  \u001b[90m[3783bdb8] \u001b[39m\u001b[92m+ TableTraits v1.0.1\u001b[39m\n",
      "  \u001b[90m[bd369af6] \u001b[39m\u001b[92m+ Tables v1.10.1\u001b[39m\n",
      "  \u001b[90m[62fd8b95] \u001b[39m\u001b[92m+ TensorCore v0.1.1\u001b[39m\n",
      "  \u001b[90m[8290d209] \u001b[39m\u001b[92m+ ThreadingUtilities v0.5.2\u001b[39m\n",
      "  \u001b[90m[a759f4b9] \u001b[39m\u001b[92m+ TimerOutputs v0.5.23\u001b[39m\n",
      "  \u001b[90m[0796e94c] \u001b[39m\u001b[92m+ Tokenize v0.5.25\u001b[39m\n",
      "  \u001b[90m[3bb67fe8] \u001b[39m\u001b[92m+ TranscodingStreams v0.9.13\u001b[39m\n",
      "  \u001b[90m[a2a6695c] \u001b[39m\u001b[92m+ TreeViews v0.3.0\u001b[39m\n",
      "  \u001b[90m[d5829a12] \u001b[39m\u001b[92m+ TriangularSolve v0.1.19\u001b[39m\n",
      "  \u001b[90m[410a4b4d] \u001b[39m\u001b[92m+ Tricks v0.1.7\u001b[39m\n",
      "  \u001b[90m[781d530d] \u001b[39m\u001b[92m+ TruncatedStacktraces v1.4.0\u001b[39m\n",
      "  \u001b[90m[5c2747f8] \u001b[39m\u001b[92m+ URIs v1.4.2\u001b[39m\n",
      "  \u001b[90m[3a884ed6] \u001b[39m\u001b[92m+ UnPack v1.0.2\u001b[39m\n",
      "  \u001b[90m[1cfade01] \u001b[39m\u001b[92m+ UnicodeFun v0.4.1\u001b[39m\n",
      "  \u001b[90m[1986cc42] \u001b[39m\u001b[92m+ Unitful v1.16.1\u001b[39m\n",
      "  \u001b[90m[45397f5d] \u001b[39m\u001b[92m+ UnitfulLatexify v1.6.3\u001b[39m\n",
      "  \u001b[90m[a7c27f48] \u001b[39m\u001b[92m+ Unityper v0.1.5\u001b[39m\n",
      "  \u001b[90m[41fe7b60] \u001b[39m\u001b[92m+ Unzip v0.2.0\u001b[39m\n",
      "  \u001b[90m[3d5dd08c] \u001b[39m\u001b[92m+ VectorizationBase v0.21.64\u001b[39m\n",
      "  \u001b[90m[19fa3120] \u001b[39m\u001b[92m+ VertexSafeGraphs v0.2.0\u001b[39m\n",
      "  \u001b[90m[ea10d353] \u001b[39m\u001b[92m+ WeakRefStrings v1.4.2\u001b[39m\n",
      "  \u001b[90m[76eceee3] \u001b[39m\u001b[92m+ WorkerUtilities v1.6.1\u001b[39m\n",
      "  \u001b[90m[700de1a5] \u001b[39m\u001b[92m+ ZygoteRules v0.2.3\u001b[39m\n",
      "  \u001b[90m[6e34b625] \u001b[39m\u001b[92m+ Bzip2_jll v1.0.8+0\u001b[39m\n",
      "  \u001b[90m[83423d85] \u001b[39m\u001b[92m+ Cairo_jll v1.16.1+1\u001b[39m\n",
      "  \u001b[90m[2e619515] \u001b[39m\u001b[92m+ Expat_jll v2.5.0+0\u001b[39m\n",
      "\u001b[32m⌃\u001b[39m \u001b[90m[b22a6f82] \u001b[39m\u001b[92m+ FFMPEG_jll v4.4.2+2\u001b[39m\n",
      "  \u001b[90m[a3f928ae] \u001b[39m\u001b[92m+ Fontconfig_jll v2.13.93+0\u001b[39m\n",
      "  \u001b[90m[d7e528f0] \u001b[39m\u001b[92m+ FreeType2_jll v2.13.1+0\u001b[39m\n",
      "  \u001b[90m[559328eb] \u001b[39m\u001b[92m+ FriBidi_jll v1.0.10+0\u001b[39m\n",
      "  \u001b[90m[0656b61e] \u001b[39m\u001b[92m+ GLFW_jll v3.3.8+0\u001b[39m\n",
      "  \u001b[90m[d2c73de3] \u001b[39m\u001b[92m+ GR_jll v0.72.9+0\u001b[39m\n",
      "  \u001b[90m[78b55507] \u001b[39m\u001b[92m+ Gettext_jll v0.21.0+0\u001b[39m\n",
      "  \u001b[90m[7746bdde] \u001b[39m\u001b[92m+ Glib_jll v2.74.0+2\u001b[39m\n",
      "  \u001b[90m[3b182d85] \u001b[39m\u001b[92m+ Graphite2_jll v1.3.14+0\u001b[39m\n",
      "  \u001b[90m[2e76f6c2] \u001b[39m\u001b[92m+ HarfBuzz_jll v2.8.1+1\u001b[39m\n",
      "  \u001b[90m[aacddb02] \u001b[39m\u001b[92m+ JpegTurbo_jll v2.1.91+0\u001b[39m\n",
      "  \u001b[90m[c1c5ebd0] \u001b[39m\u001b[92m+ LAME_jll v3.100.1+0\u001b[39m\n",
      "  \u001b[90m[88015f11] \u001b[39m\u001b[92m+ LERC_jll v3.0.0+1\u001b[39m\n",
      "  \u001b[90m[1d63c593] \u001b[39m\u001b[92m+ LLVMOpenMP_jll v15.0.4+0\u001b[39m\n",
      "  \u001b[90m[dd4b983a] \u001b[39m\u001b[92m+ LZO_jll v2.10.1+0\u001b[39m\n",
      "\u001b[33m⌅\u001b[39m \u001b[90m[e9f186c6] \u001b[39m\u001b[92m+ Libffi_jll v3.2.2+1\u001b[39m\n",
      "  \u001b[90m[d4300ac3] \u001b[39m\u001b[92m+ Libgcrypt_jll v1.8.7+0\u001b[39m\n",
      "  \u001b[90m[7e76a0d4] \u001b[39m\u001b[92m+ Libglvnd_jll v1.6.0+0\u001b[39m\n",
      "  \u001b[90m[7add5ba3] \u001b[39m\u001b[92m+ Libgpg_error_jll v1.42.0+0\u001b[39m\n",
      "  \u001b[90m[94ce4f54] \u001b[39m\u001b[92m+ Libiconv_jll v1.16.1+2\u001b[39m\n",
      "  \u001b[90m[4b2f31a3] \u001b[39m\u001b[92m+ Libmount_jll v2.35.0+0\u001b[39m\n",
      "  \u001b[90m[89763e89] \u001b[39m\u001b[92m+ Libtiff_jll v4.5.1+1\u001b[39m\n",
      "  \u001b[90m[38a345b3] \u001b[39m\u001b[92m+ Libuuid_jll v2.36.0+0\u001b[39m\n",
      "  \u001b[90m[e7412a2a] \u001b[39m\u001b[92m+ Ogg_jll v1.3.5+1\u001b[39m\n",
      "\u001b[33m⌅\u001b[39m \u001b[90m[458c3c95] \u001b[39m\u001b[92m+ OpenSSL_jll v1.1.21+0\u001b[39m\n",
      "  \u001b[90m[efe28fd5] \u001b[39m\u001b[92m+ OpenSpecFun_jll v0.5.5+0\u001b[39m\n",
      "  \u001b[90m[91d4177d] \u001b[39m\u001b[92m+ Opus_jll v1.3.2+0\u001b[39m\n",
      "  \u001b[90m[30392449] \u001b[39m\u001b[92m+ Pixman_jll v0.42.2+0\u001b[39m\n",
      "  \u001b[90m[c0090381] \u001b[39m\u001b[92m+ Qt6Base_jll v6.4.2+3\u001b[39m\n",
      "  \u001b[90m[f50d1b31] \u001b[39m\u001b[92m+ Rmath_jll v0.4.0+0\u001b[39m\n",
      "\u001b[33m⌅\u001b[39m \u001b[90m[fb77eaff] \u001b[39m\u001b[92m+ Sundials_jll v5.2.2+0\u001b[39m\n",
      "  \u001b[90m[a2964d1f] \u001b[39m\u001b[92m+ Wayland_jll v1.21.0+0\u001b[39m\n",
      "  \u001b[90m[2381bf8a] \u001b[39m\u001b[92m+ Wayland_protocols_jll v1.25.0+0\u001b[39m\n",
      "  \u001b[90m[02c8fc9c] \u001b[39m\u001b[92m+ XML2_jll v2.10.3+0\u001b[39m\n",
      "  \u001b[90m[aed1982a] \u001b[39m\u001b[92m+ XSLT_jll v1.1.34+0\u001b[39m\n",
      "  \u001b[90m[ffd25f8a] \u001b[39m\u001b[92m+ XZ_jll v5.4.3+1\u001b[39m\n",
      "  \u001b[90m[4f6342f7] \u001b[39m\u001b[92m+ Xorg_libX11_jll v1.8.6+0\u001b[39m\n",
      "  \u001b[90m[0c0b7dd1] \u001b[39m\u001b[92m+ Xorg_libXau_jll v1.0.11+0\u001b[39m\n",
      "  \u001b[90m[935fb764] \u001b[39m\u001b[92m+ Xorg_libXcursor_jll v1.2.0+4\u001b[39m\n",
      "  \u001b[90m[a3789734] \u001b[39m\u001b[92m+ Xorg_libXdmcp_jll v1.1.4+0\u001b[39m\n",
      "  \u001b[90m[1082639a] \u001b[39m\u001b[92m+ Xorg_libXext_jll v1.3.4+4\u001b[39m\n",
      "  \u001b[90m[d091e8ba] \u001b[39m\u001b[92m+ Xorg_libXfixes_jll v5.0.3+4\u001b[39m\n",
      "  \u001b[90m[a51aa0fd] \u001b[39m\u001b[92m+ Xorg_libXi_jll v1.7.10+4\u001b[39m\n",
      "  \u001b[90m[d1454406] \u001b[39m\u001b[92m+ Xorg_libXinerama_jll v1.1.4+4\u001b[39m\n",
      "  \u001b[90m[ec84b674] \u001b[39m\u001b[92m+ Xorg_libXrandr_jll v1.5.2+4\u001b[39m\n",
      "  \u001b[90m[ea2f1a96] \u001b[39m\u001b[92m+ Xorg_libXrender_jll v0.9.10+4\u001b[39m\n",
      "  \u001b[90m[14d82f49] \u001b[39m\u001b[92m+ Xorg_libpthread_stubs_jll v0.1.1+0\u001b[39m\n",
      "  \u001b[90m[c7cfdc94] \u001b[39m\u001b[92m+ Xorg_libxcb_jll v1.15.0+0\u001b[39m\n",
      "  \u001b[90m[cc61e674] \u001b[39m\u001b[92m+ Xorg_libxkbfile_jll v1.1.2+0\u001b[39m\n",
      "  \u001b[90m[12413925] \u001b[39m\u001b[92m+ Xorg_xcb_util_image_jll v0.4.0+1\u001b[39m\n",
      "  \u001b[90m[2def613f] \u001b[39m\u001b[92m+ Xorg_xcb_util_jll v0.4.0+1\u001b[39m\n",
      "  \u001b[90m[975044d2] \u001b[39m\u001b[92m+ Xorg_xcb_util_keysyms_jll v0.4.0+1\u001b[39m\n",
      "  \u001b[90m[0d47668e] \u001b[39m\u001b[92m+ Xorg_xcb_util_renderutil_jll v0.3.9+1\u001b[39m\n",
      "  \u001b[90m[c22f9ab0] \u001b[39m\u001b[92m+ Xorg_xcb_util_wm_jll v0.4.1+1\u001b[39m\n",
      "  \u001b[90m[35661453] \u001b[39m\u001b[92m+ Xorg_xkbcomp_jll v1.4.6+0\u001b[39m\n",
      "  \u001b[90m[33bec58e] \u001b[39m\u001b[92m+ Xorg_xkeyboard_config_jll v2.39.0+0\u001b[39m\n",
      "  \u001b[90m[c5fb5394] \u001b[39m\u001b[92m+ Xorg_xtrans_jll v1.5.0+0\u001b[39m\n",
      "  \u001b[90m[3161d3a3] \u001b[39m\u001b[92m+ Zstd_jll v1.5.5+0\u001b[39m\n",
      "\u001b[33m⌅\u001b[39m \u001b[90m[214eeab7] \u001b[39m\u001b[92m+ fzf_jll v0.29.0+0\u001b[39m\n",
      "  \u001b[90m[a4ae2306] \u001b[39m\u001b[92m+ libaom_jll v3.4.0+0\u001b[39m\n",
      "  \u001b[90m[0ac62f75] \u001b[39m\u001b[92m+ libass_jll v0.15.1+0\u001b[39m\n",
      "  \u001b[90m[f638f0a6] \u001b[39m\u001b[92m+ libfdk_aac_jll v2.0.2+0\u001b[39m\n",
      "  \u001b[90m[b53b4c65] \u001b[39m\u001b[92m+ libpng_jll v1.6.38+0\u001b[39m\n",
      "  \u001b[90m[f27f6e37] \u001b[39m\u001b[92m+ libvorbis_jll v1.3.7+1\u001b[39m\n",
      "  \u001b[90m[1270edf5] \u001b[39m\u001b[92m+ x264_jll v2021.5.5+0\u001b[39m\n",
      "  \u001b[90m[dfaa095f] \u001b[39m\u001b[92m+ x265_jll v3.5.0+0\u001b[39m\n",
      "  \u001b[90m[d8fb68d0] \u001b[39m\u001b[92m+ xkbcommon_jll v1.4.1+0\u001b[39m\n",
      "  \u001b[90m[0dad84c5] \u001b[39m\u001b[92m+ ArgTools v1.1.1\u001b[39m\n",
      "  \u001b[90m[56f22d72] \u001b[39m\u001b[92m+ Artifacts\u001b[39m\n",
      "  \u001b[90m[2a0f44e3] \u001b[39m\u001b[92m+ Base64\u001b[39m\n",
      "  \u001b[90m[ade2ca70] \u001b[39m\u001b[92m+ Dates\u001b[39m\n",
      "  \u001b[90m[8ba89e20] \u001b[39m\u001b[92m+ Distributed\u001b[39m\n",
      "  \u001b[90m[f43a241f] \u001b[39m\u001b[92m+ Downloads v1.6.0\u001b[39m\n",
      "  \u001b[90m[7b1f6079] \u001b[39m\u001b[92m+ FileWatching\u001b[39m\n",
      "  \u001b[90m[9fa8497b] \u001b[39m\u001b[92m+ Future\u001b[39m\n",
      "  \u001b[90m[b77e0a4c] \u001b[39m\u001b[92m+ InteractiveUtils\u001b[39m\n",
      "  \u001b[90m[b27032c2] \u001b[39m\u001b[92m+ LibCURL v0.6.4\u001b[39m\n",
      "  \u001b[90m[76f85450] \u001b[39m\u001b[92m+ LibGit2\u001b[39m\n",
      "  \u001b[90m[8f399da3] \u001b[39m\u001b[92m+ Libdl\u001b[39m\n",
      "  \u001b[90m[37e2e46d] \u001b[39m\u001b[92m+ LinearAlgebra\u001b[39m\n",
      "  \u001b[90m[56ddb016] \u001b[39m\u001b[92m+ Logging\u001b[39m\n",
      "  \u001b[90m[d6f4376e] \u001b[39m\u001b[92m+ Markdown\u001b[39m\n",
      "  \u001b[90m[a63ad114] \u001b[39m\u001b[92m+ Mmap\u001b[39m\n",
      "  \u001b[90m[ca575930] \u001b[39m\u001b[92m+ NetworkOptions v1.2.0\u001b[39m\n",
      "  \u001b[90m[44cfe95a] \u001b[39m\u001b[92m+ Pkg v1.10.0\u001b[39m\n",
      "  \u001b[90m[de0858da] \u001b[39m\u001b[92m+ Printf\u001b[39m\n",
      "  \u001b[90m[3fa0cd96] \u001b[39m\u001b[92m+ REPL\u001b[39m\n",
      "  \u001b[90m[9a3f8284] \u001b[39m\u001b[92m+ Random\u001b[39m\n",
      "  \u001b[90m[ea8e919c] \u001b[39m\u001b[92m+ SHA v0.7.0\u001b[39m\n",
      "  \u001b[90m[9e88b42a] \u001b[39m\u001b[92m+ Serialization\u001b[39m\n",
      "  \u001b[90m[1a1011a3] \u001b[39m\u001b[92m+ SharedArrays\u001b[39m\n",
      "  \u001b[90m[6462fe0b] \u001b[39m\u001b[92m+ Sockets\u001b[39m\n",
      "  \u001b[90m[2f01184e] \u001b[39m\u001b[92m+ SparseArrays v1.10.0\u001b[39m\n",
      "  \u001b[90m[10745b16] \u001b[39m\u001b[92m+ Statistics v1.9.0\u001b[39m\n",
      "  \u001b[90m[4607b0f0] \u001b[39m\u001b[92m+ SuiteSparse\u001b[39m\n",
      "  \u001b[90m[fa267f1f] \u001b[39m\u001b[92m+ TOML v1.0.3\u001b[39m\n",
      "  \u001b[90m[a4e569a6] \u001b[39m\u001b[92m+ Tar v1.10.0\u001b[39m\n",
      "  \u001b[90m[8dfed614] \u001b[39m\u001b[92m+ Test\u001b[39m\n",
      "  \u001b[90m[cf7118a7] \u001b[39m\u001b[92m+ UUIDs\u001b[39m\n",
      "  \u001b[90m[4ec0a83e] \u001b[39m\u001b[92m+ Unicode\u001b[39m\n",
      "  \u001b[90m[e66e0078] \u001b[39m\u001b[92m+ CompilerSupportLibraries_jll v1.0.5+0\u001b[39m\n",
      "  \u001b[90m[deac9b47] \u001b[39m\u001b[92m+ LibCURL_jll v8.0.1+0\u001b[39m\n",
      "  \u001b[90m[29816b5a] \u001b[39m\u001b[92m+ LibSSH2_jll v1.10.2+0\u001b[39m\n",
      "  \u001b[90m[c8ffd9c3] \u001b[39m\u001b[92m+ MbedTLS_jll v2.28.2+0\u001b[39m\n",
      "  \u001b[90m[14a3606d] \u001b[39m\u001b[92m+ MozillaCACerts_jll v2023.1.10\u001b[39m\n",
      "  \u001b[90m[4536629a] \u001b[39m\u001b[92m+ OpenBLAS_jll v0.3.23+0\u001b[39m\n",
      "  \u001b[90m[05823500] \u001b[39m\u001b[92m+ OpenLibm_jll v0.8.1+0\u001b[39m\n",
      "  \u001b[90m[efcefdf7] \u001b[39m\u001b[92m+ PCRE2_jll v10.42.0+0\u001b[39m\n",
      "  \u001b[90m[bea87d4a] \u001b[39m\u001b[92m+ SuiteSparse_jll v7.2.0+0\u001b[39m\n",
      "  \u001b[90m[83775a58] \u001b[39m\u001b[92m+ Zlib_jll v1.2.13+0\u001b[39m\n",
      "  \u001b[90m[8e850b90] \u001b[39m\u001b[92m+ libblastrampoline_jll v5.8.0+0\u001b[39m\n",
      "  \u001b[90m[8e850ede] \u001b[39m\u001b[92m+ nghttp2_jll v1.52.0+0\u001b[39m\n",
      "  \u001b[90m[3f19e933] \u001b[39m\u001b[92m+ p7zip_jll v17.4.0+0\u001b[39m\n",
      "\u001b[36m\u001b[1m        Info\u001b[22m\u001b[39m Packages marked with \u001b[32m⌃\u001b[39m and \u001b[33m⌅\u001b[39m have new versions available, but those with \u001b[33m⌅\u001b[39m are restricted by compatibility constraints from upgrading. To see why use `status --outdated -m`\n"
     ]
    },
    {
     "name": "stderr",
     "output_type": "stream",
     "text": [
      "\u001b[32m\u001b[1mPrecompiling\u001b[22m\u001b[39m project...\n",
      "\u001b[32m  ✓ \u001b[39m\u001b[90mANSIColoredPrinters\u001b[39m\n",
      "\u001b[32m  ✓ \u001b[39m\u001b[90mUnitfulLatexify\u001b[39m\n",
      "\u001b[32m  ✓ \u001b[39m\u001b[90mLogExpFunctions → LogExpFunctionsChainRulesCoreExt\u001b[39m\n",
      "\u001b[32m  ✓ \u001b[39m\u001b[90mLatexify → DataFramesExt\u001b[39m\n",
      "\u001b[32m  ✓ \u001b[39m\u001b[90mMultivariatePolynomials\u001b[39m\n",
      "\u001b[32m  ✓ \u001b[39m\u001b[90mDynamicPolynomials\u001b[39m\n",
      "\u001b[32m  ✓ \u001b[39mDocumenter\n",
      "\u001b[32m  ✓ \u001b[39m\u001b[90mStatsBase\u001b[39m\n",
      "\u001b[32m  ✓ \u001b[39m\u001b[90mSpecialFunctions\u001b[39m\n",
      "\u001b[32m  ✓ \u001b[39m\u001b[90mDiffRules\u001b[39m\n",
      "\u001b[32m  ✓ \u001b[39m\u001b[90mLevyArea\u001b[39m\n",
      "\u001b[32m  ✓ \u001b[39m\u001b[90mColorVectorSpace → SpecialFunctionsExt\u001b[39m\n",
      "\u001b[32m  ✓ \u001b[39m\u001b[90mDualNumbers\u001b[39m\n",
      "\u001b[32m  ✓ \u001b[39m\u001b[90mSpecialFunctions → SpecialFunctionsChainRulesCoreExt\u001b[39m\n",
      "\u001b[32m  ✓ \u001b[39m\u001b[90mHypergeometricFunctions\u001b[39m\n",
      "\u001b[32m  ✓ \u001b[39m\u001b[90mForwardDiff\u001b[39m\n",
      "\u001b[32m  ✓ \u001b[39m\u001b[90mStatsFuns\u001b[39m\n",
      "\u001b[32m  ✓ \u001b[39m\u001b[90mColorSchemes\u001b[39m\n",
      "\u001b[32m  ✓ \u001b[39m\u001b[90mForwardDiff → ForwardDiffStaticArraysExt\u001b[39m\n",
      "\u001b[32m  ✓ \u001b[39m\u001b[90mPreallocationTools\u001b[39m\n",
      "\u001b[32m  ✓ \u001b[39m\u001b[90mStatsFuns → StatsFunsChainRulesCoreExt\u001b[39m\n",
      "\u001b[32m  ✓ \u001b[39m\u001b[90mDistributions\u001b[39m\n",
      "\u001b[32m  ✓ \u001b[39m\u001b[90mBandedMatrices\u001b[39m\n",
      "\u001b[32m  ✓ \u001b[39m\u001b[90mDistributions → DistributionsChainRulesCoreExt\u001b[39m\n",
      "\u001b[32m  ✓ \u001b[39m\u001b[90mBandedMatrices → BandedMatricesSparseArraysExt\u001b[39m\n",
      "ArrayInterfaceBandedMatricesExt\u001b[33m Waiting for background task / IO / timer.\u001b[39m\n",
      "[pid 243226] waiting for IO to finish:\n",
      " TYPE[FD/PID]       @UV_HANDLE_T->DATA\n",
      " timer              @0x143d4e0->0x7f58f083e6e0\n",
      "\u001b[32m  ✓ \u001b[39m\u001b[90mPlotUtils\u001b[39m\n",
      "\u001b[32m  ✓ \u001b[39m\u001b[90mGroebner\u001b[39m\n",
      "\u001b[32m  ✓ \u001b[39m\u001b[90mPlotThemes\u001b[39m\n",
      "\u001b[32m  ✓ \u001b[39m\u001b[90mRecipesPipeline\u001b[39m\n",
      "\n",
      "\u001b[32m  ✓ \u001b[39m\u001b[90mArrayInterface → ArrayInterfaceBandedMatricesExt\u001b[39m\n",
      "\u001b[32m  ✓ \u001b[39m\u001b[90mRecursiveArrayTools\u001b[39m\n",
      "\u001b[32m  ✓ \u001b[39m\u001b[90mFiniteDiff\u001b[39m\n",
      "\u001b[32m  ✓ \u001b[39m\u001b[90mStaticArrayInterface\u001b[39m\n",
      "\u001b[32m  ✓ \u001b[39m\u001b[90mSciMLOperators\u001b[39m\n",
      "\u001b[32m  ✓ \u001b[39m\u001b[90mNLSolversBase\u001b[39m\n",
      "\u001b[32m  ✓ \u001b[39m\u001b[90mFiniteDiff → FiniteDiffStaticArraysExt\u001b[39m\n",
      "\u001b[32m  ✓ \u001b[39m\u001b[90mCloseOpenIntervals\u001b[39m\n",
      "\u001b[32m  ✓ \u001b[39m\u001b[90mStaticArrayInterface → StaticArrayInterfaceOffsetArraysExt\u001b[39m\n",
      "\u001b[32m  ✓ \u001b[39m\u001b[90mStaticArrayInterface → StaticArrayInterfaceStaticArraysExt\u001b[39m\n",
      "\u001b[32m  ✓ \u001b[39m\u001b[90mFiniteDiff → FiniteDiffBandedMatricesExt\u001b[39m\n",
      "\u001b[32m  ✓ \u001b[39m\u001b[90mLabelledArrays\u001b[39m\n",
      "\u001b[32m  ✓ \u001b[39m\u001b[90mLayoutPointers\u001b[39m\n",
      "\u001b[32m  ✓ \u001b[39m\u001b[90mLineSearches\u001b[39m\n",
      "\u001b[32m  ✓ \u001b[39m\u001b[90mSparseDiffTools\u001b[39m\n",
      "\u001b[32m  ✓ \u001b[39m\u001b[90mStrideArraysCore\u001b[39m\n",
      "\u001b[32m  ✓ \u001b[39m\u001b[90mPolyester\u001b[39m\n",
      "\u001b[32m  ✓ \u001b[39m\u001b[90mNLsolve\u001b[39m\n",
      "\u001b[32m  ✓ \u001b[39m\u001b[90mFastBroadcast\u001b[39m\n",
      "\u001b[32m  ✓ \u001b[39m\u001b[90mOptim\u001b[39m\n",
      "\u001b[32m  ✓ \u001b[39m\u001b[90mSciMLBase\u001b[39m\n",
      "\u001b[32m  ✓ \u001b[39m\u001b[90mVectorizationBase\u001b[39m\n",
      "\u001b[32m  ✓ \u001b[39m\u001b[90mDiffEqBase\u001b[39m\n",
      "\u001b[32m  ✓ \u001b[39m\u001b[90mSLEEFPirates\u001b[39m\n",
      "\u001b[32m  ✓ \u001b[39m\u001b[90mDiffEqBase → DiffEqBaseDistributionsExt\u001b[39m\n",
      "\u001b[32m  ✓ \u001b[39m\u001b[90mDiffEqCallbacks\u001b[39m\n",
      "\u001b[32m  ✓ \u001b[39m\u001b[90mSciMLNLSolve\u001b[39m\n",
      "\u001b[32m  ✓ \u001b[39m\u001b[90mDiffEqBase → DiffEqBaseUnitfulExt\u001b[39m\n",
      "\u001b[32m  ✓ \u001b[39m\u001b[90mSteadyStateDiffEq\u001b[39m\n",
      "\u001b[32m  ✓ \u001b[39m\u001b[90mJumpProcesses\u001b[39m\n",
      "\u001b[32m  ✓ \u001b[39m\u001b[90mBoundaryValueDiffEq\u001b[39m\n",
      "\u001b[32m  ✓ \u001b[39m\u001b[90mDiffEqNoiseProcess\u001b[39m\n",
      "\u001b[32m  ✓ \u001b[39m\u001b[90mSimpleNonlinearSolve\u001b[39m\n",
      "\u001b[32m  ✓ \u001b[39m\u001b[90mSymbolicUtils\u001b[39m\n"
     ]
    }
   ],
   "source": [
    "using Pkg\n",
    "Pkg.instantiate()"
   ]
  },
  {
   "cell_type": "code",
   "execution_count": 3,
   "metadata": {},
   "outputs": [
    {
     "ename": "LoadError",
     "evalue": "ArgumentError: Package CirculatorySystemModels [4211d73e-f4e8-40c4-b600-92e4b82f0e1a] is required but does not seem to be installed:\n - Run `Pkg.instantiate()` to install all recorded dependencies.\n",
     "output_type": "error",
     "traceback": [
      "ArgumentError: Package CirculatorySystemModels [4211d73e-f4e8-40c4-b600-92e4b82f0e1a] is required but does not seem to be installed:\n - Run `Pkg.instantiate()` to install all recorded dependencies.\n",
      "",
      "Stacktrace:",
      "  [1] _require(pkg::Base.PkgId, env::String)",
      "    @ Base ./loading.jl:1920",
      "  [2] __require_prelocked(uuidkey::Base.PkgId, env::String)",
      "    @ Base ./loading.jl:1806",
      "  [3] #invoke_in_world#3",
      "    @ Base ./essentials.jl:921 [inlined]",
      "  [4] invoke_in_world",
      "    @ Base ./essentials.jl:918 [inlined]",
      "  [5] _require_prelocked(uuidkey::Base.PkgId, env::String)",
      "    @ Base ./loading.jl:1797",
      "  [6] macro expansion",
      "    @ Base ./loading.jl:1784 [inlined]",
      "  [7] macro expansion",
      "    @ Base ./lock.jl:267 [inlined]",
      "  [8] __require(into::Module, mod::Symbol)",
      "    @ Base ./loading.jl:1747",
      "  [9] #invoke_in_world#3",
      "    @ Base ./essentials.jl:921 [inlined]",
      " [10] invoke_in_world",
      "    @ Base ./essentials.jl:918 [inlined]",
      " [11] require(into::Module, mod::Symbol)",
      "    @ Base ./loading.jl:1740"
     ]
    }
   ],
   "source": [
    "using CirculatorySystemModels\n",
    "using CirculatorySystemModels.ModelingToolkit\n",
    "using CirculatorySystemModels.DifferentialEquations\n",
    "using Plots, DisplayAs"
   ]
  },
  {
   "cell_type": "markdown",
   "metadata": {},
   "source": [
    "# A simple single-chamber model\n",
    "\n",
    "![Single chamber, closed-loop, lumped parameter model of the systemic circulation and the left ventricle. The circuit equivalent formulation of the model is depicted, with the pressures of each compartment, as well as most of the mechanical parameters. The model describes three compartments: the left ventricular, arterial and venous compartments. 𝑃𝑡ℎ is the intrathoracic pressure, 𝑃𝑙𝑣 is the left ventricular pressure and 𝐸𝑙𝑣(𝑡) indicates the left ventricular elastance function.](./BjordalsbakkeModelSketch.png)\n",
    "\n",
    "\n",
    "This follows Bjørdalsbakke et al.\n",
    "\n",
    "Bjørdalsbakke, N.L., Sturdy, J.T., Hose, D.R., Hellevik, L.R., 2022. Parameter estimation for closed-loop lumped parameter models of the systemic circulation using synthetic data. Mathematical Biosciences 343, 108731. https://doi.org/10.1016/j.mbs.2021.108731\n",
    "\n",
    "\n",
    "Changes from the published version above:\n",
    "\n",
    "- Capacitors are replaced by compliances. These are identical to capacitors, but have an additional parameter, the unstrained volume $V_0$, which allows for realistic blood volume modelling.\n",
    "  Compliances have an inlet and an oulet in line with the flow, rather than the ground connector of the dangling capacitor.\n",
    "- The aortic resistor is combined with the valve (diode) in the `ResistorDiode` element.\n",
    "\n",
    "[Jupyter Notebook](./BjordalsbakkeModel.ipynb)"
   ]
  },
  {
   "cell_type": "markdown",
   "metadata": {},
   "source": [
    "## Define the parameters\n",
    "\n",
    "All the parameters are taken from table 1 of [Bjørdalsbakke2022]."
   ]
  },
  {
   "cell_type": "markdown",
   "metadata": {},
   "source": [
    "Cycle time in seconds"
   ]
  },
  {
   "cell_type": "code",
   "execution_count": 2,
   "metadata": {},
   "outputs": [
    {
     "data": {
      "text/plain": [
       "0.85"
      ]
     },
     "execution_count": 2,
     "metadata": {},
     "output_type": "execute_result"
    }
   ],
   "source": [
    "τ = 0.85"
   ]
  },
  {
   "cell_type": "markdown",
   "metadata": {},
   "source": [
    "Double Hill parameters for the ventricle"
   ]
  },
  {
   "cell_type": "code",
   "execution_count": 3,
   "metadata": {},
   "outputs": [
    {
     "data": {
      "text/plain": [
       "0.4318"
      ]
     },
     "execution_count": 3,
     "metadata": {},
     "output_type": "execute_result"
    }
   ],
   "source": [
    "Eₘᵢₙ = 0.03\n",
    "Eₘₐₓ = 1.5\n",
    "n1LV    = 1.32;\n",
    "n2LV    = 21.9;\n",
    "Tau1fLV = 0.303 * τ;\n",
    "Tau2fLV = 0.508 * τ"
   ]
  },
  {
   "cell_type": "markdown",
   "metadata": {},
   "source": [
    "Resistances and Compliances"
   ]
  },
  {
   "cell_type": "code",
   "execution_count": 4,
   "metadata": {},
   "outputs": [
    {
     "data": {
      "text/plain": [
       "11.0"
      ]
     },
     "execution_count": 4,
     "metadata": {},
     "output_type": "execute_result"
    }
   ],
   "source": [
    "Rs = 1.11\n",
    "Csa = 1.13\n",
    "Csv = 11.0"
   ]
  },
  {
   "cell_type": "markdown",
   "metadata": {},
   "source": [
    "Valve parameters\n",
    "\n",
    "Aortic valve basic"
   ]
  },
  {
   "cell_type": "code",
   "execution_count": 5,
   "metadata": {},
   "outputs": [
    {
     "data": {
      "text/plain": [
       "0.033"
      ]
     },
     "execution_count": 5,
     "metadata": {},
     "output_type": "execute_result"
    }
   ],
   "source": [
    "Zao = 0.033"
   ]
  },
  {
   "cell_type": "markdown",
   "metadata": {},
   "source": [
    "Mitral valve basic"
   ]
  },
  {
   "cell_type": "code",
   "execution_count": 6,
   "metadata": {},
   "outputs": [
    {
     "data": {
      "text/plain": [
       "0.006"
      ]
     },
     "execution_count": 6,
     "metadata": {},
     "output_type": "execute_result"
    }
   ],
   "source": [
    "Rmv = 0.006"
   ]
  },
  {
   "cell_type": "markdown",
   "metadata": {},
   "source": [
    "Inital Pressure (mean cardiac filling pressure)"
   ]
  },
  {
   "cell_type": "code",
   "execution_count": 7,
   "metadata": {},
   "outputs": [
    {
     "data": {
      "text/plain": [
       "7.0"
      ]
     },
     "execution_count": 7,
     "metadata": {},
     "output_type": "execute_result"
    }
   ],
   "source": [
    "MCFP = 7.0"
   ]
  },
  {
   "cell_type": "markdown",
   "metadata": {},
   "source": [
    "## Calculating the additional `k` parameter\n",
    "\n",
    "The ventricle elastance is modelled as:\n",
    "\n",
    "$$E_{l v}(t)=\\left(E_{\\max }-E_{\\min }\\right) e(t)+E_{\\min }$$\n",
    "\n",
    "where $e$ is a double-Hill function, i.e., two Hill-functions, which are multiplied by each other:\n",
    "\n",
    "$$e(\\tau)= k \\times \\frac{\\left(\\tau / \\tau_1\\right)^{n_1}}{1+\\left(\\tau / \\tau_1\\right)^{n_1}} \\times \\frac{1}{1+\\left(\\tau / \\tau_2\\right)^{n_2}}$$\n",
    "\n",
    "and $k$ is a scaling factor to assure that $e(t)$ has a maximum of $e(t)_{max} = 1$:\n",
    "\n",
    "$$k = \\max \\left(\\frac{\\left(\\tau / \\tau_1\\right)^{n_1}}{1+\\left(\\tau / \\tau_1\\right)^{n_1}} \\times \\frac{1}{1+\\left(\\tau / \\tau_2\\right)^{n_2}} \\right)^{-1}$$"
   ]
  },
  {
   "cell_type": "code",
   "execution_count": 8,
   "metadata": {},
   "outputs": [
    {
     "data": {
      "text/plain": [
       "1.6721792928965973"
      ]
     },
     "execution_count": 8,
     "metadata": {},
     "output_type": "execute_result"
    }
   ],
   "source": [
    "nstep = 1000\n",
    "t = LinRange(0, τ, nstep)\n",
    "\n",
    "kLV = 1 / maximum((t ./ Tau1fLV).^n1LV ./ (1 .+ (t ./ Tau1fLV).^n1LV) .* 1 ./ (1 .+ (t ./ Tau2fLV).^n2LV))"
   ]
  },
  {
   "cell_type": "markdown",
   "metadata": {},
   "source": [
    "## Set up the model elements\n",
    "\n",
    "Set up time as a variable `t`"
   ]
  },
  {
   "cell_type": "code",
   "execution_count": 9,
   "metadata": {},
   "outputs": [
    {
     "data": {
      "text/latex": [
       "$$ \\begin{equation}\n",
       "\\left[\n",
       "\\begin{array}{c}\n",
       "t \\\\\n",
       "\\end{array}\n",
       "\\right]\n",
       "\\end{equation}\n",
       " $$"
      ],
      "text/plain": [
       "1-element Vector{Symbolics.Num}:\n",
       " t"
      ]
     },
     "execution_count": 9,
     "metadata": {},
     "output_type": "execute_result"
    }
   ],
   "source": [
    "@variables t"
   ]
  },
  {
   "cell_type": "markdown",
   "metadata": {},
   "source": [
    "Heart is modelled as a single chamber (we call it `LV` for \"Left Ventricle\" so the model can be extended later, if required):"
   ]
  },
  {
   "cell_type": "code",
   "execution_count": 10,
   "metadata": {},
   "outputs": [
    {
     "data": {
      "text/latex": [
       "$$ \\begin{align}\n",
       "0 =&  - out_{+}p\\left( t \\right) + in_{+}p\\left( t \\right) \\\\\n",
       "p\\left( t \\right) =& in_{+}p\\left( t \\right) \\\\\n",
       "V\\left( t \\right) =& V_0 + \\frac{p\\left( t \\right)}{E_{m i n} + \\frac{\\left( \\frac{\\mathrm{rem}\\left( t + \\tau \\left( 1 - Eshift \\right), \\tau \\right)}{\\tau_1} \\right)^{n_1} k \\left( E_{m a x} - E_{m i n} \\right)}{\\left( 1 + \\left( \\frac{\\mathrm{rem}\\left( t + \\tau \\left( 1 - Eshift \\right), \\tau \\right)}{\\tau_1} \\right)^{n_1} \\right) \\left( 1 + \\left( \\frac{\\mathrm{rem}\\left( t + \\tau \\left( 1 - Eshift \\right), \\tau \\right)}{\\tau_2} \\right)^{n_2} \\right)}} \\\\\n",
       "\\frac{\\mathrm{d} p\\left( t \\right)}{\\mathrm{d}t} =& \\frac{\\left( E_{m i n} + \\frac{\\left( \\frac{\\mathrm{rem}\\left( t + \\tau \\left( 1 - Eshift \\right), \\tau \\right)}{\\tau_1} \\right)^{n_1} k \\left( E_{m a x} - E_{m i n} \\right)}{\\left( 1 + \\left( \\frac{\\mathrm{rem}\\left( t + \\tau \\left( 1 - Eshift \\right), \\tau \\right)}{\\tau_1} \\right)^{n_1} \\right) \\left( 1 + \\left( \\frac{\\mathrm{rem}\\left( t + \\tau \\left( 1 - Eshift \\right), \\tau \\right)}{\\tau_2} \\right)^{n_2} \\right)} \\right) \\left( in_{+}q\\left( t \\right) + out_{+}q\\left( t \\right) \\right)}{1 + \\frac{E_{m i n} + \\frac{\\left( \\frac{\\mathrm{rem}\\left( t + \\tau \\left( 1 - Eshift \\right), \\tau \\right)}{\\tau_1} \\right)^{n_1} k \\left( E_{m a x} - E_{m i n} \\right)}{\\left( 1 + \\left( \\frac{\\mathrm{rem}\\left( t + \\tau \\left( 1 - Eshift \\right), \\tau \\right)}{\\tau_1} \\right)^{n_1} \\right) \\left( 1 + \\left( \\frac{\\mathrm{rem}\\left( t + \\tau \\left( 1 - Eshift \\right), \\tau \\right)}{\\tau_2} \\right)^{n_2} \\right)}}{Ev}} + \\frac{k \\left( E_{m a x} - E_{m i n} \\right) \\left( \\left( \\mathrm{rem}\\left( t + \\tau \\left( 1 - Eshift \\right), \\tau \\right) \\right)^{n_1} \\tau_2^{n_2} \\left(  - \\left( \\mathrm{rem}\\left( t + \\tau \\left( 1 - Eshift \\right), \\tau \\right) \\right)^{-1 + n_1 + n_2} \\left( n_1 + n_2 \\right) - \\left( \\mathrm{rem}\\left( t + \\tau \\left( 1 - Eshift \\right), \\tau \\right) \\right)^{-1 + n_2} \\tau_1^{n_1} n_2 - \\left( \\mathrm{rem}\\left( t + \\tau \\left( 1 - Eshift \\right), \\tau \\right) \\right)^{-1 + n_1} \\tau_2^{n_2} n_1 \\right) + \\left( \\mathrm{rem}\\left( t + \\tau \\left( 1 - Eshift \\right), \\tau \\right) \\right)^{-1 + n_1} \\tau_2^{n_2} n_1 \\left( \\tau_2^{n_2} \\tau_1^{n_1} + \\left( \\mathrm{rem}\\left( t + \\tau \\left( 1 - Eshift \\right), \\tau \\right) \\right)^{n_2} \\tau_1^{n_1} + \\left( \\mathrm{rem}\\left( t + \\tau \\left( 1 - Eshift \\right), \\tau \\right) \\right)^{n_1} \\tau_2^{n_2} + \\left( \\mathrm{rem}\\left( t + \\tau \\left( 1 - Eshift \\right), \\tau \\right) \\right)^{n_1 + n_2} \\right) \\right) p\\left( t \\right)}{\\left( \\tau_2^{n_2} \\tau_1^{n_1} + \\left( \\mathrm{rem}\\left( t + \\tau \\left( 1 - Eshift \\right), \\tau \\right) \\right)^{n_2} \\tau_1^{n_1} + \\left( \\mathrm{rem}\\left( t + \\tau \\left( 1 - Eshift \\right), \\tau \\right) \\right)^{n_1} \\tau_2^{n_2} + \\left( \\mathrm{rem}\\left( t + \\tau \\left( 1 - Eshift \\right), \\tau \\right) \\right)^{n_1 + n_2} \\right)^{2} \\left( 1 + \\frac{E_{m i n} + \\frac{\\left( \\frac{\\mathrm{rem}\\left( t + \\tau \\left( 1 - Eshift \\right), \\tau \\right)}{\\tau_1} \\right)^{n_1} k \\left( E_{m a x} - E_{m i n} \\right)}{\\left( 1 + \\left( \\frac{\\mathrm{rem}\\left( t + \\tau \\left( 1 - Eshift \\right), \\tau \\right)}{\\tau_1} \\right)^{n_1} \\right) \\left( 1 + \\left( \\frac{\\mathrm{rem}\\left( t + \\tau \\left( 1 - Eshift \\right), \\tau \\right)}{\\tau_2} \\right)^{n_2} \\right)}}{Ev} \\right) \\left( E_{m i n} + \\frac{\\left( \\frac{\\mathrm{rem}\\left( t + \\tau \\left( 1 - Eshift \\right), \\tau \\right)}{\\tau_1} \\right)^{n_1} k \\left( E_{m a x} - E_{m i n} \\right)}{\\left( 1 + \\left( \\frac{\\mathrm{rem}\\left( t + \\tau \\left( 1 - Eshift \\right), \\tau \\right)}{\\tau_1} \\right)^{n_1} \\right) \\left( 1 + \\left( \\frac{\\mathrm{rem}\\left( t + \\tau \\left( 1 - Eshift \\right), \\tau \\right)}{\\tau_2} \\right)^{n_2} \\right)} \\right)}\n",
       "\\end{align}\n",
       " $$"
      ],
      "text/plain": [
       "\u001b[0m\u001b[1mModel LV with 4 \u001b[22m\u001b[0m\u001b[1m(\u001b[22m\u001b[35m\u001b[1m6\u001b[22m\u001b[39m\u001b[0m\u001b[1m) \u001b[22m\u001b[0m\u001b[1mequations\u001b[22m\n",
       "\u001b[0m\u001b[1mStates (6):\u001b[22m\n",
       "  V(t) [defaults to 2.0]\n",
       "  p(t) [defaults to 0.0]\n",
       "  in₊p(t) [defaults to 1.0]\n",
       "  in₊q(t) [defaults to 1.0]\n",
       "⋮\n",
       "\u001b[0m\u001b[1mParameters (11):\u001b[22m\n",
       "  V₀ [defaults to 0.0]\n",
       "  Eₘᵢₙ [defaults to 0.03]\n",
       "  Eₘₐₓ [defaults to 1.5]\n",
       "  n₁ [defaults to 1.32]\n",
       "⋮"
      ]
     },
     "execution_count": 10,
     "metadata": {},
     "output_type": "execute_result"
    }
   ],
   "source": [
    "@named LV = DHChamber(V₀ = 0.0, Eₘₐₓ=Eₘₐₓ, Eₘᵢₙ=Eₘᵢₙ, n₁=n1LV, n₂=n2LV, τ = τ, τ₁=Tau1fLV, τ₂=Tau2fLV, k = kLV, Eshift=0.0, Ev=Inf)"
   ]
  },
  {
   "cell_type": "markdown",
   "metadata": {},
   "source": [
    "The two valves are simple diodes with a small resistance\n",
    "(resistance is needed, since perfect diodes would connect two elastances/compliances, which will lead to unstable oscillations):"
   ]
  },
  {
   "cell_type": "code",
   "execution_count": 11,
   "metadata": {},
   "outputs": [
    {
     "data": {
      "text/latex": [
       "$$ \\begin{align}\n",
       "{\\Delta}p\\left( t \\right) =&  - in_{+}p\\left( t \\right) + out_{+}p\\left( t \\right) \\\\\n",
       "0 =& in_{+}q\\left( t \\right) + out_{+}q\\left( t \\right) \\\\\n",
       "q\\left( t \\right) =& in_{+}q\\left( t \\right) \\\\\n",
       "q\\left( t \\right) =& \\frac{ - {\\Delta}p\\left( t \\right) \\left( {\\Delta}p\\left( t \\right) < 0 \\right)}{R}\n",
       "\\end{align}\n",
       " $$"
      ],
      "text/plain": [
       "\u001b[0m\u001b[1mModel MV with 4 \u001b[22m\u001b[0m\u001b[1m(\u001b[22m\u001b[35m\u001b[1m6\u001b[22m\u001b[39m\u001b[0m\u001b[1m) \u001b[22m\u001b[0m\u001b[1mequations\u001b[22m\n",
       "\u001b[0m\u001b[1mStates (6):\u001b[22m\n",
       "  Δp(t) [defaults to 0.0]\n",
       "  q(t) [defaults to 0.0]\n",
       "  in₊p(t) [defaults to 1.0]\n",
       "  in₊q(t) [defaults to 1.0]\n",
       "⋮\n",
       "\u001b[0m\u001b[1mParameters (1):\u001b[22m\n",
       "  R [defaults to 0.006]"
      ]
     },
     "execution_count": 11,
     "metadata": {},
     "output_type": "execute_result"
    }
   ],
   "source": [
    "@named AV = ResistorDiode(R=Zao)\n",
    "@named MV = ResistorDiode(R=Rmv)"
   ]
  },
  {
   "cell_type": "markdown",
   "metadata": {},
   "source": [
    "The main components of the circuit are 1 resistor `Rs` and two compliances for systemic arteries `Csa`,\n",
    "and systemic veins `Csv` (names are arbitrary)."
   ]
  },
  {
   "cell_type": "code",
   "execution_count": 12,
   "metadata": {},
   "outputs": [
    {
     "data": {
      "text/latex": [
       "$$ \\begin{align}\n",
       "0 =&  - out_{+}p\\left( t \\right) + in_{+}p\\left( t \\right) \\\\\n",
       "p\\left( t \\right) =& in_{+}p\\left( t \\right) \\\\\n",
       "V\\left( t \\right) =& V_0 + C p\\left( t \\right) \\\\\n",
       "\\frac{\\mathrm{d} p\\left( t \\right)}{\\mathrm{d}t} =& \\frac{in_{+}q\\left( t \\right) + out_{+}q\\left( t \\right)}{C}\n",
       "\\end{align}\n",
       " $$"
      ],
      "text/plain": [
       "\u001b[0m\u001b[1mModel Csv with 4 \u001b[22m\u001b[0m\u001b[1m(\u001b[22m\u001b[35m\u001b[1m6\u001b[22m\u001b[39m\u001b[0m\u001b[1m) \u001b[22m\u001b[0m\u001b[1mequations\u001b[22m\n",
       "\u001b[0m\u001b[1mStates (6):\u001b[22m\n",
       "  V(t) [defaults to 0.0]\n",
       "  p(t) [defaults to 0.0]\n",
       "  in₊p(t) [defaults to 1.0]\n",
       "  in₊q(t) [defaults to 1.0]\n",
       "⋮\n",
       "\u001b[0m\u001b[1mParameters (2):\u001b[22m\n",
       "  V₀ [defaults to 0.0]\n",
       "  C [defaults to 11.0]"
      ]
     },
     "execution_count": 12,
     "metadata": {},
     "output_type": "execute_result"
    }
   ],
   "source": [
    "@named Rs = Resistor(R=Rs)\n",
    "\n",
    "@named Csa = Compliance(C=Csa)\n",
    "@named Csv = Compliance(C=Csv)"
   ]
  },
  {
   "cell_type": "markdown",
   "metadata": {},
   "source": [
    "We also need to define a base pressure level, which we use the `Ground` element for:"
   ]
  },
  {
   "cell_type": "code",
   "execution_count": 13,
   "metadata": {},
   "outputs": [
    {
     "data": {
      "text/latex": [
       "$$ \\begin{align}\n",
       "g_{+}p\\left( t \\right) =& P\n",
       "\\end{align}\n",
       " $$"
      ],
      "text/plain": [
       "\u001b[0m\u001b[1mModel ground with 1 \u001b[22m\u001b[0m\u001b[1m(\u001b[22m\u001b[35m\u001b[1m2\u001b[22m\u001b[39m\u001b[0m\u001b[1m) \u001b[22m\u001b[0m\u001b[1mequations\u001b[22m\n",
       "\u001b[0m\u001b[1mStates (2):\u001b[22m\n",
       "  g₊p(t) [defaults to 1.0]\n",
       "  g₊q(t) [defaults to 1.0]\n",
       "\u001b[0m\u001b[1mParameters (1):\u001b[22m\n",
       "  P [defaults to 0]"
      ]
     },
     "execution_count": 13,
     "metadata": {},
     "output_type": "execute_result"
    }
   ],
   "source": [
    "@named ground = Ground(P=0)"
   ]
  },
  {
   "cell_type": "markdown",
   "metadata": {},
   "source": [
    "## Build the system\n",
    "\n",
    "### Connections\n",
    "\n",
    "The system is built using the `connect` function. `connect` sets up the Kirchhoff laws:\n",
    "\n",
    "- pressures are the same in all connected branches on a connector\n",
    "- sum of all flow rates at a connector is zero\n",
    "\n",
    "The resulting set of Kirchhoff equations is stored in `circ_eqs`:"
   ]
  },
  {
   "cell_type": "code",
   "execution_count": 14,
   "metadata": {},
   "outputs": [
    {
     "data": {
      "text/latex": [
       "$$ \\begin{equation}\n",
       "\\left[\n",
       "\\begin{array}{c}\n",
       "\\mathrm{connect}\\left( LV_{+}out, AV_{+}in \\right) \\\\\n",
       "\\mathrm{connect}\\left( AV_{+}out, Csa_{+}in \\right) \\\\\n",
       "\\mathrm{connect}\\left( Csa_{+}out, Rs_{+}in \\right) \\\\\n",
       "\\mathrm{connect}\\left( Rs_{+}out, Csv_{+}in \\right) \\\\\n",
       "\\mathrm{connect}\\left( Csv_{+}out, MV_{+}in \\right) \\\\\n",
       "\\mathrm{connect}\\left( MV_{+}out, LV_{+}in \\right) \\\\\n",
       "\\end{array}\n",
       "\\right]\n",
       "\\end{equation}\n",
       " $$"
      ],
      "text/plain": [
       "6-element Vector{Symbolics.Equation}:\n",
       " connect(LV.out, AV.in)\n",
       " connect(AV.out, Csa.in)\n",
       " connect(Csa.out, Rs.in)\n",
       " connect(Rs.out, Csv.in)\n",
       " connect(Csv.out, MV.in)\n",
       " connect(MV.out, LV.in)"
      ]
     },
     "execution_count": 14,
     "metadata": {},
     "output_type": "execute_result"
    }
   ],
   "source": [
    "circ_eqs = [\n",
    "    connect(LV.out, AV.in)\n",
    "    connect(AV.out, Csa.in)\n",
    "    connect(Csa.out, Rs.in)\n",
    "    connect(Rs.out, Csv.in)\n",
    "    connect(Csv.out, MV.in)\n",
    "    connect(MV.out, LV.in)\n",
    "]"
   ]
  },
  {
   "cell_type": "markdown",
   "metadata": {},
   "source": [
    "### Add the component equations\n",
    "\n",
    "In a second step, the system of Kirchhoff equations is completed by the component equations (both ODEs and AEs), resulting in the full, overdefined ODE set `circ_model`.\n",
    "\n",
    "_Note: we do this in two steps._"
   ]
  },
  {
   "cell_type": "code",
   "execution_count": 15,
   "metadata": {},
   "outputs": [
    {
     "data": {
      "text/latex": [
       "$$ \\begin{equation}\n",
       "\\left[\n",
       "\\begin{array}{c}\n",
       "\\mathrm{connect}\\left( LV_{+}out, AV_{+}in \\right) \\\\\n",
       "\\mathrm{connect}\\left( AV_{+}out, Csa_{+}in \\right) \\\\\n",
       "\\mathrm{connect}\\left( Csa_{+}out, Rs_{+}in \\right) \\\\\n",
       "\\mathrm{connect}\\left( Rs_{+}out, Csv_{+}in \\right) \\\\\n",
       "\\mathrm{connect}\\left( Csv_{+}out, MV_{+}in \\right) \\\\\n",
       "\\mathrm{connect}\\left( MV_{+}out, LV_{+}in \\right) \\\\\n",
       "0 =  - LV_{+}out_{+}p\\left( t \\right) + LV_{+}in_{+}p\\left( t \\right) \\\\\n",
       "LV_{+}p\\left( t \\right) = LV_{+}in_{+}p\\left( t \\right) \\\\\n",
       "LV_{+}V\\left( t \\right) = LV_{+}V_0 + \\frac{LV_{+}p\\left( t \\right)}{LV_{+}E_{m i n} + \\frac{\\left( \\frac{\\mathrm{rem}\\left( t + LV_+\\tau \\left( 1 - LV_{+}Eshift \\right), LV_+\\tau \\right)}{LV_+\\tau_1} \\right)^{LV_{+}n_1} LV_{+}k \\left( LV_{+}E_{m a x} - LV_{+}E_{m i n} \\right)}{\\left( 1 + \\left( \\frac{\\mathrm{rem}\\left( t + LV_+\\tau \\left( 1 - LV_{+}Eshift \\right), LV_+\\tau \\right)}{LV_+\\tau_1} \\right)^{LV_{+}n_1} \\right) \\left( 1 + \\left( \\frac{\\mathrm{rem}\\left( t + LV_+\\tau \\left( 1 - LV_{+}Eshift \\right), LV_+\\tau \\right)}{LV_+\\tau_2} \\right)^{LV_{+}n_2} \\right)}} \\\\\n",
       "\\frac{\\mathrm{d} LV_{+}p\\left( t \\right)}{\\mathrm{d}t} = \\frac{\\left( LV_{+}E_{m i n} + \\frac{\\left( \\frac{\\mathrm{rem}\\left( t + LV_+\\tau \\left( 1 - LV_{+}Eshift \\right), LV_+\\tau \\right)}{LV_+\\tau_1} \\right)^{LV_{+}n_1} LV_{+}k \\left( LV_{+}E_{m a x} - LV_{+}E_{m i n} \\right)}{\\left( 1 + \\left( \\frac{\\mathrm{rem}\\left( t + LV_+\\tau \\left( 1 - LV_{+}Eshift \\right), LV_+\\tau \\right)}{LV_+\\tau_1} \\right)^{LV_{+}n_1} \\right) \\left( 1 + \\left( \\frac{\\mathrm{rem}\\left( t + LV_+\\tau \\left( 1 - LV_{+}Eshift \\right), LV_+\\tau \\right)}{LV_+\\tau_2} \\right)^{LV_{+}n_2} \\right)} \\right) \\left( LV_{+}in_{+}q\\left( t \\right) + LV_{+}out_{+}q\\left( t \\right) \\right)}{1 + \\frac{LV_{+}E_{m i n} + \\frac{\\left( \\frac{\\mathrm{rem}\\left( t + LV_+\\tau \\left( 1 - LV_{+}Eshift \\right), LV_+\\tau \\right)}{LV_+\\tau_1} \\right)^{LV_{+}n_1} LV_{+}k \\left( LV_{+}E_{m a x} - LV_{+}E_{m i n} \\right)}{\\left( 1 + \\left( \\frac{\\mathrm{rem}\\left( t + LV_+\\tau \\left( 1 - LV_{+}Eshift \\right), LV_+\\tau \\right)}{LV_+\\tau_1} \\right)^{LV_{+}n_1} \\right) \\left( 1 + \\left( \\frac{\\mathrm{rem}\\left( t + LV_+\\tau \\left( 1 - LV_{+}Eshift \\right), LV_+\\tau \\right)}{LV_+\\tau_2} \\right)^{LV_{+}n_2} \\right)}}{LV_{+}Ev}} + \\frac{LV_{+}k \\left( LV_{+}E_{m a x} - LV_{+}E_{m i n} \\right) \\left( \\left( \\mathrm{rem}\\left( t + LV_+\\tau \\left( 1 - LV_{+}Eshift \\right), LV_+\\tau \\right) \\right)^{LV_{+}n_1} LV_+\\tau_2^{LV_{+}n_2} \\left( \\left( \\mathrm{rem}\\left( t + LV_+\\tau \\left( 1 - LV_{+}Eshift \\right), LV_+\\tau \\right) \\right)^{-1 + LV_{+}n_1 + LV_{+}n_2} \\left(  - LV_{+}n_1 - LV_{+}n_2 \\right) - \\left( \\mathrm{rem}\\left( t + LV_+\\tau \\left( 1 - LV_{+}Eshift \\right), LV_+\\tau \\right) \\right)^{-1 + LV_{+}n_1} LV_+\\tau_2^{LV_{+}n_2} LV_{+}n_1 - \\left( \\mathrm{rem}\\left( t + LV_+\\tau \\left( 1 - LV_{+}Eshift \\right), LV_+\\tau \\right) \\right)^{-1 + LV_{+}n_2} LV_+\\tau_1^{LV_{+}n_1} LV_{+}n_2 \\right) + \\left( \\mathrm{rem}\\left( t + LV_+\\tau \\left( 1 - LV_{+}Eshift \\right), LV_+\\tau \\right) \\right)^{-1 + LV_{+}n_1} LV_+\\tau_2^{LV_{+}n_2} LV_{+}n_1 \\left( LV_+\\tau_2^{LV_{+}n_2} LV_+\\tau_1^{LV_{+}n_1} + \\left( \\mathrm{rem}\\left( t + LV_+\\tau \\left( 1 - LV_{+}Eshift \\right), LV_+\\tau \\right) \\right)^{LV_{+}n_2} LV_+\\tau_1^{LV_{+}n_1} + \\left( \\mathrm{rem}\\left( t + LV_+\\tau \\left( 1 - LV_{+}Eshift \\right), LV_+\\tau \\right) \\right)^{LV_{+}n_1} LV_+\\tau_2^{LV_{+}n_2} + \\left( \\mathrm{rem}\\left( t + LV_+\\tau \\left( 1 - LV_{+}Eshift \\right), LV_+\\tau \\right) \\right)^{LV_{+}n_1 + LV_{+}n_2} \\right) \\right) LV_{+}p\\left( t \\right)}{\\left( LV_+\\tau_2^{LV_{+}n_2} LV_+\\tau_1^{LV_{+}n_1} + \\left( \\mathrm{rem}\\left( t + LV_+\\tau \\left( 1 - LV_{+}Eshift \\right), LV_+\\tau \\right) \\right)^{LV_{+}n_2} LV_+\\tau_1^{LV_{+}n_1} + \\left( \\mathrm{rem}\\left( t + LV_+\\tau \\left( 1 - LV_{+}Eshift \\right), LV_+\\tau \\right) \\right)^{LV_{+}n_1} LV_+\\tau_2^{LV_{+}n_2} + \\left( \\mathrm{rem}\\left( t + LV_+\\tau \\left( 1 - LV_{+}Eshift \\right), LV_+\\tau \\right) \\right)^{LV_{+}n_1 + LV_{+}n_2} \\right)^{2} \\left( 1 + \\frac{LV_{+}E_{m i n} + \\frac{\\left( \\frac{\\mathrm{rem}\\left( t + LV_+\\tau \\left( 1 - LV_{+}Eshift \\right), LV_+\\tau \\right)}{LV_+\\tau_1} \\right)^{LV_{+}n_1} LV_{+}k \\left( LV_{+}E_{m a x} - LV_{+}E_{m i n} \\right)}{\\left( 1 + \\left( \\frac{\\mathrm{rem}\\left( t + LV_+\\tau \\left( 1 - LV_{+}Eshift \\right), LV_+\\tau \\right)}{LV_+\\tau_1} \\right)^{LV_{+}n_1} \\right) \\left( 1 + \\left( \\frac{\\mathrm{rem}\\left( t + LV_+\\tau \\left( 1 - LV_{+}Eshift \\right), LV_+\\tau \\right)}{LV_+\\tau_2} \\right)^{LV_{+}n_2} \\right)}}{LV_{+}Ev} \\right) \\left( LV_{+}E_{m i n} + \\frac{\\left( \\frac{\\mathrm{rem}\\left( t + LV_+\\tau \\left( 1 - LV_{+}Eshift \\right), LV_+\\tau \\right)}{LV_+\\tau_1} \\right)^{LV_{+}n_1} LV_{+}k \\left( LV_{+}E_{m a x} - LV_{+}E_{m i n} \\right)}{\\left( 1 + \\left( \\frac{\\mathrm{rem}\\left( t + LV_+\\tau \\left( 1 - LV_{+}Eshift \\right), LV_+\\tau \\right)}{LV_+\\tau_1} \\right)^{LV_{+}n_1} \\right) \\left( 1 + \\left( \\frac{\\mathrm{rem}\\left( t + LV_+\\tau \\left( 1 - LV_{+}Eshift \\right), LV_+\\tau \\right)}{LV_+\\tau_2} \\right)^{LV_{+}n_2} \\right)} \\right)} \\\\\n",
       "AV_+{\\Delta}p\\left( t \\right) =  - AV_{+}in_{+}p\\left( t \\right) + AV_{+}out_{+}p\\left( t \\right) \\\\\n",
       "0 = AV_{+}in_{+}q\\left( t \\right) + AV_{+}out_{+}q\\left( t \\right) \\\\\n",
       "AV_{+}q\\left( t \\right) = AV_{+}in_{+}q\\left( t \\right) \\\\\n",
       "AV_{+}q\\left( t \\right) = \\frac{ - AV_+{\\Delta}p\\left( t \\right) \\left( AV_+{\\Delta}p\\left( t \\right) < 0 \\right)}{AV_{+}R} \\\\\n",
       "MV_+{\\Delta}p\\left( t \\right) =  - MV_{+}in_{+}p\\left( t \\right) + MV_{+}out_{+}p\\left( t \\right) \\\\\n",
       "0 = MV_{+}in_{+}q\\left( t \\right) + MV_{+}out_{+}q\\left( t \\right) \\\\\n",
       "MV_{+}q\\left( t \\right) = MV_{+}in_{+}q\\left( t \\right) \\\\\n",
       "MV_{+}q\\left( t \\right) = \\frac{ - MV_+{\\Delta}p\\left( t \\right) \\left( MV_+{\\Delta}p\\left( t \\right) < 0 \\right)}{MV_{+}R} \\\\\n",
       "Rs_+{\\Delta}p\\left( t \\right) =  - Rs_{+}in_{+}p\\left( t \\right) + Rs_{+}out_{+}p\\left( t \\right) \\\\\n",
       "0 = Rs_{+}in_{+}q\\left( t \\right) + Rs_{+}out_{+}q\\left( t \\right) \\\\\n",
       "Rs_{+}q\\left( t \\right) = Rs_{+}in_{+}q\\left( t \\right) \\\\\n",
       "Rs_+{\\Delta}p\\left( t \\right) =  - Rs_{+}R Rs_{+}q\\left( t \\right) \\\\\n",
       "0 =  - Csa_{+}out_{+}p\\left( t \\right) + Csa_{+}in_{+}p\\left( t \\right) \\\\\n",
       "Csa_{+}p\\left( t \\right) = Csa_{+}in_{+}p\\left( t \\right) \\\\\n",
       "Csa_{+}V\\left( t \\right) = Csa_{+}V_0 + Csa_{+}C Csa_{+}p\\left( t \\right) \\\\\n",
       "\\frac{\\mathrm{d} Csa_{+}p\\left( t \\right)}{\\mathrm{d}t} = \\frac{Csa_{+}in_{+}q\\left( t \\right) + Csa_{+}out_{+}q\\left( t \\right)}{Csa_{+}C} \\\\\n",
       "0 =  - Csv_{+}out_{+}p\\left( t \\right) + Csv_{+}in_{+}p\\left( t \\right) \\\\\n",
       "Csv_{+}p\\left( t \\right) = Csv_{+}in_{+}p\\left( t \\right) \\\\\n",
       "Csv_{+}V\\left( t \\right) = Csv_{+}V_0 + Csv_{+}C Csv_{+}p\\left( t \\right) \\\\\n",
       "\\frac{\\mathrm{d} Csv_{+}p\\left( t \\right)}{\\mathrm{d}t} = \\frac{Csv_{+}in_{+}q\\left( t \\right) + Csv_{+}out_{+}q\\left( t \\right)}{Csv_{+}C} \\\\\n",
       "ground_{+}g_{+}p\\left( t \\right) = ground_{+}P \\\\\n",
       "\\end{array}\n",
       "\\right]\n",
       "\\end{equation}\n",
       " $$"
      ],
      "text/plain": [
       "\u001b[0m\u001b[1mModel circ_model with 25 \u001b[22m\u001b[0m\u001b[1m(\u001b[22m\u001b[35m\u001b[1m38\u001b[22m\u001b[39m\u001b[0m\u001b[1m) \u001b[22m\u001b[0m\u001b[1mequations\u001b[22m\n",
       "\u001b[0m\u001b[1mStates (38):\u001b[22m\n",
       "  LV₊V(t) [defaults to 2.0]\n",
       "  LV₊p(t) [defaults to 0.0]\n",
       "  LV₊in₊p(t) [defaults to 1.0]\n",
       "  LV₊in₊q(t) [defaults to 1.0]\n",
       "⋮\n",
       "\u001b[0m\u001b[1mParameters (19):\u001b[22m\n",
       "  LV₊V₀ [defaults to 0.0]\n",
       "  LV₊Eₘᵢₙ [defaults to 0.03]\n",
       "  LV₊Eₘₐₓ [defaults to 1.5]\n",
       "  LV₊n₁ [defaults to 1.32]\n",
       "⋮"
      ]
     },
     "execution_count": 15,
     "metadata": {},
     "output_type": "execute_result"
    }
   ],
   "source": [
    "@named _circ_model = ODESystem(circ_eqs, t)\n",
    "\n",
    "@named circ_model = compose(_circ_model,\n",
    "                          [LV, AV, MV, Rs, Csa, Csv, ground])"
   ]
  },
  {
   "cell_type": "markdown",
   "metadata": {},
   "source": [
    "### Simplify the ODE system\n",
    "\n",
    "The crucial step in any acausal modelling is the sympification and reduction of the OD(A)E system to the minimal set of equations. ModelingToolkit.jl does this in the `structural_simplify` function."
   ]
  },
  {
   "cell_type": "code",
   "execution_count": 16,
   "metadata": {},
   "outputs": [
    {
     "data": {
      "text/latex": [
       "$$ \\begin{align}\n",
       "\\frac{\\mathrm{d} LV_{+}p\\left( t \\right)}{\\mathrm{d}t} =& \\frac{\\left( LV_{+}E_{m i n} + \\frac{\\left( \\frac{\\mathrm{rem}\\left( t + LV_+\\tau \\left( 1 - LV_{+}Eshift \\right), LV_+\\tau \\right)}{LV_+\\tau_1} \\right)^{LV_{+}n_1} LV_{+}k \\left( LV_{+}E_{m a x} - LV_{+}E_{m i n} \\right)}{\\left( 1 + \\left( \\frac{\\mathrm{rem}\\left( t + LV_+\\tau \\left( 1 - LV_{+}Eshift \\right), LV_+\\tau \\right)}{LV_+\\tau_1} \\right)^{LV_{+}n_1} \\right) \\left( 1 + \\left( \\frac{\\mathrm{rem}\\left( t + LV_+\\tau \\left( 1 - LV_{+}Eshift \\right), LV_+\\tau \\right)}{LV_+\\tau_2} \\right)^{LV_{+}n_2} \\right)} \\right) \\left( LV_{+}in_{+}q\\left( t \\right) + LV_{+}out_{+}q\\left( t \\right) \\right)}{1 + \\frac{LV_{+}E_{m i n} + \\frac{\\left( \\frac{\\mathrm{rem}\\left( t + LV_+\\tau \\left( 1 - LV_{+}Eshift \\right), LV_+\\tau \\right)}{LV_+\\tau_1} \\right)^{LV_{+}n_1} LV_{+}k \\left( LV_{+}E_{m a x} - LV_{+}E_{m i n} \\right)}{\\left( 1 + \\left( \\frac{\\mathrm{rem}\\left( t + LV_+\\tau \\left( 1 - LV_{+}Eshift \\right), LV_+\\tau \\right)}{LV_+\\tau_1} \\right)^{LV_{+}n_1} \\right) \\left( 1 + \\left( \\frac{\\mathrm{rem}\\left( t + LV_+\\tau \\left( 1 - LV_{+}Eshift \\right), LV_+\\tau \\right)}{LV_+\\tau_2} \\right)^{LV_{+}n_2} \\right)}}{LV_{+}Ev}} + \\frac{LV_{+}k \\left( LV_{+}E_{m a x} - LV_{+}E_{m i n} \\right) \\left( \\left( \\mathrm{rem}\\left( t + LV_+\\tau \\left( 1 - LV_{+}Eshift \\right), LV_+\\tau \\right) \\right)^{LV_{+}n_1} LV_+\\tau_2^{LV_{+}n_2} \\left( \\left( \\mathrm{rem}\\left( t + LV_+\\tau \\left( 1 - LV_{+}Eshift \\right), LV_+\\tau \\right) \\right)^{-1 + LV_{+}n_1 + LV_{+}n_2} \\left(  - LV_{+}n_1 - LV_{+}n_2 \\right) - \\left( \\mathrm{rem}\\left( t + LV_+\\tau \\left( 1 - LV_{+}Eshift \\right), LV_+\\tau \\right) \\right)^{-1 + LV_{+}n_1} LV_+\\tau_2^{LV_{+}n_2} LV_{+}n_1 - \\left( \\mathrm{rem}\\left( t + LV_+\\tau \\left( 1 - LV_{+}Eshift \\right), LV_+\\tau \\right) \\right)^{-1 + LV_{+}n_2} LV_+\\tau_1^{LV_{+}n_1} LV_{+}n_2 \\right) + \\left( \\mathrm{rem}\\left( t + LV_+\\tau \\left( 1 - LV_{+}Eshift \\right), LV_+\\tau \\right) \\right)^{-1 + LV_{+}n_1} LV_+\\tau_2^{LV_{+}n_2} LV_{+}n_1 \\left( LV_+\\tau_2^{LV_{+}n_2} LV_+\\tau_1^{LV_{+}n_1} + \\left( \\mathrm{rem}\\left( t + LV_+\\tau \\left( 1 - LV_{+}Eshift \\right), LV_+\\tau \\right) \\right)^{LV_{+}n_2} LV_+\\tau_1^{LV_{+}n_1} + \\left( \\mathrm{rem}\\left( t + LV_+\\tau \\left( 1 - LV_{+}Eshift \\right), LV_+\\tau \\right) \\right)^{LV_{+}n_1} LV_+\\tau_2^{LV_{+}n_2} + \\left( \\mathrm{rem}\\left( t + LV_+\\tau \\left( 1 - LV_{+}Eshift \\right), LV_+\\tau \\right) \\right)^{LV_{+}n_1 + LV_{+}n_2} \\right) \\right) LV_{+}p\\left( t \\right)}{\\left( LV_+\\tau_2^{LV_{+}n_2} LV_+\\tau_1^{LV_{+}n_1} + \\left( \\mathrm{rem}\\left( t + LV_+\\tau \\left( 1 - LV_{+}Eshift \\right), LV_+\\tau \\right) \\right)^{LV_{+}n_2} LV_+\\tau_1^{LV_{+}n_1} + \\left( \\mathrm{rem}\\left( t + LV_+\\tau \\left( 1 - LV_{+}Eshift \\right), LV_+\\tau \\right) \\right)^{LV_{+}n_1} LV_+\\tau_2^{LV_{+}n_2} + \\left( \\mathrm{rem}\\left( t + LV_+\\tau \\left( 1 - LV_{+}Eshift \\right), LV_+\\tau \\right) \\right)^{LV_{+}n_1 + LV_{+}n_2} \\right)^{2} \\left( 1 + \\frac{LV_{+}E_{m i n} + \\frac{\\left( \\frac{\\mathrm{rem}\\left( t + LV_+\\tau \\left( 1 - LV_{+}Eshift \\right), LV_+\\tau \\right)}{LV_+\\tau_1} \\right)^{LV_{+}n_1} LV_{+}k \\left( LV_{+}E_{m a x} - LV_{+}E_{m i n} \\right)}{\\left( 1 + \\left( \\frac{\\mathrm{rem}\\left( t + LV_+\\tau \\left( 1 - LV_{+}Eshift \\right), LV_+\\tau \\right)}{LV_+\\tau_1} \\right)^{LV_{+}n_1} \\right) \\left( 1 + \\left( \\frac{\\mathrm{rem}\\left( t + LV_+\\tau \\left( 1 - LV_{+}Eshift \\right), LV_+\\tau \\right)}{LV_+\\tau_2} \\right)^{LV_{+}n_2} \\right)}}{LV_{+}Ev} \\right) \\left( LV_{+}E_{m i n} + \\frac{\\left( \\frac{\\mathrm{rem}\\left( t + LV_+\\tau \\left( 1 - LV_{+}Eshift \\right), LV_+\\tau \\right)}{LV_+\\tau_1} \\right)^{LV_{+}n_1} LV_{+}k \\left( LV_{+}E_{m a x} - LV_{+}E_{m i n} \\right)}{\\left( 1 + \\left( \\frac{\\mathrm{rem}\\left( t + LV_+\\tau \\left( 1 - LV_{+}Eshift \\right), LV_+\\tau \\right)}{LV_+\\tau_1} \\right)^{LV_{+}n_1} \\right) \\left( 1 + \\left( \\frac{\\mathrm{rem}\\left( t + LV_+\\tau \\left( 1 - LV_{+}Eshift \\right), LV_+\\tau \\right)}{LV_+\\tau_2} \\right)^{LV_{+}n_2} \\right)} \\right)} \\\\\n",
       "\\frac{\\mathrm{d} Csa_{+}p\\left( t \\right)}{\\mathrm{d}t} =& \\frac{Csa_{+}in_{+}q\\left( t \\right) + Csa_{+}out_{+}q\\left( t \\right)}{Csa_{+}C} \\\\\n",
       "\\frac{\\mathrm{d} Csv_{+}p\\left( t \\right)}{\\mathrm{d}t} =& \\frac{Csv_{+}in_{+}q\\left( t \\right) + Csv_{+}out_{+}q\\left( t \\right)}{Csv_{+}C}\n",
       "\\end{align}\n",
       " $$"
      ],
      "text/plain": [
       "\u001b[0m\u001b[1mModel circ_model with 3 \u001b[22m\u001b[0m\u001b[1mequations\u001b[22m\n",
       "\u001b[0m\u001b[1mStates (3):\u001b[22m\n",
       "  LV₊p(t) [defaults to 0.0]\n",
       "  Csa₊p(t) [defaults to 0.0]\n",
       "  Csv₊p(t) [defaults to 0.0]\n",
       "\u001b[0m\u001b[1mParameters (19):\u001b[22m\n",
       "  LV₊V₀ [defaults to 0.0]\n",
       "  LV₊Eₘᵢₙ [defaults to 0.03]\n",
       "  LV₊Eₘₐₓ [defaults to 1.5]\n",
       "  LV₊n₁ [defaults to 1.32]\n",
       "⋮\n",
       "\u001b[35mIncidence matrix:\u001b[39m3×6 SparseArrays.SparseMatrixCSC{Symbolics.Num, Int64} with 12 stored entries:\n",
       " ×  ×  ×  ×  ⋅  ⋅\n",
       " ×  ×  ×  ⋅  ×  ⋅\n",
       " ×  ×  ×  ⋅  ⋅  ×"
      ]
     },
     "execution_count": 16,
     "metadata": {},
     "output_type": "execute_result"
    }
   ],
   "source": [
    "circ_sys = structural_simplify(circ_model)"
   ]
  },
  {
   "cell_type": "markdown",
   "metadata": {},
   "source": [
    "`circ_sys` is now the minimal system of equations. In this case it consists of 3 ODEs for the three pressures.\n",
    "\n",
    "_Note: `structural\\_simplify` reduces and optimises the ODE system. It is, therefore, not always obvious, which states it will use and which it will drop. We can use the `states` and `observed` function to check this. It is recommended to do this, since small changes can reorder states, observables, and parameters._\n",
    "\n",
    "States in the system are now:"
   ]
  },
  {
   "cell_type": "code",
   "execution_count": 17,
   "metadata": {},
   "outputs": [
    {
     "data": {
      "text/plain": [
       "3-element Vector{Any}:\n",
       " LV₊p(t)\n",
       " Csa₊p(t)\n",
       " Csv₊p(t)"
      ]
     },
     "execution_count": 17,
     "metadata": {},
     "output_type": "execute_result"
    }
   ],
   "source": [
    "states(circ_sys)"
   ]
  },
  {
   "cell_type": "markdown",
   "metadata": {},
   "source": [
    "Observed variables - the system will drop these from the ODE system that is solved, but it keeps all the algebraic equations needed to calculate them in the system object, as well as the `ODEProblem` and solution object - are:"
   ]
  },
  {
   "cell_type": "code",
   "execution_count": 18,
   "metadata": {},
   "outputs": [
    {
     "data": {
      "text/latex": [
       "$$ \\begin{align}\n",
       "LV_{+}in_{+}p\\left( t \\right) =& LV_{+}p\\left( t \\right) \\\\\n",
       "LV_{+}V\\left( t \\right) =& LV_{+}V_0 + \\frac{LV_{+}p\\left( t \\right)}{LV_{+}E_{m i n} + \\frac{\\left( \\frac{\\mathrm{rem}\\left( t + LV_+\\tau \\left( 1 - LV_{+}Eshift \\right), LV_+\\tau \\right)}{LV_+\\tau_1} \\right)^{LV_{+}n_1} LV_{+}k \\left( LV_{+}E_{m a x} - LV_{+}E_{m i n} \\right)}{\\left( 1 + \\left( \\frac{\\mathrm{rem}\\left( t + LV_+\\tau \\left( 1 - LV_{+}Eshift \\right), LV_+\\tau \\right)}{LV_+\\tau_1} \\right)^{LV_{+}n_1} \\right) \\left( 1 + \\left( \\frac{\\mathrm{rem}\\left( t + LV_+\\tau \\left( 1 - LV_{+}Eshift \\right), LV_+\\tau \\right)}{LV_+\\tau_2} \\right)^{LV_{+}n_2} \\right)}} \\\\\n",
       "MV_+{\\Delta}p\\left( t \\right) =&  - Csv_{+}p\\left( t \\right) + LV_{+}p\\left( t \\right) \\\\\n",
       "AV_+{\\Delta}p\\left( t \\right) =&  - LV_{+}p\\left( t \\right) + Csa_{+}p\\left( t \\right) \\\\\n",
       "Rs_+{\\Delta}p\\left( t \\right) =&  - Csa_{+}p\\left( t \\right) + Csv_{+}p\\left( t \\right) \\\\\n",
       "Csa_{+}in_{+}p\\left( t \\right) =& Csa_{+}p\\left( t \\right) \\\\\n",
       "Csa_{+}V\\left( t \\right) =& Csa_{+}V_0 + Csa_{+}C Csa_{+}p\\left( t \\right) \\\\\n",
       "Csv_{+}in_{+}p\\left( t \\right) =& Csv_{+}p\\left( t \\right) \\\\\n",
       "Csv_{+}V\\left( t \\right) =& Csv_{+}V_0 + Csv_{+}C Csv_{+}p\\left( t \\right) \\\\\n",
       "ground_{+}g_{+}p\\left( t \\right) =& ground_{+}P \\\\\n",
       "ground_{+}g_{+}q\\left( t \\right) =& -0 \\\\\n",
       "AV_{+}in_{+}p\\left( t \\right) =& LV_{+}in_{+}p\\left( t \\right) \\\\\n",
       "MV_{+}out_{+}p\\left( t \\right) =& LV_{+}in_{+}p\\left( t \\right) \\\\\n",
       "MV_{+}q\\left( t \\right) =& \\frac{ - MV_+{\\Delta}p\\left( t \\right) \\left( MV_+{\\Delta}p\\left( t \\right) < 0 \\right)}{MV_{+}R} \\\\\n",
       "AV_{+}q\\left( t \\right) =& \\frac{ - AV_+{\\Delta}p\\left( t \\right) \\left( AV_+{\\Delta}p\\left( t \\right) < 0 \\right)}{AV_{+}R} \\\\\n",
       "Rs_{+}q\\left( t \\right) =& \\frac{ - Rs_+{\\Delta}p\\left( t \\right)}{Rs_{+}R} \\\\\n",
       "Csa_{+}out_{+}p\\left( t \\right) =& Csa_{+}in_{+}p\\left( t \\right) \\\\\n",
       "AV_{+}out_{+}p\\left( t \\right) =& Csa_{+}in_{+}p\\left( t \\right) \\\\\n",
       "Rs_{+}in_{+}p\\left( t \\right) =& Csa_{+}in_{+}p\\left( t \\right) \\\\\n",
       "Csv_{+}out_{+}p\\left( t \\right) =& Csv_{+}in_{+}p\\left( t \\right) \\\\\n",
       "Rs_{+}out_{+}p\\left( t \\right) =& Csv_{+}in_{+}p\\left( t \\right) \\\\\n",
       "MV_{+}in_{+}p\\left( t \\right) =& Csv_{+}in_{+}p\\left( t \\right) \\\\\n",
       "LV_{+}out_{+}p\\left( t \\right) =& AV_{+}in_{+}p\\left( t \\right) \\\\\n",
       "Csv_{+}out_{+}q\\left( t \\right) =&  - MV_{+}q\\left( t \\right) \\\\\n",
       "MV_{+}out_{+}q\\left( t \\right) =&  - MV_{+}q\\left( t \\right) \\\\\n",
       "LV_{+}out_{+}q\\left( t \\right) =&  - AV_{+}q\\left( t \\right) \\\\\n",
       "AV_{+}out_{+}q\\left( t \\right) =&  - AV_{+}q\\left( t \\right) \\\\\n",
       "Csa_{+}in_{+}q\\left( t \\right) =& AV_{+}q\\left( t \\right) \\\\\n",
       "Rs_{+}out_{+}q\\left( t \\right) =&  - Rs_{+}q\\left( t \\right) \\\\\n",
       "Csa_{+}out_{+}q\\left( t \\right) =&  - Rs_{+}q\\left( t \\right) \\\\\n",
       "LV_{+}in_{+}q\\left( t \\right) =&  - Csv_{+}out_{+}q\\left( t \\right) \\\\\n",
       "MV_{+}in_{+}q\\left( t \\right) =&  - MV_{+}out_{+}q\\left( t \\right) \\\\\n",
       "AV_{+}in_{+}q\\left( t \\right) =&  - AV_{+}out_{+}q\\left( t \\right) \\\\\n",
       "Rs_{+}in_{+}q\\left( t \\right) =&  - Rs_{+}out_{+}q\\left( t \\right) \\\\\n",
       "Csv_{+}in_{+}q\\left( t \\right) =&  - Csa_{+}out_{+}q\\left( t \\right)\n",
       "\\end{align}\n",
       " $$"
      ],
      "text/plain": [
       "35-element Vector{Symbolics.Equation}:\n",
       " LV₊in₊p(t) ~ LV₊p(t)\n",
       " LV₊V(t) ~ LV₊V₀ + LV₊p(t) / (LV₊Eₘᵢₙ + (LV₊k*(LV₊Eₘₐₓ - LV₊Eₘᵢₙ)*((rem(t + LV₊τ*(1 - LV₊Eshift), LV₊τ) / LV₊τ₁)^LV₊n₁)) / ((1 + (rem(t + LV₊τ*(1 - LV₊Eshift), LV₊τ) / LV₊τ₁)^LV₊n₁)*(1 + (rem(t + LV₊τ*(1 - LV₊Eshift), LV₊τ) / LV₊τ₂)^LV₊n₂)))\n",
       " MV₊Δp(t) ~ LV₊p(t) - Csv₊p(t)\n",
       " AV₊Δp(t) ~ Csa₊p(t) - LV₊p(t)\n",
       " Rs₊Δp(t) ~ Csv₊p(t) - Csa₊p(t)\n",
       " Csa₊in₊p(t) ~ Csa₊p(t)\n",
       " Csa₊V(t) ~ Csa₊V₀ + Csa₊C*Csa₊p(t)\n",
       " Csv₊in₊p(t) ~ Csv₊p(t)\n",
       " Csv₊V(t) ~ Csv₊V₀ + Csv₊C*Csv₊p(t)\n",
       " ground₊g₊p(t) ~ ground₊P\n",
       " ⋮\n",
       " AV₊out₊q(t) ~ -AV₊q(t)\n",
       " Csa₊in₊q(t) ~ AV₊q(t)\n",
       " Rs₊out₊q(t) ~ -Rs₊q(t)\n",
       " Csa₊out₊q(t) ~ -Rs₊q(t)\n",
       " LV₊in₊q(t) ~ -Csv₊out₊q(t)\n",
       " MV₊in₊q(t) ~ -MV₊out₊q(t)\n",
       " AV₊in₊q(t) ~ -AV₊out₊q(t)\n",
       " Rs₊in₊q(t) ~ -Rs₊out₊q(t)\n",
       " Csv₊in₊q(t) ~ -Csa₊out₊q(t)"
      ]
     },
     "execution_count": 18,
     "metadata": {},
     "output_type": "execute_result"
    }
   ],
   "source": [
    "observed(circ_sys)"
   ]
  },
  {
   "cell_type": "markdown",
   "metadata": {},
   "source": [
    "And the parameters (these could be reordered, so check these, too):"
   ]
  },
  {
   "cell_type": "code",
   "execution_count": 19,
   "metadata": {},
   "outputs": [
    {
     "data": {
      "text/plain": [
       "19-element Vector{SymbolicUtils.BasicSymbolic{Real}}:\n",
       " LV₊V₀\n",
       " LV₊Eₘᵢₙ\n",
       " LV₊Eₘₐₓ\n",
       " LV₊n₁\n",
       " LV₊n₂\n",
       " LV₊τ\n",
       " LV₊τ₁\n",
       " LV₊τ₂\n",
       " LV₊k\n",
       " LV₊Eshift\n",
       " LV₊Ev\n",
       " AV₊R\n",
       " MV₊R\n",
       " Rs₊R\n",
       " Csa₊V₀\n",
       " Csa₊C\n",
       " Csv₊V₀\n",
       " Csv₊C\n",
       " ground₊P"
      ]
     },
     "execution_count": 19,
     "metadata": {},
     "output_type": "execute_result"
    }
   ],
   "source": [
    "parameters(circ_sys)"
   ]
  },
  {
   "cell_type": "markdown",
   "metadata": {},
   "source": [
    "### Define the ODE problem\n",
    "\n",
    "First defined initial conditions `u0` and the time span for simulation:"
   ]
  },
  {
   "cell_type": "code",
   "execution_count": 20,
   "metadata": {},
   "outputs": [
    {
     "data": {
      "text/plain": [
       "(0, 20)"
      ]
     },
     "execution_count": 20,
     "metadata": {},
     "output_type": "execute_result"
    }
   ],
   "source": [
    "u0 = [MCFP, MCFP, MCFP]\n",
    "\n",
    "tspan = (0, 20)"
   ]
  },
  {
   "cell_type": "markdown",
   "metadata": {},
   "source": [
    "in this case we use the mean cardiac filling pressure as initial condition, and simulate 20 seconds.\n",
    "\n",
    "Then we can define the problem:"
   ]
  },
  {
   "cell_type": "code",
   "execution_count": 21,
   "metadata": {},
   "outputs": [
    {
     "data": {
      "text/plain": [
       "\u001b[38;2;86;182;194mODEProblem\u001b[0m with uType \u001b[38;2;86;182;194mVector{Float64}\u001b[0m and tType \u001b[38;2;86;182;194mInt64\u001b[0m. In-place: \u001b[38;2;86;182;194mtrue\u001b[0m\n",
       "timespan: (0, 20)\n",
       "u0: 3-element Vector{Float64}:\n",
       " 7.0\n",
       " 7.0\n",
       " 7.0"
      ]
     },
     "execution_count": 21,
     "metadata": {},
     "output_type": "execute_result"
    }
   ],
   "source": [
    "prob = ODEProblem(circ_sys, u0, tspan)"
   ]
  },
  {
   "cell_type": "markdown",
   "metadata": {},
   "source": [
    "## Simulate\n",
    "\n",
    "The ODE problem is now in the MTK/DifferentialEquations.jl format and we can use any DifferentialEquations.jl solver to solve it:"
   ]
  },
  {
   "cell_type": "code",
   "execution_count": 22,
   "metadata": {},
   "outputs": [
    {
     "data": {
      "text/plain": [
       "retcode: Success\n",
       "Interpolation: specialized 7th order lazy interpolation\n",
       "t: 10930-element Vector{Float64}:\n",
       "  0.0\n",
       "  2.0353109057165533e-9\n",
       "  3.119947603901679e-9\n",
       "  6.3477747844177215e-9\n",
       "  1.0064969962260705e-8\n",
       "  1.5833866343966043e-8\n",
       "  2.3671051277027698e-8\n",
       "  3.4532885205586366e-8\n",
       "  4.948053373704437e-8\n",
       "  6.979188009543823e-8\n",
       "  ⋮\n",
       " 19.987260000653244\n",
       " 19.989231399719237\n",
       " 19.991118524279134\n",
       " 19.99295449969641\n",
       " 19.994735668873435\n",
       " 19.9964760876503\n",
       " 19.998178533443934\n",
       " 19.99985150475068\n",
       " 20.0\n",
       "u: 10930-element Vector{Vector{Float64}}:\n",
       " [7.0, 7.0, 7.0]\n",
       " [7.000000011417278, 7.0, 7.0]\n",
       " [7.000000020186955, 7.000000000000001, 7.0]\n",
       " [7.000000051803014, 7.0000000000000036, 7.0]\n",
       " [7.000000095328055, 7.000000000000011, 7.0]\n",
       " [7.000000173497197, 7.000000000000031, 7.0]\n",
       " [7.00000029510084, 7.00000000000008, 7.0]\n",
       " [7.000000485918563, 7.000000000000193, 7.0]\n",
       " [7.000000781274701, 7.000000000000446, 7.0]\n",
       " [7.000001230284186, 7.000000000000991, 7.0]\n",
       " ⋮\n",
       " [62.85651336817731, 120.26612875025506, 8.848770144893091]\n",
       " [59.617447672147655, 120.09116435350289, 8.866743760195815]\n",
       " [56.57415614591901, 119.92396327218873, 8.883919871276271]\n",
       " [53.67846331273567, 119.76156006192669, 8.900603110148644]\n",
       " [50.939774085694225, 119.60425511544686, 8.916762618287025]\n",
       " [48.33831064506191, 119.45078681917273, 8.932527997813368]\n",
       " [45.87084971886435, 119.30089396234537, 8.947926082196542]\n",
       " [43.525186519432275, 119.15381459749757, 8.963035144221816]\n",
       " [43.32090025178113, 119.14077007925945, 8.964375172004459]"
      ]
     },
     "execution_count": 22,
     "metadata": {},
     "output_type": "execute_result"
    }
   ],
   "source": [
    "sol = solve(prob, Vern7(), reltol=1e-12, abstol=1e-12)"
   ]
  },
  {
   "cell_type": "markdown",
   "metadata": {},
   "source": [
    "## Results"
   ]
  },
  {
   "cell_type": "code",
   "execution_count": 23,
   "metadata": {},
   "outputs": [
    {
     "data": {
      "image/png": "[encoded data removed]",
      "text/plain": [
       "Plot{Plots.GRBackend() n=5}\n",
       "Captured extra kwargs:\n",
       "  Series{1}:\n",
       "    hidexaxis: nothing\n",
       "  Series{2}:\n",
       "    hidexaxis: nothing\n",
       "  Series{3}:\n",
       "    linkaxes: all\n",
       "  Series{4}:\n",
       "    linkaxes: all\n",
       "  Series{5}:\n",
       "    linkaxes: all\n"
      ]
     },
     "execution_count": 23,
     "metadata": {},
     "output_type": "execute_result"
    }
   ],
   "source": [
    "p1 = plot(sol, idxs=[LV.p,  Csa.in.p], tspan=(16 * τ, 17 * τ), xlabel = \"Time [s]\", ylabel = \"Pressure [mmHg]\",  hidexaxis = nothing) # Make a line plot\n",
    "p2 = plot(sol, idxs=[LV.V], tspan=(16 * τ, 17 * τ),xlabel = \"Time [s]\", ylabel = \"Volume [ml]\",  linkaxes = :all)\n",
    "p3 = plot(sol, idxs=[Csa.in.q,Csv.in.q], tspan=(16 * τ, 17 * τ),xlabel = \"Time [s]\", ylabel = \"Flow rate [ml/s]\", linkaxes = :all)\n",
    "\n",
    "img = plot(p1, p2, p3, layout=@layout([a; b c]), legend = true)\n",
    "\n",
    "img = DisplayAs.Text(DisplayAs.PNG(img))\n",
    "\n",
    "img"
   ]
  },
  {
   "cell_type": "markdown",
   "metadata": {},
   "source": [
    "---\n",
    "\n",
    "*This notebook was generated using [Literate.jl](https://github.com/fredrikekre/Literate.jl).*"
   ]
  }
 ],
 "metadata": {
  "kernelspec": {
   "display_name": "Julia 1.10.0-beta1",
   "language": "julia",
   "name": "julia-1.10"
  },
  "language_info": {
   "file_extension": ".jl",
   "mimetype": "application/julia",
   "name": "julia",
   "version": "1.10.0"
  }
 },
 "nbformat": 4,
 "nbformat_minor": 3
}
