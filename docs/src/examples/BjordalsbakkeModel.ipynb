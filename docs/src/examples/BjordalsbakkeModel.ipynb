{
 "cells": [
  {
   "outputs": [],
   "cell_type": "code",
   "source": [
    "using ModelingToolkit, DifferentialEquations, Plots\n",
    "using CirculationModels"
   ],
   "metadata": {},
   "execution_count": 1
  },
  {
   "cell_type": "markdown",
   "source": [
    "# A simple single-chamber model\n",
    "\n",
    "![Single chamber, closed-loop, lumped parameter model of the systemic circulation and the left ventricle. The circuit equivalent formulation of the model is depicted, with the pressures of each compartment, as well as most of the mechanical parameters. The model describes three compartments: the left ventricular, arterial and venous compartments. 𝑃𝑡ℎ is the intrathoracic pressure, 𝑃𝑙𝑣 is the left ventricular pressure and 𝐸𝑙𝑣(𝑡) indicates the left ventricular elastance function.](./BjordalsbakkeModelSketch.png)\n",
    "\n",
    "\n",
    "This follows Bjørdalsbakke et al.\n",
    "\n",
    "Bjørdalsbakke, N.L., Sturdy, J.T., Hose, D.R., Hellevik, L.R., 2022. Parameter estimation for closed-loop lumped parameter models of the systemic circulation using synthetic data. Mathematical Biosciences 343, 108731. https://doi.org/10.1016/j.mbs.2021.108731"
   ],
   "metadata": {}
  },
  {
   "cell_type": "markdown",
   "source": [
    "## Define the parameters"
   ],
   "metadata": {}
  },
  {
   "cell_type": "markdown",
   "source": [
    "Heart rate and cycle time"
   ],
   "metadata": {}
  },
  {
   "outputs": [
    {
     "output_type": "execute_result",
     "data": {
      "text/plain": "0.85"
     },
     "metadata": {},
     "execution_count": 2
    }
   ],
   "cell_type": "code",
   "source": [
    "HR = 70.58823529411765\n",
    "τ = 60.0/HR"
   ],
   "metadata": {},
   "execution_count": 2
  },
  {
   "cell_type": "markdown",
   "source": [
    "Double Hill parameters for the ventricle"
   ],
   "metadata": {}
  },
  {
   "outputs": [
    {
     "output_type": "execute_result",
     "data": {
      "text/plain": "0.4318"
     },
     "metadata": {},
     "execution_count": 3
    }
   ],
   "cell_type": "code",
   "source": [
    "Eₘᵢₙ = 0.03\n",
    "Eₘₐₓ = 1.5\n",
    "n1LV    = 1.32;\n",
    "n2LV    = 21.9;\n",
    "Tau1fLV = 0.303 * τ;\n",
    "Tau2fLV = 0.508 * τ"
   ],
   "metadata": {},
   "execution_count": 3
  },
  {
   "cell_type": "markdown",
   "source": [
    "Resistances and Compliances"
   ],
   "metadata": {}
  },
  {
   "outputs": [
    {
     "output_type": "execute_result",
     "data": {
      "text/plain": "11.0"
     },
     "metadata": {},
     "execution_count": 4
    }
   ],
   "cell_type": "code",
   "source": [
    "Rs = 1.11\n",
    "Csa = 1.13\n",
    "Csv = 11.0"
   ],
   "metadata": {},
   "execution_count": 4
  },
  {
   "cell_type": "markdown",
   "source": [
    "Valve parameters\n",
    "\n",
    "Aortic valve basic"
   ],
   "metadata": {}
  },
  {
   "outputs": [
    {
     "output_type": "execute_result",
     "data": {
      "text/plain": "0.033"
     },
     "metadata": {},
     "execution_count": 5
    }
   ],
   "cell_type": "code",
   "source": [
    "Zao = 0.033"
   ],
   "metadata": {},
   "execution_count": 5
  },
  {
   "cell_type": "markdown",
   "source": [
    "Mitral valve basic"
   ],
   "metadata": {}
  },
  {
   "outputs": [
    {
     "output_type": "execute_result",
     "data": {
      "text/plain": "0.006"
     },
     "metadata": {},
     "execution_count": 6
    }
   ],
   "cell_type": "code",
   "source": [
    "Rmv = 0.006"
   ],
   "metadata": {},
   "execution_count": 6
  },
  {
   "cell_type": "markdown",
   "source": [
    "Inital Pressure (mean cardiac filling pressure)"
   ],
   "metadata": {}
  },
  {
   "outputs": [
    {
     "output_type": "execute_result",
     "data": {
      "text/plain": "7.0"
     },
     "metadata": {},
     "execution_count": 7
    }
   ],
   "cell_type": "code",
   "source": [
    "MCFP = 7.0"
   ],
   "metadata": {},
   "execution_count": 7
  },
  {
   "cell_type": "markdown",
   "source": [
    "## Calculating the additional `k` parameter\n",
    "\n",
    "The ventricle elastance is modelled as:\n",
    "\n",
    "$$E_{l v}(t)=\\left(E_{\\max }-E_{\\min }\\right) e(t)+E_{\\min }$$\n",
    "\n",
    "where $e$ is a double-Hill function, i.e., two Hill-functions, which are multiplied by each other:\n",
    "\n",
    "$$e(\\tau)= k \\times \\frac{\\left(\\tau / \\tau_1\\right)^{n_1}}{1+\\left(\\tau / \\tau_1\\right)^{n_1}} \\times \\frac{1}{1+\\left(\\tau / \\tau_2\\right)^{n_2}}$$\n",
    "\n",
    "$k$ is a scaling factor to assure that $e(t)$ has a maximum of $e(t)_{max} = 1$:\n",
    "\n",
    "$$k = \\max \\left(\\frac{\\left(\\tau / \\tau_1\\right)^{n_1}}{1+\\left(\\tau / \\tau_1\\right)^{n_1}} \\times \\frac{1}{1+\\left(\\tau / \\tau_2\\right)^{n_2}} \\right)^{-1}$$ ."
   ],
   "metadata": {}
  },
  {
   "outputs": [
    {
     "output_type": "execute_result",
     "data": {
      "text/plain": "1.6721792928965973"
     },
     "metadata": {},
     "execution_count": 8
    }
   ],
   "cell_type": "code",
   "source": [
    "nstep = 1000\n",
    "t = LinRange(0, τ, nstep)\n",
    "\n",
    "kLV = 1 / maximum((t ./ Tau1fLV).^n1LV ./ (1 .+ (t ./ Tau1fLV).^n1LV) .* 1 ./ (1 .+ (t ./ Tau2fLV).^n2LV))"
   ],
   "metadata": {},
   "execution_count": 8
  },
  {
   "cell_type": "markdown",
   "source": [
    "## Set up the model elements\n",
    "\n",
    "Set up time as a parameter `t`"
   ],
   "metadata": {}
  },
  {
   "outputs": [
    {
     "output_type": "execute_result",
     "data": {
      "text/plain": "1-element Vector{Symbolics.Num}:\n t",
      "text/latex": "$$ \\begin{equation}\n\\left[\n\\begin{array}{c}\nt \\\\\n\\end{array}\n\\right]\n\\end{equation}\n $$"
     },
     "metadata": {},
     "execution_count": 9
    }
   ],
   "cell_type": "code",
   "source": [
    "@parameters t"
   ],
   "metadata": {},
   "execution_count": 9
  },
  {
   "cell_type": "markdown",
   "source": [
    "Heart is modelled as a single chamber (we call it `LV` for \"Left Ventricle\" so the model can be extended later, if required):"
   ],
   "metadata": {}
  },
  {
   "outputs": [
    {
     "output_type": "execute_result",
     "data": {
      "text/plain": "\u001b[0m\u001b[1mModel LV with 4 \u001b[22m\u001b[0m\u001b[1m(\u001b[22m\u001b[35m\u001b[1m6\u001b[22m\u001b[39m\u001b[0m\u001b[1m) \u001b[22m\u001b[0m\u001b[1mequations\u001b[22m\n\u001b[0m\u001b[1mStates (6):\u001b[22m\n  V(t) [defaults to 2.0]\n  p(t) [defaults to 0.0]\n  in₊p(t) [defaults to 1.0]\n  in₊q(t) [defaults to 1.0]\n⋮\n\u001b[0m\u001b[1mParameters (11):\u001b[22m\n  V₀ [defaults to 0.0]\n  Eₘᵢₙ [defaults to 0.03]\n  Eₘₐₓ [defaults to 1.5]\n  n₁ [defaults to 1.32]\n⋮",
      "text/latex": "$$ \\begin{align}\n0 =&  - out_{+}p\\left( t \\right) + in_{+}p\\left( t \\right) \\\\\np\\left( t \\right) =& in_{+}p\\left( t \\right) \\\\\nV\\left( t \\right) =& V_0 + \\frac{p\\left( t \\right)}{E_{m i n} + \\frac{\\left( \\frac{\\mathrm{rem}\\left( t + \\tau \\left( 1 - Eshift \\right), \\tau \\right)}{\\tau_1} \\right)^{n_1} k \\left( E_{m a x} - E_{m i n} \\right)}{\\left( 1 + \\left( \\frac{\\mathrm{rem}\\left( t + \\tau \\left( 1 - Eshift \\right), \\tau \\right)}{\\tau_1} \\right)^{n_1} \\right) \\left( 1 + \\left( \\frac{\\mathrm{rem}\\left( t + \\tau \\left( 1 - Eshift \\right), \\tau \\right)}{\\tau_2} \\right)^{n_2} \\right)}} \\\\\n\\frac{\\mathrm{d} p\\left( t \\right)}{\\mathrm{d}t} =& \\frac{\\left( E_{m i n} + \\frac{\\left( \\frac{\\mathrm{rem}\\left( t + \\tau \\left( 1 - Eshift \\right), \\tau \\right)}{\\tau_1} \\right)^{n_1} k \\left( E_{m a x} - E_{m i n} \\right)}{\\left( 1 + \\left( \\frac{\\mathrm{rem}\\left( t + \\tau \\left( 1 - Eshift \\right), \\tau \\right)}{\\tau_1} \\right)^{n_1} \\right) \\left( 1 + \\left( \\frac{\\mathrm{rem}\\left( t + \\tau \\left( 1 - Eshift \\right), \\tau \\right)}{\\tau_2} \\right)^{n_2} \\right)} \\right) \\left( in_{+}q\\left( t \\right) + out_{+}q\\left( t \\right) \\right)}{1 + \\frac{E_{m i n} + \\frac{\\left( \\frac{\\mathrm{rem}\\left( t + \\tau \\left( 1 - Eshift \\right), \\tau \\right)}{\\tau_1} \\right)^{n_1} k \\left( E_{m a x} - E_{m i n} \\right)}{\\left( 1 + \\left( \\frac{\\mathrm{rem}\\left( t + \\tau \\left( 1 - Eshift \\right), \\tau \\right)}{\\tau_1} \\right)^{n_1} \\right) \\left( 1 + \\left( \\frac{\\mathrm{rem}\\left( t + \\tau \\left( 1 - Eshift \\right), \\tau \\right)}{\\tau_2} \\right)^{n_2} \\right)}}{Ev}} + \\frac{k \\left( E_{m a x} - E_{m i n} \\right) \\left(  - \\left( \\mathrm{rem}\\left( t + \\tau \\left( 1 - Eshift \\right), \\tau \\right) \\right)^{n_1} \\tau_2^{n_2} \\left( \\left( \\mathrm{rem}\\left( t + \\tau \\left( 1 - Eshift \\right), \\tau \\right) \\right)^{-1 + n_1 + n_2} \\left( n_1 + n_2 \\right) + \\left( \\mathrm{rem}\\left( t + \\tau \\left( 1 - Eshift \\right), \\tau \\right) \\right)^{-1 + n_1} \\tau_2^{n_2} n_1 + \\left( \\mathrm{rem}\\left( t + \\tau \\left( 1 - Eshift \\right), \\tau \\right) \\right)^{-1 + n_2} \\tau_1^{n_1} n_2 \\right) + \\left( \\mathrm{rem}\\left( t + \\tau \\left( 1 - Eshift \\right), \\tau \\right) \\right)^{-1 + n_1} \\tau_2^{n_2} n_1 \\left( \\tau_2^{n_2} \\tau_1^{n_1} + \\left( \\mathrm{rem}\\left( t + \\tau \\left( 1 - Eshift \\right), \\tau \\right) \\right)^{n_2} \\tau_1^{n_1} + \\left( \\mathrm{rem}\\left( t + \\tau \\left( 1 - Eshift \\right), \\tau \\right) \\right)^{n_1} \\tau_2^{n_2} + \\left( \\mathrm{rem}\\left( t + \\tau \\left( 1 - Eshift \\right), \\tau \\right) \\right)^{n_1 + n_2} \\right) \\right) p\\left( t \\right)}{\\left( \\tau_2^{n_2} \\tau_1^{n_1} + \\left( \\mathrm{rem}\\left( t + \\tau \\left( 1 - Eshift \\right), \\tau \\right) \\right)^{n_2} \\tau_1^{n_1} + \\left( \\mathrm{rem}\\left( t + \\tau \\left( 1 - Eshift \\right), \\tau \\right) \\right)^{n_1} \\tau_2^{n_2} + \\left( \\mathrm{rem}\\left( t + \\tau \\left( 1 - Eshift \\right), \\tau \\right) \\right)^{n_1 + n_2} \\right)^{2} \\left( E_{m i n} + \\frac{\\left( \\frac{\\mathrm{rem}\\left( t + \\tau \\left( 1 - Eshift \\right), \\tau \\right)}{\\tau_1} \\right)^{n_1} k \\left( E_{m a x} - E_{m i n} \\right)}{\\left( 1 + \\left( \\frac{\\mathrm{rem}\\left( t + \\tau \\left( 1 - Eshift \\right), \\tau \\right)}{\\tau_1} \\right)^{n_1} \\right) \\left( 1 + \\left( \\frac{\\mathrm{rem}\\left( t + \\tau \\left( 1 - Eshift \\right), \\tau \\right)}{\\tau_2} \\right)^{n_2} \\right)} \\right) \\left( 1 + \\frac{E_{m i n} + \\frac{\\left( \\frac{\\mathrm{rem}\\left( t + \\tau \\left( 1 - Eshift \\right), \\tau \\right)}{\\tau_1} \\right)^{n_1} k \\left( E_{m a x} - E_{m i n} \\right)}{\\left( 1 + \\left( \\frac{\\mathrm{rem}\\left( t + \\tau \\left( 1 - Eshift \\right), \\tau \\right)}{\\tau_1} \\right)^{n_1} \\right) \\left( 1 + \\left( \\frac{\\mathrm{rem}\\left( t + \\tau \\left( 1 - Eshift \\right), \\tau \\right)}{\\tau_2} \\right)^{n_2} \\right)}}{Ev} \\right)}\n\\end{align}\n $$"
     },
     "metadata": {},
     "execution_count": 10
    }
   ],
   "cell_type": "code",
   "source": [
    "@named LV = DHChamber(V₀ = 0.0, Eₘₐₓ=Eₘₐₓ, Eₘᵢₙ=Eₘᵢₙ, n₁=n1LV, n₂=n2LV, τ = τ, τ₁=Tau1fLV, τ₂=Tau2fLV, k = kLV, Eshift=0.0, Ev=Inf)"
   ],
   "metadata": {},
   "execution_count": 10
  },
  {
   "cell_type": "markdown",
   "source": [
    "The two valves are simple diodes with a small resistance\n",
    "(resistance is needed, since perfect diodes would connect two elastances/compliances, which will lead to unstable oscillations):"
   ],
   "metadata": {}
  },
  {
   "outputs": [
    {
     "output_type": "execute_result",
     "data": {
      "text/plain": "\u001b[0m\u001b[1mModel MV with 4 \u001b[22m\u001b[0m\u001b[1m(\u001b[22m\u001b[35m\u001b[1m6\u001b[22m\u001b[39m\u001b[0m\u001b[1m) \u001b[22m\u001b[0m\u001b[1mequations\u001b[22m\n\u001b[0m\u001b[1mStates (6):\u001b[22m\n  Δp(t) [defaults to 0.0]\n  q(t) [defaults to 0.0]\n  in₊p(t) [defaults to 1.0]\n  in₊q(t) [defaults to 1.0]\n⋮\n\u001b[0m\u001b[1mParameters (1):\u001b[22m\n  R [defaults to 0.006]",
      "text/latex": "$$ \\begin{align}\n{\\Delta}p\\left( t \\right) =&  - in_{+}p\\left( t \\right) + out_{+}p\\left( t \\right) \\\\\n0 =& in_{+}q\\left( t \\right) + out_{+}q\\left( t \\right) \\\\\nq\\left( t \\right) =& in_{+}q\\left( t \\right) \\\\\nq\\left( t \\right) =& \\frac{ - {\\Delta}p\\left( t \\right) \\left( {\\Delta}p\\left( t \\right) < 0 \\right)}{R}\n\\end{align}\n $$"
     },
     "metadata": {},
     "execution_count": 11
    }
   ],
   "cell_type": "code",
   "source": [
    "@named AV = ResistorDiode(R=Zao)\n",
    "@named MV = ResistorDiode(R=Rmv)"
   ],
   "metadata": {},
   "execution_count": 11
  },
  {
   "cell_type": "markdown",
   "source": [
    "The main components of the circuit are 1 resistor `Rs` and two compliances for systemic arteries `Csa`,\n",
    "and systemic veins `Csv` (names are arbitrary)."
   ],
   "metadata": {}
  },
  {
   "outputs": [
    {
     "output_type": "execute_result",
     "data": {
      "text/plain": "\u001b[0m\u001b[1mModel Csv with 4 \u001b[22m\u001b[0m\u001b[1m(\u001b[22m\u001b[35m\u001b[1m6\u001b[22m\u001b[39m\u001b[0m\u001b[1m) \u001b[22m\u001b[0m\u001b[1mequations\u001b[22m\n\u001b[0m\u001b[1mStates (6):\u001b[22m\n  V(t) [defaults to 0.0]\n  p(t) [defaults to 0.0]\n  in₊p(t) [defaults to 1.0]\n  in₊q(t) [defaults to 1.0]\n⋮\n\u001b[0m\u001b[1mParameters (2):\u001b[22m\n  V₀ [defaults to 0.0]\n  C [defaults to 11.0]",
      "text/latex": "$$ \\begin{align}\n0 =&  - out_{+}p\\left( t \\right) + in_{+}p\\left( t \\right) \\\\\np\\left( t \\right) =& in_{+}p\\left( t \\right) \\\\\nV\\left( t \\right) =& V_0 + C p\\left( t \\right) \\\\\n\\frac{\\mathrm{d} p\\left( t \\right)}{\\mathrm{d}t} =& \\frac{in_{+}q\\left( t \\right) + out_{+}q\\left( t \\right)}{C}\n\\end{align}\n $$"
     },
     "metadata": {},
     "execution_count": 12
    }
   ],
   "cell_type": "code",
   "source": [
    "@named Rs = Resistor(R=Rs)\n",
    "\n",
    "@named Csa = Compliance(C=Csa)\n",
    "@named Csv = Compliance(C=Csv)"
   ],
   "metadata": {},
   "execution_count": 12
  },
  {
   "cell_type": "markdown",
   "source": [
    "We also need to define a base pressure level, which we use the `Ground` element for:"
   ],
   "metadata": {}
  },
  {
   "outputs": [
    {
     "output_type": "execute_result",
     "data": {
      "text/plain": "\u001b[0m\u001b[1mModel ground with 1 \u001b[22m\u001b[0m\u001b[1m(\u001b[22m\u001b[35m\u001b[1m2\u001b[22m\u001b[39m\u001b[0m\u001b[1m) \u001b[22m\u001b[0m\u001b[1mequations\u001b[22m\n\u001b[0m\u001b[1mStates (2):\u001b[22m\n  g₊p(t) [defaults to 1.0]\n  g₊q(t) [defaults to 1.0]\n\u001b[0m\u001b[1mParameters (1):\u001b[22m\n  P [defaults to 0]",
      "text/latex": "$$ \\begin{align}\ng_{+}p\\left( t \\right) =& P\n\\end{align}\n $$"
     },
     "metadata": {},
     "execution_count": 13
    }
   ],
   "cell_type": "code",
   "source": [
    "@named ground = Ground(P=0)"
   ],
   "metadata": {},
   "execution_count": 13
  },
  {
   "cell_type": "markdown",
   "source": [
    "## Build the system\n",
    "\n",
    "### Connections\n",
    "\n",
    "The system is built using the `connect` function. `connect` sets up the Kirchhoff laws:\n",
    "\n",
    "- pressures are the same in all connected branches on a connector\n",
    "- sum of all flow rates at a connector is zero\n",
    "\n",
    "The resulting set of Kirchhoff equations is stored in `circ_eqs`:"
   ],
   "metadata": {}
  },
  {
   "outputs": [
    {
     "output_type": "execute_result",
     "data": {
      "text/plain": "6-element Vector{Symbolics.Equation}:\n connect(LV.out, AV.in)\n connect(AV.out, Csa.in)\n connect(Csa.out, Rs.in)\n connect(Rs.out, Csv.in)\n connect(Csv.out, MV.in)\n connect(MV.out, LV.in)",
      "text/latex": "$$ \\begin{equation}\n\\left[\n\\begin{array}{c}\n\\mathrm{connect}\\left( LV_{+}out, AV_{+}in \\right) \\\\\n\\mathrm{connect}\\left( AV_{+}out, Csa_{+}in \\right) \\\\\n\\mathrm{connect}\\left( Csa_{+}out, Rs_{+}in \\right) \\\\\n\\mathrm{connect}\\left( Rs_{+}out, Csv_{+}in \\right) \\\\\n\\mathrm{connect}\\left( Csv_{+}out, MV_{+}in \\right) \\\\\n\\mathrm{connect}\\left( MV_{+}out, LV_{+}in \\right) \\\\\n\\end{array}\n\\right]\n\\end{equation}\n $$"
     },
     "metadata": {},
     "execution_count": 14
    }
   ],
   "cell_type": "code",
   "source": [
    "circ_eqs = [\n",
    "    connect(LV.out, AV.in)\n",
    "    connect(AV.out, Csa.in)\n",
    "    connect(Csa.out, Rs.in)\n",
    "    connect(Rs.out, Csv.in)\n",
    "    connect(Csv.out, MV.in)\n",
    "    connect(MV.out, LV.in)\n",
    "]"
   ],
   "metadata": {},
   "execution_count": 14
  },
  {
   "cell_type": "markdown",
   "source": [
    "### Add the component equations\n",
    "\n",
    "In a second step, the system of Kirchhoff equations is completed by the component equations (both ODEs and AEs), resulting in the full, overdefined ODE set `circ_model`.\n",
    "\n",
    "_Note: we do this in two steps._"
   ],
   "metadata": {}
  },
  {
   "outputs": [
    {
     "output_type": "execute_result",
     "data": {
      "text/plain": "\u001b[0m\u001b[1mModel circ_model with 25 \u001b[22m\u001b[0m\u001b[1m(\u001b[22m\u001b[35m\u001b[1m38\u001b[22m\u001b[39m\u001b[0m\u001b[1m) \u001b[22m\u001b[0m\u001b[1mequations\u001b[22m\n\u001b[0m\u001b[1mStates (38):\u001b[22m\n  LV₊V(t) [defaults to 2.0]\n  LV₊p(t) [defaults to 0.0]\n  LV₊in₊p(t) [defaults to 1.0]\n  LV₊in₊q(t) [defaults to 1.0]\n⋮\n\u001b[0m\u001b[1mParameters (19):\u001b[22m\n  LV₊V₀ [defaults to 0.0]\n  LV₊Eₘᵢₙ [defaults to 0.03]\n  LV₊Eₘₐₓ [defaults to 1.5]\n  LV₊n₁ [defaults to 1.32]\n⋮",
      "text/latex": "$$ \\begin{equation}\n\\left[\n\\begin{array}{c}\n\\mathrm{connect}\\left( LV_{+}out, AV_{+}in \\right) \\\\\n\\mathrm{connect}\\left( AV_{+}out, Csa_{+}in \\right) \\\\\n\\mathrm{connect}\\left( Csa_{+}out, Rs_{+}in \\right) \\\\\n\\mathrm{connect}\\left( Rs_{+}out, Csv_{+}in \\right) \\\\\n\\mathrm{connect}\\left( Csv_{+}out, MV_{+}in \\right) \\\\\n\\mathrm{connect}\\left( MV_{+}out, LV_{+}in \\right) \\\\\n0 =  - LV_{+}out_{+}p\\left( t \\right) + LV_{+}in_{+}p\\left( t \\right) \\\\\nLV_{+}p\\left( t \\right) = LV_{+}in_{+}p\\left( t \\right) \\\\\nLV_{+}V\\left( t \\right) = LV_{+}V_0 + \\frac{LV_{+}p\\left( t \\right)}{LV_{+}E_{m i n} + \\frac{\\left( \\frac{\\mathrm{rem}\\left( t + LV_+\\tau \\left( 1 - LV_{+}Eshift \\right), LV_+\\tau \\right)}{LV_+\\tau_1} \\right)^{LV_{+}n_1} LV_{+}k \\left( LV_{+}E_{m a x} - LV_{+}E_{m i n} \\right)}{\\left( 1 + \\left( \\frac{\\mathrm{rem}\\left( t + LV_+\\tau \\left( 1 - LV_{+}Eshift \\right), LV_+\\tau \\right)}{LV_+\\tau_1} \\right)^{LV_{+}n_1} \\right) \\left( 1 + \\left( \\frac{\\mathrm{rem}\\left( t + LV_+\\tau \\left( 1 - LV_{+}Eshift \\right), LV_+\\tau \\right)}{LV_+\\tau_2} \\right)^{LV_{+}n_2} \\right)}} \\\\\n\\frac{\\mathrm{d} LV_{+}p\\left( t \\right)}{\\mathrm{d}t} = \\frac{\\left( LV_{+}E_{m i n} + \\frac{\\left( \\frac{\\mathrm{rem}\\left( t + LV_+\\tau \\left( 1 - LV_{+}Eshift \\right), LV_+\\tau \\right)}{LV_+\\tau_1} \\right)^{LV_{+}n_1} LV_{+}k \\left( LV_{+}E_{m a x} - LV_{+}E_{m i n} \\right)}{\\left( 1 + \\left( \\frac{\\mathrm{rem}\\left( t + LV_+\\tau \\left( 1 - LV_{+}Eshift \\right), LV_+\\tau \\right)}{LV_+\\tau_1} \\right)^{LV_{+}n_1} \\right) \\left( 1 + \\left( \\frac{\\mathrm{rem}\\left( t + LV_+\\tau \\left( 1 - LV_{+}Eshift \\right), LV_+\\tau \\right)}{LV_+\\tau_2} \\right)^{LV_{+}n_2} \\right)} \\right) \\left( LV_{+}in_{+}q\\left( t \\right) + LV_{+}out_{+}q\\left( t \\right) \\right)}{1 + \\frac{LV_{+}E_{m i n} + \\frac{\\left( \\frac{\\mathrm{rem}\\left( t + LV_+\\tau \\left( 1 - LV_{+}Eshift \\right), LV_+\\tau \\right)}{LV_+\\tau_1} \\right)^{LV_{+}n_1} LV_{+}k \\left( LV_{+}E_{m a x} - LV_{+}E_{m i n} \\right)}{\\left( 1 + \\left( \\frac{\\mathrm{rem}\\left( t + LV_+\\tau \\left( 1 - LV_{+}Eshift \\right), LV_+\\tau \\right)}{LV_+\\tau_1} \\right)^{LV_{+}n_1} \\right) \\left( 1 + \\left( \\frac{\\mathrm{rem}\\left( t + LV_+\\tau \\left( 1 - LV_{+}Eshift \\right), LV_+\\tau \\right)}{LV_+\\tau_2} \\right)^{LV_{+}n_2} \\right)}}{LV_{+}Ev}} + \\frac{LV_{+}k \\left( LV_{+}E_{m a x} - LV_{+}E_{m i n} \\right) \\left(  - \\left( \\mathrm{rem}\\left( t + LV_+\\tau \\left( 1 - LV_{+}Eshift \\right), LV_+\\tau \\right) \\right)^{LV_{+}n_1} LV_+\\tau_2^{LV_{+}n_2} \\left( \\left( \\mathrm{rem}\\left( t + LV_+\\tau \\left( 1 - LV_{+}Eshift \\right), LV_+\\tau \\right) \\right)^{-1 + LV_{+}n_1 + LV_{+}n_2} \\left( LV_{+}n_1 + LV_{+}n_2 \\right) + \\left( \\mathrm{rem}\\left( t + LV_+\\tau \\left( 1 - LV_{+}Eshift \\right), LV_+\\tau \\right) \\right)^{-1 + LV_{+}n_1} LV_+\\tau_2^{LV_{+}n_2} LV_{+}n_1 + \\left( \\mathrm{rem}\\left( t + LV_+\\tau \\left( 1 - LV_{+}Eshift \\right), LV_+\\tau \\right) \\right)^{-1 + LV_{+}n_2} LV_+\\tau_1^{LV_{+}n_1} LV_{+}n_2 \\right) + \\left( \\mathrm{rem}\\left( t + LV_+\\tau \\left( 1 - LV_{+}Eshift \\right), LV_+\\tau \\right) \\right)^{-1 + LV_{+}n_1} LV_+\\tau_2^{LV_{+}n_2} LV_{+}n_1 \\left( LV_+\\tau_2^{LV_{+}n_2} LV_+\\tau_1^{LV_{+}n_1} + \\left( \\mathrm{rem}\\left( t + LV_+\\tau \\left( 1 - LV_{+}Eshift \\right), LV_+\\tau \\right) \\right)^{LV_{+}n_1} LV_+\\tau_2^{LV_{+}n_2} + \\left( \\mathrm{rem}\\left( t + LV_+\\tau \\left( 1 - LV_{+}Eshift \\right), LV_+\\tau \\right) \\right)^{LV_{+}n_2} LV_+\\tau_1^{LV_{+}n_1} + \\left( \\mathrm{rem}\\left( t + LV_+\\tau \\left( 1 - LV_{+}Eshift \\right), LV_+\\tau \\right) \\right)^{LV_{+}n_1 + LV_{+}n_2} \\right) \\right) LV_{+}p\\left( t \\right)}{\\left( LV_+\\tau_2^{LV_{+}n_2} LV_+\\tau_1^{LV_{+}n_1} + \\left( \\mathrm{rem}\\left( t + LV_+\\tau \\left( 1 - LV_{+}Eshift \\right), LV_+\\tau \\right) \\right)^{LV_{+}n_1} LV_+\\tau_2^{LV_{+}n_2} + \\left( \\mathrm{rem}\\left( t + LV_+\\tau \\left( 1 - LV_{+}Eshift \\right), LV_+\\tau \\right) \\right)^{LV_{+}n_2} LV_+\\tau_1^{LV_{+}n_1} + \\left( \\mathrm{rem}\\left( t + LV_+\\tau \\left( 1 - LV_{+}Eshift \\right), LV_+\\tau \\right) \\right)^{LV_{+}n_1 + LV_{+}n_2} \\right)^{2} \\left( 1 + \\frac{LV_{+}E_{m i n} + \\frac{\\left( \\frac{\\mathrm{rem}\\left( t + LV_+\\tau \\left( 1 - LV_{+}Eshift \\right), LV_+\\tau \\right)}{LV_+\\tau_1} \\right)^{LV_{+}n_1} LV_{+}k \\left( LV_{+}E_{m a x} - LV_{+}E_{m i n} \\right)}{\\left( 1 + \\left( \\frac{\\mathrm{rem}\\left( t + LV_+\\tau \\left( 1 - LV_{+}Eshift \\right), LV_+\\tau \\right)}{LV_+\\tau_1} \\right)^{LV_{+}n_1} \\right) \\left( 1 + \\left( \\frac{\\mathrm{rem}\\left( t + LV_+\\tau \\left( 1 - LV_{+}Eshift \\right), LV_+\\tau \\right)}{LV_+\\tau_2} \\right)^{LV_{+}n_2} \\right)}}{LV_{+}Ev} \\right) \\left( LV_{+}E_{m i n} + \\frac{\\left( \\frac{\\mathrm{rem}\\left( t + LV_+\\tau \\left( 1 - LV_{+}Eshift \\right), LV_+\\tau \\right)}{LV_+\\tau_1} \\right)^{LV_{+}n_1} LV_{+}k \\left( LV_{+}E_{m a x} - LV_{+}E_{m i n} \\right)}{\\left( 1 + \\left( \\frac{\\mathrm{rem}\\left( t + LV_+\\tau \\left( 1 - LV_{+}Eshift \\right), LV_+\\tau \\right)}{LV_+\\tau_1} \\right)^{LV_{+}n_1} \\right) \\left( 1 + \\left( \\frac{\\mathrm{rem}\\left( t + LV_+\\tau \\left( 1 - LV_{+}Eshift \\right), LV_+\\tau \\right)}{LV_+\\tau_2} \\right)^{LV_{+}n_2} \\right)} \\right)} \\\\\nAV_+{\\Delta}p\\left( t \\right) =  - AV_{+}in_{+}p\\left( t \\right) + AV_{+}out_{+}p\\left( t \\right) \\\\\n0 = AV_{+}in_{+}q\\left( t \\right) + AV_{+}out_{+}q\\left( t \\right) \\\\\nAV_{+}q\\left( t \\right) = AV_{+}in_{+}q\\left( t \\right) \\\\\nAV_{+}q\\left( t \\right) = \\frac{ - AV_+{\\Delta}p\\left( t \\right) \\left( AV_+{\\Delta}p\\left( t \\right) < 0 \\right)}{AV_{+}R} \\\\\nMV_+{\\Delta}p\\left( t \\right) =  - MV_{+}in_{+}p\\left( t \\right) + MV_{+}out_{+}p\\left( t \\right) \\\\\n0 = MV_{+}in_{+}q\\left( t \\right) + MV_{+}out_{+}q\\left( t \\right) \\\\\nMV_{+}q\\left( t \\right) = MV_{+}in_{+}q\\left( t \\right) \\\\\nMV_{+}q\\left( t \\right) = \\frac{ - MV_+{\\Delta}p\\left( t \\right) \\left( MV_+{\\Delta}p\\left( t \\right) < 0 \\right)}{MV_{+}R} \\\\\nRs_+{\\Delta}p\\left( t \\right) =  - Rs_{+}in_{+}p\\left( t \\right) + Rs_{+}out_{+}p\\left( t \\right) \\\\\n0 = Rs_{+}in_{+}q\\left( t \\right) + Rs_{+}out_{+}q\\left( t \\right) \\\\\nRs_{+}q\\left( t \\right) = Rs_{+}in_{+}q\\left( t \\right) \\\\\nRs_+{\\Delta}p\\left( t \\right) =  - Rs_{+}R Rs_{+}q\\left( t \\right) \\\\\n0 =  - Csa_{+}out_{+}p\\left( t \\right) + Csa_{+}in_{+}p\\left( t \\right) \\\\\nCsa_{+}p\\left( t \\right) = Csa_{+}in_{+}p\\left( t \\right) \\\\\nCsa_{+}V\\left( t \\right) = Csa_{+}V_0 + Csa_{+}C Csa_{+}p\\left( t \\right) \\\\\n\\frac{\\mathrm{d} Csa_{+}p\\left( t \\right)}{\\mathrm{d}t} = \\frac{Csa_{+}in_{+}q\\left( t \\right) + Csa_{+}out_{+}q\\left( t \\right)}{Csa_{+}C} \\\\\n0 =  - Csv_{+}out_{+}p\\left( t \\right) + Csv_{+}in_{+}p\\left( t \\right) \\\\\nCsv_{+}p\\left( t \\right) = Csv_{+}in_{+}p\\left( t \\right) \\\\\nCsv_{+}V\\left( t \\right) = Csv_{+}V_0 + Csv_{+}C Csv_{+}p\\left( t \\right) \\\\\n\\frac{\\mathrm{d} Csv_{+}p\\left( t \\right)}{\\mathrm{d}t} = \\frac{Csv_{+}in_{+}q\\left( t \\right) + Csv_{+}out_{+}q\\left( t \\right)}{Csv_{+}C} \\\\\nground_{+}g_{+}p\\left( t \\right) = ground_{+}P \\\\\n\\end{array}\n\\right]\n\\end{equation}\n $$"
     },
     "metadata": {},
     "execution_count": 15
    }
   ],
   "cell_type": "code",
   "source": [
    "@named _circ_model = ODESystem(circ_eqs, t)\n",
    "\n",
    "@named circ_model = compose(_circ_model,\n",
    "                          [LV, AV, MV, Rs, Csa, Csv, ground])"
   ],
   "metadata": {},
   "execution_count": 15
  },
  {
   "cell_type": "markdown",
   "source": [
    "### Simplify the ODE system\n",
    "\n",
    "The crucial step in any acausal modelling is the sympification and reduction of the OD(A)E system to the minimal set of equations. ModelingToolkit.jl does this in the `structural_simplify` function."
   ],
   "metadata": {}
  },
  {
   "outputs": [
    {
     "output_type": "execute_result",
     "data": {
      "text/plain": "\u001b[0m\u001b[1mModel circ_model with 3 \u001b[22m\u001b[0m\u001b[1mequations\u001b[22m\n\u001b[0m\u001b[1mStates (3):\u001b[22m\n  LV₊p(t) [defaults to 0.0]\n  Csa₊p(t) [defaults to 0.0]\n  Csv₊p(t) [defaults to 0.0]\n\u001b[0m\u001b[1mParameters (19):\u001b[22m\n  LV₊V₀ [defaults to 0.0]\n  LV₊Eₘᵢₙ [defaults to 0.03]\n  LV₊Eₘₐₓ [defaults to 1.5]\n  LV₊n₁ [defaults to 1.32]\n⋮\n\u001b[35mIncidence matrix:\u001b[39m3×6 SparseArrays.SparseMatrixCSC{Symbolics.Num, Int64} with 12 stored entries:\n ×  ×  ×  ×  ⋅  ⋅\n ×  ×  ×  ⋅  ×  ⋅\n ×  ×  ×  ⋅  ⋅  ×",
      "text/latex": "$$ \\begin{align}\n\\frac{\\mathrm{d} LV_{+}p\\left( t \\right)}{\\mathrm{d}t} =& \\frac{\\left( LV_{+}E_{m i n} + \\frac{\\left( \\frac{\\mathrm{rem}\\left( t + LV_+\\tau \\left( 1 - LV_{+}Eshift \\right), LV_+\\tau \\right)}{LV_+\\tau_1} \\right)^{LV_{+}n_1} LV_{+}k \\left( LV_{+}E_{m a x} - LV_{+}E_{m i n} \\right)}{\\left( 1 + \\left( \\frac{\\mathrm{rem}\\left( t + LV_+\\tau \\left( 1 - LV_{+}Eshift \\right), LV_+\\tau \\right)}{LV_+\\tau_1} \\right)^{LV_{+}n_1} \\right) \\left( 1 + \\left( \\frac{\\mathrm{rem}\\left( t + LV_+\\tau \\left( 1 - LV_{+}Eshift \\right), LV_+\\tau \\right)}{LV_+\\tau_2} \\right)^{LV_{+}n_2} \\right)} \\right) \\left(  - Csa_{+}in_{+}q\\left( t \\right) - Csv_{+}out_{+}q\\left( t \\right) \\right)}{1 + \\frac{LV_{+}E_{m i n} + \\frac{\\left( \\frac{\\mathrm{rem}\\left( t + LV_+\\tau \\left( 1 - LV_{+}Eshift \\right), LV_+\\tau \\right)}{LV_+\\tau_1} \\right)^{LV_{+}n_1} LV_{+}k \\left( LV_{+}E_{m a x} - LV_{+}E_{m i n} \\right)}{\\left( 1 + \\left( \\frac{\\mathrm{rem}\\left( t + LV_+\\tau \\left( 1 - LV_{+}Eshift \\right), LV_+\\tau \\right)}{LV_+\\tau_1} \\right)^{LV_{+}n_1} \\right) \\left( 1 + \\left( \\frac{\\mathrm{rem}\\left( t + LV_+\\tau \\left( 1 - LV_{+}Eshift \\right), LV_+\\tau \\right)}{LV_+\\tau_2} \\right)^{LV_{+}n_2} \\right)}}{LV_{+}Ev}} + \\frac{LV_{+}k \\left( LV_{+}E_{m a x} - LV_{+}E_{m i n} \\right) \\left( \\left( \\mathrm{rem}\\left( t + LV_+\\tau \\left( 1 - LV_{+}Eshift \\right), LV_+\\tau \\right) \\right)^{LV_{+}n_1} LV_+\\tau_2^{LV_{+}n_2} \\left(  - \\left( \\mathrm{rem}\\left( t + LV_+\\tau \\left( 1 - LV_{+}Eshift \\right), LV_+\\tau \\right) \\right)^{-1 + LV_{+}n_1 + LV_{+}n_2} \\left( LV_{+}n_1 + LV_{+}n_2 \\right) - \\left( \\mathrm{rem}\\left( t + LV_+\\tau \\left( 1 - LV_{+}Eshift \\right), LV_+\\tau \\right) \\right)^{-1 + LV_{+}n_1} LV_+\\tau_2^{LV_{+}n_2} LV_{+}n_1 - \\left( \\mathrm{rem}\\left( t + LV_+\\tau \\left( 1 - LV_{+}Eshift \\right), LV_+\\tau \\right) \\right)^{-1 + LV_{+}n_2} LV_+\\tau_1^{LV_{+}n_1} LV_{+}n_2 \\right) + \\left( \\mathrm{rem}\\left( t + LV_+\\tau \\left( 1 - LV_{+}Eshift \\right), LV_+\\tau \\right) \\right)^{-1 + LV_{+}n_1} LV_+\\tau_2^{LV_{+}n_2} LV_{+}n_1 \\left( LV_+\\tau_2^{LV_{+}n_2} LV_+\\tau_1^{LV_{+}n_1} + \\left( \\mathrm{rem}\\left( t + LV_+\\tau \\left( 1 - LV_{+}Eshift \\right), LV_+\\tau \\right) \\right)^{LV_{+}n_1} LV_+\\tau_2^{LV_{+}n_2} + \\left( \\mathrm{rem}\\left( t + LV_+\\tau \\left( 1 - LV_{+}Eshift \\right), LV_+\\tau \\right) \\right)^{LV_{+}n_2} LV_+\\tau_1^{LV_{+}n_1} + \\left( \\mathrm{rem}\\left( t + LV_+\\tau \\left( 1 - LV_{+}Eshift \\right), LV_+\\tau \\right) \\right)^{LV_{+}n_1 + LV_{+}n_2} \\right) \\right) LV_{+}p\\left( t \\right)}{\\left( LV_+\\tau_2^{LV_{+}n_2} LV_+\\tau_1^{LV_{+}n_1} + \\left( \\mathrm{rem}\\left( t + LV_+\\tau \\left( 1 - LV_{+}Eshift \\right), LV_+\\tau \\right) \\right)^{LV_{+}n_1} LV_+\\tau_2^{LV_{+}n_2} + \\left( \\mathrm{rem}\\left( t + LV_+\\tau \\left( 1 - LV_{+}Eshift \\right), LV_+\\tau \\right) \\right)^{LV_{+}n_2} LV_+\\tau_1^{LV_{+}n_1} + \\left( \\mathrm{rem}\\left( t + LV_+\\tau \\left( 1 - LV_{+}Eshift \\right), LV_+\\tau \\right) \\right)^{LV_{+}n_1 + LV_{+}n_2} \\right)^{2} \\left( 1 + \\frac{LV_{+}E_{m i n} + \\frac{\\left( \\frac{\\mathrm{rem}\\left( t + LV_+\\tau \\left( 1 - LV_{+}Eshift \\right), LV_+\\tau \\right)}{LV_+\\tau_1} \\right)^{LV_{+}n_1} LV_{+}k \\left( LV_{+}E_{m a x} - LV_{+}E_{m i n} \\right)}{\\left( 1 + \\left( \\frac{\\mathrm{rem}\\left( t + LV_+\\tau \\left( 1 - LV_{+}Eshift \\right), LV_+\\tau \\right)}{LV_+\\tau_1} \\right)^{LV_{+}n_1} \\right) \\left( 1 + \\left( \\frac{\\mathrm{rem}\\left( t + LV_+\\tau \\left( 1 - LV_{+}Eshift \\right), LV_+\\tau \\right)}{LV_+\\tau_2} \\right)^{LV_{+}n_2} \\right)}}{LV_{+}Ev} \\right) \\left( LV_{+}E_{m i n} + \\frac{\\left( \\frac{\\mathrm{rem}\\left( t + LV_+\\tau \\left( 1 - LV_{+}Eshift \\right), LV_+\\tau \\right)}{LV_+\\tau_1} \\right)^{LV_{+}n_1} LV_{+}k \\left( LV_{+}E_{m a x} - LV_{+}E_{m i n} \\right)}{\\left( 1 + \\left( \\frac{\\mathrm{rem}\\left( t + LV_+\\tau \\left( 1 - LV_{+}Eshift \\right), LV_+\\tau \\right)}{LV_+\\tau_1} \\right)^{LV_{+}n_1} \\right) \\left( 1 + \\left( \\frac{\\mathrm{rem}\\left( t + LV_+\\tau \\left( 1 - LV_{+}Eshift \\right), LV_+\\tau \\right)}{LV_+\\tau_2} \\right)^{LV_{+}n_2} \\right)} \\right)} \\\\\n\\frac{\\mathrm{d} Csa_{+}p\\left( t \\right)}{\\mathrm{d}t} =& \\frac{ - Csv_{+}in_{+}q\\left( t \\right) + Csa_{+}in_{+}q\\left( t \\right)}{Csa_{+}C} \\\\\n\\frac{\\mathrm{d} Csv_{+}p\\left( t \\right)}{\\mathrm{d}t} =& \\frac{Csv_{+}in_{+}q\\left( t \\right) + Csv_{+}out_{+}q\\left( t \\right)}{Csv_{+}C}\n\\end{align}\n $$"
     },
     "metadata": {},
     "execution_count": 16
    }
   ],
   "cell_type": "code",
   "source": [
    "circ_sys = structural_simplify(circ_model)"
   ],
   "metadata": {},
   "execution_count": 16
  },
  {
   "cell_type": "markdown",
   "source": [
    "`circ_sys` is now the minimal system of equations. In this case it consists of 3 ODEs for the three pressures.\n",
    "\n",
    "_Note: `structural_simplify` reduces and optimises the ODE system. It is, therefore, not always obvious, which states it will use and which it will drop. We can use the `states` and `observed` function to check this. It is recommended to do this, since small changes can reorder states, observables, and parameters._\n",
    "\n",
    "States in the system are now:"
   ],
   "metadata": {}
  },
  {
   "outputs": [
    {
     "output_type": "execute_result",
     "data": {
      "text/plain": "3-element Vector{Any}:\n LV₊p(t)\n Csa₊p(t)\n Csv₊p(t)"
     },
     "metadata": {},
     "execution_count": 17
    }
   ],
   "cell_type": "code",
   "source": [
    "states(circ_sys)"
   ],
   "metadata": {},
   "execution_count": 17
  },
  {
   "cell_type": "markdown",
   "source": [
    "Observed variables - the system will drop these from the ODE system that is solved, but it keeps all the algebraic equations needed to calculate them in the system object, as well as the `ODEProblem` and solution object - are:"
   ],
   "metadata": {}
  },
  {
   "outputs": [
    {
     "output_type": "execute_result",
     "data": {
      "text/plain": "35-element Vector{Symbolics.Equation}:\n LV₊out₊p(t) ~ LV₊p(t)\n LV₊in₊p(t) ~ LV₊p(t)\n AV₊in₊p(t) ~ LV₊p(t)\n MV₊out₊p(t) ~ LV₊p(t)\n AV₊out₊p(t) ~ Csa₊p(t)\n Rs₊in₊p(t) ~ Csa₊p(t)\n Csa₊out₊p(t) ~ Csa₊p(t)\n Csa₊in₊p(t) ~ Csa₊p(t)\n MV₊in₊p(t) ~ Csv₊p(t)\n Rs₊out₊p(t) ~ Csv₊p(t)\n ⋮\n Rs₊in₊q(t) ~ Csv₊in₊q(t)\n LV₊in₊q(t) ~ -Csv₊out₊q(t)\n MV₊q(t) ~ -Csv₊out₊q(t)\n MV₊out₊q(t) ~ Csv₊out₊q(t)\n MV₊in₊q(t) ~ -Csv₊out₊q(t)\n AV₊q(t) ~ Csa₊in₊q(t)\n LV₊out₊q(t) ~ -Csa₊in₊q(t)\n AV₊out₊q(t) ~ -Csa₊in₊q(t)\n AV₊in₊q(t) ~ Csa₊in₊q(t)",
      "text/latex": "$$ \\begin{align}\nLV_{+}out_{+}p\\left( t \\right) =& LV_{+}p\\left( t \\right) \\\\\nLV_{+}in_{+}p\\left( t \\right) =& LV_{+}p\\left( t \\right) \\\\\nAV_{+}in_{+}p\\left( t \\right) =& LV_{+}p\\left( t \\right) \\\\\nMV_{+}out_{+}p\\left( t \\right) =& LV_{+}p\\left( t \\right) \\\\\nAV_{+}out_{+}p\\left( t \\right) =& Csa_{+}p\\left( t \\right) \\\\\nRs_{+}in_{+}p\\left( t \\right) =& Csa_{+}p\\left( t \\right) \\\\\nCsa_{+}out_{+}p\\left( t \\right) =& Csa_{+}p\\left( t \\right) \\\\\nCsa_{+}in_{+}p\\left( t \\right) =& Csa_{+}p\\left( t \\right) \\\\\nMV_{+}in_{+}p\\left( t \\right) =& Csv_{+}p\\left( t \\right) \\\\\nRs_{+}out_{+}p\\left( t \\right) =& Csv_{+}p\\left( t \\right) \\\\\nCsv_{+}out_{+}p\\left( t \\right) =& Csv_{+}p\\left( t \\right) \\\\\nCsv_{+}in_{+}p\\left( t \\right) =& Csv_{+}p\\left( t \\right) \\\\\nground_{+}g_{+}q\\left( t \\right) =& 0 \\\\\nground_{+}g_{+}p\\left( t \\right) =& ground_{+}P \\\\\nCsv_{+}V\\left( t \\right) =& Csv_{+}V_0 + Csv_{+}C Csv_{+}p\\left( t \\right) \\\\\nCsa_{+}V\\left( t \\right) =& Csa_{+}V_0 + Csa_{+}C Csa_{+}p\\left( t \\right) \\\\\nRs_+{\\Delta}p\\left( t \\right) =&  - Csa_{+}p\\left( t \\right) + Csv_{+}p\\left( t \\right) \\\\\nMV_+{\\Delta}p\\left( t \\right) =&  - Csv_{+}p\\left( t \\right) + LV_{+}p\\left( t \\right) \\\\\nAV_+{\\Delta}p\\left( t \\right) =&  - LV_{+}p\\left( t \\right) + Csa_{+}p\\left( t \\right) \\\\\nLV_{+}V\\left( t \\right) =& LV_{+}V_0 + \\frac{LV_{+}p\\left( t \\right)}{LV_{+}E_{m i n} + \\frac{\\left( \\frac{\\mathrm{rem}\\left( t + LV_+\\tau \\left( 1 - LV_{+}Eshift \\right), LV_+\\tau \\right)}{LV_+\\tau_1} \\right)^{LV_{+}n_1} LV_{+}k \\left( LV_{+}E_{m a x} - LV_{+}E_{m i n} \\right)}{\\left( 1 + \\left( \\frac{\\mathrm{rem}\\left( t + LV_+\\tau \\left( 1 - LV_{+}Eshift \\right), LV_+\\tau \\right)}{LV_+\\tau_1} \\right)^{LV_{+}n_1} \\right) \\left( 1 + \\left( \\frac{\\mathrm{rem}\\left( t + LV_+\\tau \\left( 1 - LV_{+}Eshift \\right), LV_+\\tau \\right)}{LV_+\\tau_2} \\right)^{LV_{+}n_2} \\right)}} \\\\\nCsv_{+}in_{+}q\\left( t \\right) =& \\frac{ - Rs_+{\\Delta}p\\left( t \\right)}{Rs_{+}R} \\\\\nCsv_{+}out_{+}q\\left( t \\right) =& \\frac{MV_+{\\Delta}p\\left( t \\right) \\left( MV_+{\\Delta}p\\left( t \\right) < 0 \\right)}{MV_{+}R} \\\\\nCsa_{+}in_{+}q\\left( t \\right) =&  - \\frac{AV_+{\\Delta}p\\left( t \\right) \\left( AV_+{\\Delta}p\\left( t \\right) < 0 \\right)}{AV_{+}R} \\\\\nCsa_{+}out_{+}q\\left( t \\right) =&  - Csv_{+}in_{+}q\\left( t \\right) \\\\\nRs_{+}q\\left( t \\right) =& Csv_{+}in_{+}q\\left( t \\right) \\\\\nRs_{+}out_{+}q\\left( t \\right) =&  - Csv_{+}in_{+}q\\left( t \\right) \\\\\nRs_{+}in_{+}q\\left( t \\right) =& Csv_{+}in_{+}q\\left( t \\right) \\\\\nLV_{+}in_{+}q\\left( t \\right) =&  - Csv_{+}out_{+}q\\left( t \\right) \\\\\nMV_{+}q\\left( t \\right) =&  - Csv_{+}out_{+}q\\left( t \\right) \\\\\nMV_{+}out_{+}q\\left( t \\right) =& Csv_{+}out_{+}q\\left( t \\right) \\\\\nMV_{+}in_{+}q\\left( t \\right) =&  - Csv_{+}out_{+}q\\left( t \\right) \\\\\nAV_{+}q\\left( t \\right) =& Csa_{+}in_{+}q\\left( t \\right) \\\\\nLV_{+}out_{+}q\\left( t \\right) =&  - Csa_{+}in_{+}q\\left( t \\right) \\\\\nAV_{+}out_{+}q\\left( t \\right) =&  - Csa_{+}in_{+}q\\left( t \\right) \\\\\nAV_{+}in_{+}q\\left( t \\right) =& Csa_{+}in_{+}q\\left( t \\right)\n\\end{align}\n $$"
     },
     "metadata": {},
     "execution_count": 18
    }
   ],
   "cell_type": "code",
   "source": [
    "observed(circ_sys)"
   ],
   "metadata": {},
   "execution_count": 18
  },
  {
   "cell_type": "markdown",
   "source": [
    "And the parameters (these could be reordered, so check these, too):"
   ],
   "metadata": {}
  },
  {
   "outputs": [
    {
     "output_type": "execute_result",
     "data": {
      "text/plain": "19-element Vector{SymbolicUtils.Sym{Real, Base.ImmutableDict{DataType, Any}}}:\n LV₊V₀\n LV₊Eₘᵢₙ\n LV₊Eₘₐₓ\n LV₊n₁\n LV₊n₂\n LV₊τ\n LV₊τ₁\n LV₊τ₂\n LV₊k\n LV₊Eshift\n LV₊Ev\n AV₊R\n MV₊R\n Rs₊R\n Csa₊V₀\n Csa₊C\n Csv₊V₀\n Csv₊C\n ground₊P"
     },
     "metadata": {},
     "execution_count": 19
    }
   ],
   "cell_type": "code",
   "source": [
    "parameters(circ_sys)"
   ],
   "metadata": {},
   "execution_count": 19
  },
  {
   "cell_type": "markdown",
   "source": [
    "### Define the ODE problem\n",
    "\n",
    "First defined initial conditions `u0` and the time span for simulation:"
   ],
   "metadata": {}
  },
  {
   "outputs": [
    {
     "output_type": "execute_result",
     "data": {
      "text/plain": "(0, 20)"
     },
     "metadata": {},
     "execution_count": 20
    }
   ],
   "cell_type": "code",
   "source": [
    "u0 = [MCFP, MCFP, MCFP]\n",
    "\n",
    "tspan = (0, 20)"
   ],
   "metadata": {},
   "execution_count": 20
  },
  {
   "cell_type": "markdown",
   "source": [
    "in this case we use the mean cardiac filling pressure as initial condition, and simulate 20 seconds.\n",
    "\n",
    "Then we can define the problem:"
   ],
   "metadata": {}
  },
  {
   "outputs": [
    {
     "output_type": "execute_result",
     "data": {
      "text/plain": "\u001b[36mODEProblem\u001b[0m with uType \u001b[36mVector{Float64}\u001b[0m and tType \u001b[36mInt64\u001b[0m. In-place: \u001b[36mtrue\u001b[0m\ntimespan: (0, 20)\nu0: 3-element Vector{Float64}:\n 7.0\n 7.0\n 7.0"
     },
     "metadata": {},
     "execution_count": 21
    }
   ],
   "cell_type": "code",
   "source": [
    "prob = ODEProblem(circ_sys, u0, tspan)"
   ],
   "metadata": {},
   "execution_count": 21
  },
  {
   "cell_type": "markdown",
   "source": [
    "## Simulate\n",
    "\n",
    "The ODE problem is now in the MTK/DifferentialEquations.jl format and we can use any DifferentialEquations.jl solver to solve it:"
   ],
   "metadata": {}
  },
  {
   "outputs": [],
   "cell_type": "code",
   "source": [
    "sol = solve(prob, Vern7(), reltol=1e-12, abstol=1e-12);"
   ],
   "metadata": {},
   "execution_count": 22
  },
  {
   "cell_type": "markdown",
   "source": [
    "## Results"
   ],
   "metadata": {}
  },
  {
   "outputs": [
    {
     "output_type": "execute_result",
     "data": {
      "text/plain": "Plot{Plots.GRBackend() n=5}\nCaptured extra kwargs:\n  Series{1}:\n    hidexaxis: nothing\n  Series{2}:\n    hidexaxis: nothing\n  Series{3}:\n    linkaxes: all\n  Series{4}:\n    linkaxes: all\n  Series{5}:\n    linkaxes: all\n",
      "image/png": "[encoded data removed]"
     },
     "metadata": {},
     "execution_count": 23
    }
   ],
   "cell_type": "code",
   "source": [
    "using Plots\n",
    "using DisplayAs\n",
    "\n",
    "p1 = plot(sol, idxs=[LV.p,  Csa.in.p], tspan=(16 * τ, 17 * τ), xlabel = \"Time [s]\", ylabel = \"Pressure [mmHg]\",  hidexaxis = nothing) # Make a line plot\n",
    "p2 = plot(sol, idxs=[LV.V], tspan=(16 * τ, 17 * τ),xlabel = \"Time [s]\", ylabel = \"Volume [ml]\",  linkaxes = :all)\n",
    "p3 = plot(sol, idxs=[Csa.in.q,Csv.in.q], tspan=(16 * τ, 17 * τ),xlabel = \"Time [s]\", ylabel = \"Flow rate [ml/s]\", linkaxes = :all)\n",
    "\n",
    "img = plot(p1, p2, p3, layout=@layout([a; b c]), legend = true)\n",
    "\n",
    "img = DisplayAs.Text(DisplayAs.PNG(img))\n",
    "\n",
    "img"
   ],
   "metadata": {},
   "execution_count": 23
  },
  {
   "cell_type": "markdown",
   "source": [
    "---\n",
    "\n",
    "*This notebook was generated using [Literate.jl](https://github.com/fredrikekre/Literate.jl).*"
   ],
   "metadata": {}
  }
 ],
 "nbformat_minor": 3,
 "metadata": {
  "language_info": {
   "file_extension": ".jl",
   "mimetype": "application/julia",
   "name": "julia",
   "version": "1.8.2"
  },
  "kernelspec": {
   "name": "julia-1.8",
   "display_name": "Julia 1.8.2",
   "language": "julia"
  }
 },
 "nbformat": 4
}
