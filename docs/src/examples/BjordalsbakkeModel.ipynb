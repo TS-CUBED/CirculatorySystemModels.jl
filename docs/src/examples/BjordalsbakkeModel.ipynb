{
 "cells": [
  {
   "cell_type": "markdown",
   "source": [
    "# Importing the required packages"
   ],
   "metadata": {}
  },
  {
   "outputs": [],
   "cell_type": "code",
   "source": [
    "using CirculatorySystemModels\n",
    "using CirculatorySystemModels.ModelingToolkit\n",
    "using CirculatorySystemModels.DifferentialEquations\n",
    "using Plots\n",
    "using DisplayAs"
   ],
   "metadata": {},
   "execution_count": null
  },
  {
   "cell_type": "markdown",
   "source": [
    "# A simple single-chamber model\n",
    "\n",
    "![Single chamber, closed-loop, lumped parameter model of the systemic circulation and the left ventricle. The circuit equivalent formulation of the model is depicted, with the pressures of each compartment, as well as most of the mechanical parameters. The model describes three compartments: the left ventricular, arterial and venous compartments. 𝑃𝑡ℎ is the intrathoracic pressure, 𝑃𝑙𝑣 is the left ventricular pressure and 𝐸𝑙𝑣(𝑡) indicates the left ventricular elastance function.](./BjordalsbakkeModelSketch.png)\n",
    "\n",
    "\n",
    "This follows Bjørdalsbakke et al.\n",
    "\n",
    "Bjørdalsbakke, N.L., Sturdy, J.T., Hose, D.R., Hellevik, L.R., 2022. Parameter estimation for closed-loop lumped parameter models of the systemic circulation using synthetic data. Mathematical Biosciences 343, 108731. https://doi.org/10.1016/j.mbs.2021.108731\n",
    "\n",
    "\n",
    "Changes from the published version above:\n",
    "\n",
    "- Capacitors are replaced by compliances. These are identical to capacitors, but have an additional parameter, the unstrained volume $V_0$, which allows for realistic blood volume modelling.\n",
    "  Compliances have an inlet and an oulet in line with the flow, rather than the ground connector of the dangling capacitor.\n",
    "- The aortic resistor is combined with the valve (diode) in the `ResistorDiode` element.\n",
    "\n",
    "[Jupyter Notebook](./BjordalsbakkeModel.ipynb)"
   ],
   "metadata": {}
  },
  {
   "cell_type": "markdown",
   "source": [
    "## Define the parameters\n",
    "\n",
    "All the parameters are taken from table 1 of [Bjørdalsbakke2022]."
   ],
   "metadata": {}
  },
  {
   "cell_type": "markdown",
   "source": [
    "Cycle time in seconds"
   ],
   "metadata": {}
  },
  {
   "outputs": [],
   "cell_type": "code",
   "source": [
    "τ = 0.85"
   ],
   "metadata": {},
   "execution_count": null
  },
  {
   "cell_type": "markdown",
   "source": [
    "Double Hill parameters for the ventricle"
   ],
   "metadata": {}
  },
  {
   "outputs": [],
   "cell_type": "code",
   "source": [
    "Eₘᵢₙ = 0.03\n",
    "Eₘₐₓ = 1.5\n",
    "n1LV    = 1.32;\n",
    "n2LV    = 21.9;\n",
    "Tau1fLV = 0.303 * τ;\n",
    "Tau2fLV = 0.508 * τ"
   ],
   "metadata": {},
   "execution_count": null
  },
  {
   "cell_type": "markdown",
   "source": [
    "Resistances and Compliances"
   ],
   "metadata": {}
  },
  {
   "outputs": [],
   "cell_type": "code",
   "source": [
    "R_s = 1.11\n",
    "C_sa = 1.13\n",
    "C_sv = 11.0"
   ],
   "metadata": {},
   "execution_count": null
  },
  {
   "cell_type": "markdown",
   "source": [
    "Valve parameters\n",
    "\n",
    "Aortic valve basic"
   ],
   "metadata": {}
  },
  {
   "outputs": [],
   "cell_type": "code",
   "source": [
    "Zao = 0.033"
   ],
   "metadata": {},
   "execution_count": null
  },
  {
   "cell_type": "markdown",
   "source": [
    "Mitral valve basic"
   ],
   "metadata": {}
  },
  {
   "outputs": [],
   "cell_type": "code",
   "source": [
    "Rmv = 0.006"
   ],
   "metadata": {},
   "execution_count": null
  },
  {
   "cell_type": "markdown",
   "source": [
    "Inital Pressure (mean cardiac filling pressure)"
   ],
   "metadata": {}
  },
  {
   "outputs": [],
   "cell_type": "code",
   "source": [
    "MCFP = 7.0"
   ],
   "metadata": {},
   "execution_count": null
  },
  {
   "cell_type": "markdown",
   "source": [
    "## Calculating the additional `k` parameter\n",
    "\n",
    "The ventricle elastance is modelled as:\n",
    "\n",
    "$$E_{l v}(t)=\\left(E_{\\max }-E_{\\min }\\right) e(t)+E_{\\min }$$\n",
    "\n",
    "where $e$ is a double-Hill function, i.e., two Hill-functions, which are multiplied by each other:\n",
    "\n",
    "$$e(\\tau)= k \\times \\frac{\\left(\\tau / \\tau_1\\right)^{n_1}}{1+\\left(\\tau / \\tau_1\\right)^{n_1}} \\times \\frac{1}{1+\\left(\\tau / \\tau_2\\right)^{n_2}}$$\n",
    "\n",
    "and $k$ is a scaling factor to assure that $e(t)$ has a maximum of $e(t)_{max} = 1$:\n",
    "\n",
    "$$k = \\max \\left(\\frac{\\left(\\tau / \\tau_1\\right)^{n_1}}{1+\\left(\\tau / \\tau_1\\right)^{n_1}} \\times \\frac{1}{1+\\left(\\tau / \\tau_2\\right)^{n_2}} \\right)^{-1}$$"
   ],
   "metadata": {}
  },
  {
   "outputs": [],
   "cell_type": "code",
   "source": [
    "nstep = 1000\n",
    "t = LinRange(0, τ, nstep)\n",
    "\n",
    "kLV = 1 / maximum((t ./ Tau1fLV).^n1LV ./ (1 .+ (t ./ Tau1fLV).^n1LV) .* 1 ./ (1 .+ (t ./ Tau2fLV).^n2LV))"
   ],
   "metadata": {},
   "execution_count": null
  },
  {
   "cell_type": "markdown",
   "source": [
    "## Set up the model elements\n",
    "\n",
    "Set up time as a variable `t`"
   ],
   "metadata": {}
  },
  {
   "outputs": [],
   "cell_type": "code",
   "source": [
    "@variables t"
   ],
   "metadata": {},
   "execution_count": null
  },
  {
   "cell_type": "markdown",
   "source": [
    "Heart is modelled as a single chamber (we call it `LV` for \"Left Ventricle\" so the model can be extended later, if required):"
   ],
   "metadata": {}
  },
  {
   "outputs": [],
   "cell_type": "code",
   "source": [
    "@named LV = DHChamber(V₀ = 0.0, Eₘₐₓ=Eₘₐₓ, Eₘᵢₙ=Eₘᵢₙ, n₁=n1LV, n₂=n2LV, τ = τ, τ₁=Tau1fLV, τ₂=Tau2fLV, k = kLV, Eshift=0.0)"
   ],
   "metadata": {},
   "execution_count": null
  },
  {
   "cell_type": "markdown",
   "source": [
    "The two valves are simple diodes with a small resistance\n",
    "(resistance is needed, since perfect diodes would connect two elastances/compliances, which will lead to unstable oscillations):"
   ],
   "metadata": {}
  },
  {
   "outputs": [],
   "cell_type": "code",
   "source": [
    "@named AV = ResistorDiode(R=Zao)\n",
    "@named MV = ResistorDiode(R=Rmv)"
   ],
   "metadata": {},
   "execution_count": null
  },
  {
   "cell_type": "markdown",
   "source": [
    "The main components of the circuit are 1 resistor `Rs` and two compliances for systemic arteries `Csa`,\n",
    "and systemic veins `Csv` (names are arbitrary).\n",
    "_Note: one of the compliances is defined in terms of $dV/dt$ using the option `inV = true`. The other\n",
    "without that option is in $dp/dt$._"
   ],
   "metadata": {}
  },
  {
   "outputs": [],
   "cell_type": "code",
   "source": [
    "@named Rs = Resistor(R=R_s)\n",
    "\n",
    "@named Csa = Compliance(C=C_sa)\n",
    "@named Csv = Compliance(C=C_sv, inP=true)"
   ],
   "metadata": {},
   "execution_count": null
  },
  {
   "cell_type": "markdown",
   "source": [
    "## Build the system\n",
    "\n",
    "### Connections\n",
    "\n",
    "The system is built using the `connect` function. `connect` sets up the Kirchhoff laws:\n",
    "\n",
    "- pressures are the same in all connected branches on a connector\n",
    "- sum of all flow rates at a connector is zero\n",
    "\n",
    "The resulting set of Kirchhoff equations is stored in `circ_eqs`:"
   ],
   "metadata": {}
  },
  {
   "outputs": [],
   "cell_type": "code",
   "source": [
    "circ_eqs = [\n",
    "    connect(LV.out, AV.in)\n",
    "    connect(AV.out, Csa.in)\n",
    "    connect(Csa.out, Rs.in)\n",
    "    connect(Rs.out, Csv.in)\n",
    "    connect(Csv.out, MV.in)\n",
    "    connect(MV.out, LV.in)\n",
    "]"
   ],
   "metadata": {},
   "execution_count": null
  },
  {
   "cell_type": "markdown",
   "source": [
    "### Add the component equations\n",
    "\n",
    "In a second step, the system of Kirchhoff equations is completed by the component equations (both ODEs and AEs), resulting in the full, overdefined ODE set `circ_model`.\n",
    "\n",
    "_Note: we do this in two steps._"
   ],
   "metadata": {}
  },
  {
   "outputs": [],
   "cell_type": "code",
   "source": [
    "@named _circ_model = ODESystem(circ_eqs, t)\n",
    "\n",
    "@named circ_model = compose(_circ_model,\n",
    "                          [LV, AV, MV, Rs, Csa, Csv])"
   ],
   "metadata": {},
   "execution_count": null
  },
  {
   "cell_type": "markdown",
   "source": [
    "### Simplify the ODE system\n",
    "\n",
    "The crucial step in any acausal modelling is the sympification and reduction of the OD(A)E system to the minimal set of equations. ModelingToolkit.jl does this in the `structural_simplify` function."
   ],
   "metadata": {}
  },
  {
   "outputs": [],
   "cell_type": "code",
   "source": [
    "circ_sys = structural_simplify(circ_model)"
   ],
   "metadata": {},
   "execution_count": null
  },
  {
   "cell_type": "markdown",
   "source": [
    "`circ_sys` is now the minimal system of equations. In this case it consists of 3 ODEs for the ventricular volume and the systemic and venous pressures.\n",
    "\n",
    "_Note: this reduces and optimises the ODE system. It is, therefore, not always obvious, which states it will use and which it will drop. We can use the `states` and `observed` function to check this. It is recommended to do this, since small changes can reorder states, observables, and parameters._\n",
    "\n",
    "States in the system are now:"
   ],
   "metadata": {}
  },
  {
   "outputs": [],
   "cell_type": "code",
   "source": [
    "states(circ_sys)"
   ],
   "metadata": {},
   "execution_count": null
  },
  {
   "cell_type": "markdown",
   "source": [
    "Observed variables - the system will drop these from the ODE system that is solved, but it keeps all the algebraic equations needed to calculate them in the system object, as well as the `ODEProblem` and solution object - are:"
   ],
   "metadata": {}
  },
  {
   "outputs": [],
   "cell_type": "code",
   "source": [
    "observed(circ_sys)"
   ],
   "metadata": {},
   "execution_count": null
  },
  {
   "cell_type": "markdown",
   "source": [
    "And the parameters (these could be reordered, so check these, too):"
   ],
   "metadata": {}
  },
  {
   "outputs": [],
   "cell_type": "code",
   "source": [
    "parameters(circ_sys)"
   ],
   "metadata": {},
   "execution_count": null
  },
  {
   "cell_type": "markdown",
   "source": [
    "### Define the ODE problem\n",
    "\n",
    "First defined initial conditions `u0` and the time span for simulation:\n",
    "\n",
    "_Note: the initial conditions are defined as a parameter map, rather than a vector, since the parameter map allows for changes in order.\n",
    "This map can include non-existant states (like `LV.p` in this case), which allows for exchanging the compliances or the ventricle\n",
    "for one that's defined in terms of $dp/dt$)._"
   ],
   "metadata": {}
  },
  {
   "outputs": [],
   "cell_type": "code",
   "source": [
    "u0 = [\n",
    "        LV.p => MCFP\n",
    "        LV.V => MCFP/Eₘᵢₙ\n",
    "        Csa.p => MCFP\n",
    "        Csa.V => MCFP*C_sa\n",
    "        Csv.p => MCFP\n",
    "        Csv.V => MCFP*C_sv\n",
    "        ]"
   ],
   "metadata": {},
   "execution_count": null
  },
  {
   "outputs": [],
   "cell_type": "code",
   "source": [
    "tspan = (0, 20)"
   ],
   "metadata": {},
   "execution_count": null
  },
  {
   "cell_type": "markdown",
   "source": [
    "in this case we use the mean cardiac filling pressure as initial condition, and simulate 20 seconds.\n",
    "\n",
    "Then we can define the problem:"
   ],
   "metadata": {}
  },
  {
   "outputs": [],
   "cell_type": "code",
   "source": [
    "prob = ODEProblem(circ_sys, u0, tspan)"
   ],
   "metadata": {},
   "execution_count": null
  },
  {
   "cell_type": "markdown",
   "source": [
    "## Simulate\n",
    "\n",
    "The ODE problem is now in the MTK/DifferentialEquations.jl format and we can use any DifferentialEquations.jl solver to solve it:"
   ],
   "metadata": {}
  },
  {
   "outputs": [],
   "cell_type": "code",
   "source": [
    "sol = solve(prob, Vern7(), reltol=1e-12, abstol=1e-12);"
   ],
   "metadata": {},
   "execution_count": null
  },
  {
   "cell_type": "markdown",
   "source": [
    "## Results"
   ],
   "metadata": {}
  },
  {
   "outputs": [],
   "cell_type": "code",
   "source": [
    "p1 = plot(sol, idxs=[LV.p,  Csa.in.p], tspan=(16 * τ, 17 * τ), xlabel = \"Time [s]\", ylabel = \"Pressure [mmHg]\",  hidexaxis = nothing) # Make a line plot\n",
    "p2 = plot(sol, idxs=[LV.V], tspan=(16 * τ, 17 * τ),xlabel = \"Time [s]\", ylabel = \"Volume [ml]\",  linkaxes = :all)\n",
    "p3 = plot(sol, idxs=[Csa.in.q,Csv.in.q], tspan=(16 * τ, 17 * τ),xlabel = \"Time [s]\", ylabel = \"Flow rate [ml/s]\", linkaxes = :all)\n",
    "p4 = plot(sol, idxs=(LV.V, LV.p), tspan=(16 * τ, 17 * τ),xlabel = \"Volume [ml]\", ylabel = \"Pressure [mmHg]\", linkaxes = :all)\n",
    "\n",
    "img = plot(p1, p2, p3, p4; layout=@layout([a b; c d]), legend = true)\n",
    "\n",
    "img = DisplayAs.Text(DisplayAs.PNG(img))\n",
    "\n",
    "img"
   ],
   "metadata": {},
   "execution_count": null
  },
  {
   "cell_type": "markdown",
   "source": [
    "---\n",
    "\n",
    "*This notebook was generated using [Literate.jl](https://github.com/fredrikekre/Literate.jl).*"
   ],
   "metadata": {}
  }
 ],
 "nbformat_minor": 3,
 "metadata": {
  "language_info": {
   "file_extension": ".jl",
   "mimetype": "application/julia",
   "name": "julia",
   "version": "1.10.0-rc1"
  },
  "kernelspec": {
   "name": "julia-1.10",
   "display_name": "Julia 1.10.0-rc1",
   "language": "julia"
  }
 },
 "nbformat": 4
}
