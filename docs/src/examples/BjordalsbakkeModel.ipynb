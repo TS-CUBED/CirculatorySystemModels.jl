{
 "cells": [
  {
   "outputs": [],
   "cell_type": "code",
   "source": [
    "# # Importing the required packages\n",
    "\n",
    "using CirculatorySystemModels\n",
    "using ModelingToolkit\n",
    "using OrdinaryDiffEq\n",
    "using Plots\n",
    "using DisplayAs"
   ],
   "metadata": {},
   "execution_count": 1
  },
  {
   "cell_type": "markdown",
   "source": [
    "# A simple single-chamber model\n",
    "\n",
    "![Single chamber, closed-loop, lumped parameter model of the systemic circulation and the left ventricle. The circuit equivalent formulation of the model is depicted, with the pressures of each compartment, as well as most of the mechanical parameters. The model describes three compartments: the left ventricular, arterial and venous compartments. 𝑃𝑡ℎ is the intrathoracic pressure, 𝑃𝑙𝑣 is the left ventricular pressure and 𝐸𝑙𝑣(𝑡) indicates the left ventricular elastance function.](./BjordalsbakkeModelSketch.png)\n",
    "\n",
    "\n",
    "This follows Bjørdalsbakke et al.\n",
    "\n",
    "Bjørdalsbakke, N.L., Sturdy, J.T., Hose, D.R., Hellevik, L.R., 2022. Parameter estimation for closed-loop lumped parameter models of the systemic circulation using synthetic data. Mathematical Biosciences 343, 108731. https://doi.org/10.1016/j.mbs.2021.108731\n",
    "\n",
    "\n",
    "Changes from the published version above:\n",
    "\n",
    "- Capacitors are replaced by compliances. These are identical to capacitors, but have an additional parameter, the unstrained volume $V_0$, which allows for realistic blood volume modelling.\n",
    "  Compliances have an inlet and an oulet in line with the flow, rather than the ground connector of the dangling capacitor.\n",
    "- The aortic resistor is combined with the valve (diode) in the `ResistorDiode` element.\n",
    "\n",
    "[Jupyter Notebook](./BjordalsbakkeModel.ipynb)"
   ],
   "metadata": {}
  },
  {
   "cell_type": "markdown",
   "source": [
    "## Define the parameters\n",
    "\n",
    "All the parameters are taken from table 1 of [Bjørdalsbakke2022]."
   ],
   "metadata": {}
  },
  {
   "cell_type": "markdown",
   "source": [
    "Cycle time in seconds"
   ],
   "metadata": {}
  },
  {
   "outputs": [
    {
     "output_type": "execute_result",
     "data": {
      "text/plain": "0.85"
     },
     "metadata": {},
     "execution_count": 2
    }
   ],
   "cell_type": "code",
   "source": [
    "#\n",
    "τ = 0.85"
   ],
   "metadata": {},
   "execution_count": 2
  },
  {
   "cell_type": "markdown",
   "source": [
    "Double Hill parameters for the ventricle"
   ],
   "metadata": {}
  },
  {
   "outputs": [
    {
     "output_type": "execute_result",
     "data": {
      "text/plain": "0.4318"
     },
     "metadata": {},
     "execution_count": 3
    }
   ],
   "cell_type": "code",
   "source": [
    "Eₘᵢₙ = 0.03\n",
    "Eₘₐₓ = 1.5\n",
    "n1LV    = 1.32;\n",
    "n2LV    = 21.9;\n",
    "Tau1fLV = 0.303 * τ;\n",
    "Tau2fLV = 0.508 * τ\n",
    "#"
   ],
   "metadata": {},
   "execution_count": 3
  },
  {
   "cell_type": "markdown",
   "source": [
    "Resistances and Compliances"
   ],
   "metadata": {}
  },
  {
   "outputs": [
    {
     "output_type": "execute_result",
     "data": {
      "text/plain": "11.0"
     },
     "metadata": {},
     "execution_count": 4
    }
   ],
   "cell_type": "code",
   "source": [
    "R_s = 1.11\n",
    "C_sa = 1.13\n",
    "C_sv = 11.0"
   ],
   "metadata": {},
   "execution_count": 4
  },
  {
   "cell_type": "markdown",
   "source": [
    "Valve parameters\n",
    "\n",
    "Aortic valve basic"
   ],
   "metadata": {}
  },
  {
   "outputs": [
    {
     "output_type": "execute_result",
     "data": {
      "text/plain": "0.033"
     },
     "metadata": {},
     "execution_count": 5
    }
   ],
   "cell_type": "code",
   "source": [
    "Zao = 0.033"
   ],
   "metadata": {},
   "execution_count": 5
  },
  {
   "cell_type": "markdown",
   "source": [
    "Mitral valve basic"
   ],
   "metadata": {}
  },
  {
   "outputs": [
    {
     "output_type": "execute_result",
     "data": {
      "text/plain": "7.0"
     },
     "metadata": {},
     "execution_count": 6
    }
   ],
   "cell_type": "code",
   "source": [
    "Rmv = 0.006\n",
    "\n",
    "# Inital Pressure (mean cardiac filling pressure)\n",
    "MCFP = 7.0\n",
    "\n",
    "### Calculating the additional `k` parameter"
   ],
   "metadata": {},
   "execution_count": 6
  },
  {
   "cell_type": "markdown",
   "source": [
    "The ventricle elastance is modelled as:\n",
    "\n",
    "$$E_{l v}(t)=\\left(E_{\\max }-E_{\\min }\\right) e(t)+E_{\\min }$$\n",
    "\n",
    "where $e$ is a double-Hill function, i.e., two Hill-functions, which are multiplied by each other:\n",
    "\n",
    "$$e(\\tau)= k \\times \\frac{\\left(\\tau / \\tau_1\\right)^{n_1}}{1+\\left(\\tau / \\tau_1\\right)^{n_1}} \\times \\frac{1}{1+\\left(\\tau / \\tau_2\\right)^{n_2}}$$\n",
    "\n",
    "and $k$ is a scaling factor to assure that $e(t)$ has a maximum of $e(t)_{max} = 1$:\n",
    "\n",
    "$$k = \\max \\left(\\frac{\\left(\\tau / \\tau_1\\right)^{n_1}}{1+\\left(\\tau / \\tau_1\\right)^{n_1}} \\times \\frac{1}{1+\\left(\\tau / \\tau_2\\right)^{n_2}} \\right)^{-1}$$"
   ],
   "metadata": {}
  },
  {
   "outputs": [
    {
     "output_type": "execute_result",
     "data": {
      "text/plain": "1.6721792928965973"
     },
     "metadata": {},
     "execution_count": 7
    }
   ],
   "cell_type": "code",
   "source": [
    "nstep = 1000\n",
    "t = LinRange(0, τ, nstep)\n",
    "\n",
    "kLV = 1 / maximum((t ./ Tau1fLV).^n1LV ./ (1 .+ (t ./ Tau1fLV).^n1LV) .* 1 ./ (1 .+ (t ./ Tau2fLV).^n2LV))"
   ],
   "metadata": {},
   "execution_count": 7
  },
  {
   "cell_type": "markdown",
   "source": [
    "## Set up the model elements\n",
    "\n",
    "Set up time as a variable `t`"
   ],
   "metadata": {}
  },
  {
   "outputs": [
    {
     "output_type": "execute_result",
     "data": {
      "text/plain": "1-element Vector{Symbolics.Num}:\n t",
      "text/latex": "$$ \\begin{equation}\n\\left[\n\\begin{array}{c}\nt \\\\\n\\end{array}\n\\right]\n\\end{equation}\n $$"
     },
     "metadata": {},
     "execution_count": 8
    }
   ],
   "cell_type": "code",
   "source": [
    "@variables t"
   ],
   "metadata": {},
   "execution_count": 8
  },
  {
   "cell_type": "markdown",
   "source": [
    "Heart is modelled as a single chamber (we call it `LV` for \"Left Ventricle\" so the model can be extended later, if required):"
   ],
   "metadata": {}
  },
  {
   "outputs": [
    {
     "output_type": "execute_result",
     "data": {
      "text/plain": "\u001b[0m\u001b[1mModel LV with 4 \u001b[22m\u001b[0m\u001b[1m(\u001b[22m\u001b[35m\u001b[1m6\u001b[22m\u001b[39m\u001b[0m\u001b[1m) \u001b[22m\u001b[0m\u001b[1mequations\u001b[22m\n\u001b[0m\u001b[1mUnknowns (6):\u001b[22m\n  V(t)\n  p(t)\n  in₊p(t)\n  in₊q(t)\n⋮\n\u001b[0m\u001b[1mParameters (11):\u001b[22m\n  V₀ [defaults to 0.0]\n  p₀ [defaults to 0.0]\n  Eₘᵢₙ [defaults to 0.03]\n  Eₘₐₓ [defaults to 1.5]\n⋮",
      "text/latex": "$$ \\begin{align}\np\\left( t \\right) &= p{_0} + \\left( E{_{m i n}} + \\frac{\\left( \\frac{rem\\left( t + \\left( 1 - Eshift \\right) \\tau, \\tau \\right)}{\\tau{_1}} \\right)^{n{_1}} \\left(  - E{_{m i n}} + E{_{m a x}} \\right) k}{\\left( 1 + \\left( \\frac{rem\\left( t + \\left( 1 - Eshift \\right) \\tau, \\tau \\right)}{\\tau{_1}} \\right)^{n{_1}} \\right) \\left( 1 + \\left( \\frac{rem\\left( t + \\left( 1 - Eshift \\right) \\tau, \\tau \\right)}{\\tau{_2}} \\right)^{n{_2}} \\right)} \\right) \\left(  - V{_0} + V\\left( t \\right) \\right) \\\\\n\\frac{\\mathrm{d} V\\left( t \\right)}{\\mathrm{d}t} &= out.q\\left( t \\right) + in.q\\left( t \\right) \\\\\n0 &=  - out.p\\left( t \\right) + in.p\\left( t \\right) \\\\\np\\left( t \\right) &= in.p\\left( t \\right)\n\\end{align}\n $$"
     },
     "metadata": {},
     "execution_count": 9
    }
   ],
   "cell_type": "code",
   "source": [
    "@named LV = DHChamber(V₀ = 0.0, Eₘₐₓ=Eₘₐₓ, Eₘᵢₙ=Eₘᵢₙ, n₁=n1LV, n₂=n2LV, τ = τ, τ₁=Tau1fLV, τ₂=Tau2fLV, k = kLV, Eshift=0.0)"
   ],
   "metadata": {},
   "execution_count": 9
  },
  {
   "cell_type": "markdown",
   "source": [
    "The two valves are simple diodes with a small resistance\n",
    "(resistance is needed, since perfect diodes would connect two elastances/compliances, which will lead to unstable oscillations):"
   ],
   "metadata": {}
  },
  {
   "outputs": [
    {
     "output_type": "execute_result",
     "data": {
      "text/plain": "\u001b[0m\u001b[1mModel MV with 4 \u001b[22m\u001b[0m\u001b[1m(\u001b[22m\u001b[35m\u001b[1m6\u001b[22m\u001b[39m\u001b[0m\u001b[1m) \u001b[22m\u001b[0m\u001b[1mequations\u001b[22m\n\u001b[0m\u001b[1mUnknowns (6):\u001b[22m\n  Δp(t)\n  q(t)\n  out₊p(t)\n  out₊q(t)\n⋮\n\u001b[0m\u001b[1mParameters (1):\u001b[22m\n  R [defaults to 0.006]",
      "text/latex": "$$ \\begin{align}\n{\\Delta}p\\left( t \\right) &= out.p\\left( t \\right) - in.p\\left( t \\right) \\\\\n0 &= out.q\\left( t \\right) + in.q\\left( t \\right) \\\\\nq\\left( t \\right) &= in.q\\left( t \\right) \\\\\nq\\left( t \\right) &= \\frac{ - {\\Delta}p\\left( t \\right) \\left( {\\Delta}p\\left( t \\right) < 0 \\right)}{R}\n\\end{align}\n $$"
     },
     "metadata": {},
     "execution_count": 10
    }
   ],
   "cell_type": "code",
   "source": [
    "@named AV = ResistorDiode(R=Zao)\n",
    "@named MV = ResistorDiode(R=Rmv)"
   ],
   "metadata": {},
   "execution_count": 10
  },
  {
   "cell_type": "markdown",
   "source": [
    "The main components of the circuit are 1 resistor `Rs` and two compliances for systemic arteries `Csa`,\n",
    "and systemic veins `Csv` (names are arbitrary).\n",
    "_Note: one of the compliances is defined in terms of $dV/dt$ using the option `inV = true`. The other\n",
    "without that option is in $dp/dt$._"
   ],
   "metadata": {}
  },
  {
   "outputs": [
    {
     "output_type": "execute_result",
     "data": {
      "text/plain": "\u001b[0m\u001b[1mModel Csv with 4 \u001b[22m\u001b[0m\u001b[1m(\u001b[22m\u001b[35m\u001b[1m6\u001b[22m\u001b[39m\u001b[0m\u001b[1m) \u001b[22m\u001b[0m\u001b[1mequations\u001b[22m\n\u001b[0m\u001b[1mUnknowns (6):\u001b[22m\n  V(t)\n  p(t)\n  in₊p(t)\n  in₊q(t)\n⋮\n\u001b[0m\u001b[1mParameters (2):\u001b[22m\n  V₀ [defaults to 0.0]\n  C [defaults to 11.0]",
      "text/latex": "$$ \\begin{align}\n0 &=  - out.p\\left( t \\right) + in.p\\left( t \\right) \\\\\np\\left( t \\right) &= in.p\\left( t \\right) \\\\\nV\\left( t \\right) &= V{_0} + C p\\left( t \\right) \\\\\n\\frac{\\mathrm{d} p\\left( t \\right)}{\\mathrm{d}t} &= \\frac{out.q\\left( t \\right) + in.q\\left( t \\right)}{C}\n\\end{align}\n $$"
     },
     "metadata": {},
     "execution_count": 11
    }
   ],
   "cell_type": "code",
   "source": [
    "@named Rs = Resistor(R=R_s)\n",
    "\n",
    "@named Csa = Compliance(C=C_sa)\n",
    "@named Csv = Compliance(C=C_sv, inP=true)"
   ],
   "metadata": {},
   "execution_count": 11
  },
  {
   "cell_type": "markdown",
   "source": [
    "## Build the system\n",
    "\n",
    "### Connections\n",
    "\n",
    "The system is built using the `connect` function. `connect` sets up the Kirchhoff laws:\n",
    "\n",
    "- pressures are the same in all connected branches on a connector\n",
    "- sum of all flow rates at a connector is zero\n",
    "\n",
    "The resulting set of Kirchhoff equations is stored in `circ_eqs`:"
   ],
   "metadata": {}
  },
  {
   "outputs": [
    {
     "output_type": "execute_result",
     "data": {
      "text/plain": "6-element Vector{Symbolics.Equation}:\n connect(LV.out, AV.in)\n connect(AV.out, Csa.in)\n connect(Csa.out, Rs.in)\n connect(Rs.out, Csv.in)\n connect(Csv.out, MV.in)\n connect(MV.out, LV.in)",
      "text/latex": "$$ \\begin{equation}\n\\left[\n\\begin{array}{c}\n\\mathrm{connect}\\left( LV_{+}out, AV_{+}in \\right) \\\\\n\\mathrm{connect}\\left( AV_{+}out, Csa_{+}in \\right) \\\\\n\\mathrm{connect}\\left( Csa_{+}out, Rs_{+}in \\right) \\\\\n\\mathrm{connect}\\left( Rs_{+}out, Csv_{+}in \\right) \\\\\n\\mathrm{connect}\\left( Csv_{+}out, MV_{+}in \\right) \\\\\n\\mathrm{connect}\\left( MV_{+}out, LV_{+}in \\right) \\\\\n\\end{array}\n\\right]\n\\end{equation}\n $$"
     },
     "metadata": {},
     "execution_count": 12
    }
   ],
   "cell_type": "code",
   "source": [
    "circ_eqs = [\n",
    "    connect(LV.out, AV.in)\n",
    "    connect(AV.out, Csa.in)\n",
    "    connect(Csa.out, Rs.in)\n",
    "    connect(Rs.out, Csv.in)\n",
    "    connect(Csv.out, MV.in)\n",
    "    connect(MV.out, LV.in)\n",
    "]"
   ],
   "metadata": {},
   "execution_count": 12
  },
  {
   "cell_type": "markdown",
   "source": [
    "### Add the component equations\n",
    "\n",
    "In a second step, the system of Kirchhoff equations is completed by the component equations (both ODEs and AEs), resulting in the full, overdefined ODE set `circ_model`.\n",
    "\n",
    "_Note: we do this in two steps._"
   ],
   "metadata": {}
  },
  {
   "outputs": [
    {
     "name": "stdout",
     "output_type": "stream",
     "text": [
      "┌ Warning: Independent variable t should be defined with @independent_variables t.\n",
      "└ @ ModelingToolkit ~/.julia/packages/ModelingToolkit/CCIoy/src/utils.jl:119\n"
     ]
    },
    {
     "output_type": "execute_result",
     "data": {
      "text/plain": "\u001b[0m\u001b[1mModel circ_model with 24 \u001b[22m\u001b[0m\u001b[1m(\u001b[22m\u001b[35m\u001b[1m36\u001b[22m\u001b[39m\u001b[0m\u001b[1m) \u001b[22m\u001b[0m\u001b[1mequations\u001b[22m\n\u001b[0m\u001b[1mUnknowns (36):\u001b[22m\n  LV₊V(t)\n  LV₊p(t)\n  LV₊in₊p(t)\n  LV₊in₊q(t)\n⋮\n\u001b[0m\u001b[1mParameters (18):\u001b[22m\n  LV₊V₀ [defaults to 0.0]\n  LV₊p₀ [defaults to 0.0]\n  LV₊Eₘᵢₙ [defaults to 0.03]\n  LV₊Eₘₐₓ [defaults to 1.5]\n⋮",
      "text/latex": "$$ \\begin{equation}\n\\left[\n\\begin{array}{c}\n\\mathrm{connect}\\left( LV_{+}out, AV_{+}in \\right) \\\\\n\\mathrm{connect}\\left( AV_{+}out, Csa_{+}in \\right) \\\\\n\\mathrm{connect}\\left( Csa_{+}out, Rs_{+}in \\right) \\\\\n\\mathrm{connect}\\left( Rs_{+}out, Csv_{+}in \\right) \\\\\n\\mathrm{connect}\\left( Csv_{+}out, MV_{+}in \\right) \\\\\n\\mathrm{connect}\\left( MV_{+}out, LV_{+}in \\right) \\\\\nLV.p\\left( t \\right) = LV.p{_0} + \\left( LV.E{_{m i n}} + \\frac{\\left( \\frac{rem\\left( t + \\left( 1 - LV.Eshift \\right) LV.\\tau, LV.\\tau \\right)}{LV.\\tau{_1}} \\right)^{LV.n{_1}} \\left(  - LV.E{_{m i n}} + LV.E{_{m a x}} \\right) LV.k}{\\left( 1 + \\left( \\frac{rem\\left( t + \\left( 1 - LV.Eshift \\right) LV.\\tau, LV.\\tau \\right)}{LV.\\tau{_1}} \\right)^{LV.n{_1}} \\right) \\left( 1 + \\left( \\frac{rem\\left( t + \\left( 1 - LV.Eshift \\right) LV.\\tau, LV.\\tau \\right)}{LV.\\tau{_2}} \\right)^{LV.n{_2}} \\right)} \\right) \\left(  - LV.V{_0} + LV.V\\left( t \\right) \\right) \\\\\n\\frac{\\mathrm{d} LV.V\\left( t \\right)}{\\mathrm{d}t} = LV.in.q\\left( t \\right) + LV.out.q\\left( t \\right) \\\\\n0 = LV.in.p\\left( t \\right) - LV.out.p\\left( t \\right) \\\\\nLV.p\\left( t \\right) = LV.in.p\\left( t \\right) \\\\\nAV.{\\Delta}p\\left( t \\right) =  - AV.in.p\\left( t \\right) + AV.out.p\\left( t \\right) \\\\\n0 = AV.in.q\\left( t \\right) + AV.out.q\\left( t \\right) \\\\\nAV.q\\left( t \\right) = AV.in.q\\left( t \\right) \\\\\nAV.q\\left( t \\right) = \\frac{ - \\left( AV.{\\Delta}p\\left( t \\right) < 0 \\right) AV.{\\Delta}p\\left( t \\right)}{AV.R} \\\\\nMV.{\\Delta}p\\left( t \\right) = MV.out.p\\left( t \\right) - MV.in.p\\left( t \\right) \\\\\n0 = MV.in.q\\left( t \\right) + MV.out.q\\left( t \\right) \\\\\nMV.q\\left( t \\right) = MV.in.q\\left( t \\right) \\\\\nMV.q\\left( t \\right) = \\frac{ - \\left( MV.{\\Delta}p\\left( t \\right) < 0 \\right) MV.{\\Delta}p\\left( t \\right)}{MV.R} \\\\\nRs.{\\Delta}p\\left( t \\right) = Rs.out.p\\left( t \\right) - Rs.in.p\\left( t \\right) \\\\\n0 = Rs.in.q\\left( t \\right) + Rs.out.q\\left( t \\right) \\\\\nRs.q\\left( t \\right) = Rs.in.q\\left( t \\right) \\\\\nRs.{\\Delta}p\\left( t \\right) =  - Rs.R Rs.q\\left( t \\right) \\\\\n0 =  - Csa.out.p\\left( t \\right) + Csa.in.p\\left( t \\right) \\\\\nCsa.p\\left( t \\right) = Csa.in.p\\left( t \\right) \\\\\nCsa.p\\left( t \\right) = \\frac{ - Csa.V{_0} + Csa.V\\left( t \\right)}{Csa.C} \\\\\n\\frac{\\mathrm{d} Csa.V\\left( t \\right)}{\\mathrm{d}t} = Csa.out.q\\left( t \\right) + Csa.in.q\\left( t \\right) \\\\\n0 =  - Csv.out.p\\left( t \\right) + Csv.in.p\\left( t \\right) \\\\\nCsv.p\\left( t \\right) = Csv.in.p\\left( t \\right) \\\\\nCsv.V\\left( t \\right) = Csv.V{_0} + Csv.C Csv.p\\left( t \\right) \\\\\n\\frac{\\mathrm{d} Csv.p\\left( t \\right)}{\\mathrm{d}t} = \\frac{Csv.out.q\\left( t \\right) + Csv.in.q\\left( t \\right)}{Csv.C} \\\\\n\\end{array}\n\\right]\n\\end{equation}\n $$"
     },
     "metadata": {},
     "execution_count": 13
    }
   ],
   "cell_type": "code",
   "source": [
    "@named _circ_model = ODESystem(circ_eqs, t)\n",
    "\n",
    "@named circ_model = compose(_circ_model,\n",
    "                          [LV, AV, MV, Rs, Csa, Csv])"
   ],
   "metadata": {},
   "execution_count": 13
  },
  {
   "cell_type": "markdown",
   "source": [
    "### Simplify the ODE system\n",
    "\n",
    "The crucial step in any acausal modelling is the sympification and reduction of the OD(A)E system to the minimal set of equations. ModelingToolkit.jl does this in the `structural_simplify` function."
   ],
   "metadata": {}
  },
  {
   "outputs": [
    {
     "output_type": "execute_result",
     "data": {
      "text/plain": "\u001b[0m\u001b[1mModel circ_model with 3 \u001b[22m\u001b[0m\u001b[1mequations\u001b[22m\n\u001b[0m\u001b[1mUnknowns (3):\u001b[22m\n  LV₊V(t)\n  Csa₊V(t)\n  Csv₊p(t)\n\u001b[0m\u001b[1mParameters (18):\u001b[22m\n  Rs₊R [defaults to 1.11]\n  LV₊τ₁ [defaults to 0.25755]\n  LV₊k [defaults to 1.67218]\n  AV₊R [defaults to 0.033]\n⋮",
      "text/latex": "$$ \\begin{align}\n\\frac{\\mathrm{d} LV.V\\left( t \\right)}{\\mathrm{d}t} &=  - Csv.out.q\\left( t \\right) - Csa.in.q\\left( t \\right) \\\\\n\\frac{\\mathrm{d} Csa.V\\left( t \\right)}{\\mathrm{d}t} &=  - Csv.in.q\\left( t \\right) + Csa.in.q\\left( t \\right) \\\\\n\\frac{\\mathrm{d} Csv.p\\left( t \\right)}{\\mathrm{d}t} &= \\frac{Csv.out.q\\left( t \\right) + Csv.in.q\\left( t \\right)}{Csv.C}\n\\end{align}\n $$"
     },
     "metadata": {},
     "execution_count": 14
    }
   ],
   "cell_type": "code",
   "source": [
    "circ_sys = structural_simplify(circ_model)"
   ],
   "metadata": {},
   "execution_count": 14
  },
  {
   "cell_type": "markdown",
   "source": [
    "`circ_sys` is now the minimal system of equations. In this case it consists of 3 ODEs for the ventricular volume and the systemic and venous pressures.\n",
    "\n",
    "_Note: this reduces and optimises the ODE system. It is, therefore, not always obvious, which states it will use and which it will drop. We can use the `states` and `observed` function to check this. It is recommended to do this, since small changes can reorder states, observables, and parameters._\n",
    "\n",
    "States in the system are now:"
   ],
   "metadata": {}
  },
  {
   "outputs": [
    {
     "output_type": "execute_result",
     "data": {
      "text/plain": "3-element Vector{SymbolicUtils.BasicSymbolic{Real}}:\n LV₊V(t)\n Csa₊V(t)\n Csv₊p(t)"
     },
     "metadata": {},
     "execution_count": 15
    }
   ],
   "cell_type": "code",
   "source": [
    "unknowns(circ_sys)"
   ],
   "metadata": {},
   "execution_count": 15
  },
  {
   "cell_type": "markdown",
   "source": [
    "Observed variables - the system will drop these from the ODE system that is solved, but it keeps all the algebraic equations needed to calculate them in the system object, as well as the `ODEProblem` and solution object - are:"
   ],
   "metadata": {}
  },
  {
   "outputs": [
    {
     "output_type": "execute_result",
     "data": {
      "text/plain": "33-element Vector{Symbolics.Equation}:\n LV₊p(t) ~ LV₊p₀ + (LV₊Eₘᵢₙ + ((-LV₊Eₘᵢₙ + LV₊Eₘₐₓ)*LV₊k*((rem(t + (1 - LV₊Eshift)*LV₊τ, LV₊τ) / LV₊τ₁)^LV₊n₁)) / ((1 + (rem(t + (1 - LV₊Eshift)*LV₊τ, LV₊τ) / LV₊τ₁)^LV₊n₁)*(1 + (rem(t + (1 - LV₊Eshift)*LV₊τ, LV₊τ) / LV₊τ₂)^LV₊n₂)))*(-LV₊V₀ + LV₊V(t))\n Csa₊p(t) ~ (-Csa₊V₀ + Csa₊V(t)) / Csa₊C\n Csv₊in₊p(t) ~ Csv₊p(t)\n Csv₊V(t) ~ Csv₊V₀ + Csv₊C*Csv₊p(t)\n MV₊Δp(t) ~ LV₊p(t) - Csv₊p(t)\n LV₊out₊p(t) ~ LV₊p(t)\n AV₊in₊p(t) ~ LV₊p(t)\n MV₊out₊p(t) ~ LV₊p(t)\n Rs₊Δp(t) ~ -Csa₊p(t) + Csv₊p(t)\n Csa₊out₊p(t) ~ Csa₊p(t)\n ⋮\n Csa₊out₊q(t) ~ -Rs₊q(t)\n LV₊in₊q(t) ~ -Csv₊out₊q(t)\n MV₊in₊q(t) ~ -MV₊out₊q(t)\n Csa₊in₊q(t) ~ AV₊q(t)\n AV₊out₊q(t) ~ -AV₊q(t)\n LV₊out₊q(t) ~ -AV₊q(t)\n Rs₊in₊q(t) ~ -Rs₊out₊q(t)\n Csv₊in₊q(t) ~ -Csa₊out₊q(t)\n AV₊in₊q(t) ~ -AV₊out₊q(t)",
      "text/latex": "$$ \\begin{align}\nLV.p\\left( t \\right) &= LV.p{_0} + \\left( LV.E{_{m i n}} + \\frac{\\left( \\frac{rem\\left( t + \\left( 1 - LV.Eshift \\right) LV.\\tau, LV.\\tau \\right)}{LV.\\tau{_1}} \\right)^{LV.n{_1}} \\left(  - LV.E{_{m i n}} + LV.E{_{m a x}} \\right) LV.k}{\\left( 1 + \\left( \\frac{rem\\left( t + \\left( 1 - LV.Eshift \\right) LV.\\tau, LV.\\tau \\right)}{LV.\\tau{_1}} \\right)^{LV.n{_1}} \\right) \\left( 1 + \\left( \\frac{rem\\left( t + \\left( 1 - LV.Eshift \\right) LV.\\tau, LV.\\tau \\right)}{LV.\\tau{_2}} \\right)^{LV.n{_2}} \\right)} \\right) \\left(  - LV.V{_0} + LV.V\\left( t \\right) \\right) \\\\\nCsa.p\\left( t \\right) &= \\frac{ - Csa.V{_0} + Csa.V\\left( t \\right)}{Csa.C} \\\\\nCsv.in.p\\left( t \\right) &= Csv.p\\left( t \\right) \\\\\nCsv.V\\left( t \\right) &= Csv.V{_0} + Csv.C Csv.p\\left( t \\right) \\\\\nMV.{\\Delta}p\\left( t \\right) &= LV.p\\left( t \\right) - Csv.p\\left( t \\right) \\\\\nLV.out.p\\left( t \\right) &= LV.p\\left( t \\right) \\\\\nAV.in.p\\left( t \\right) &= LV.p\\left( t \\right) \\\\\nMV.out.p\\left( t \\right) &= LV.p\\left( t \\right) \\\\\nRs.{\\Delta}p\\left( t \\right) &=  - Csa.p\\left( t \\right) + Csv.p\\left( t \\right) \\\\\nCsa.out.p\\left( t \\right) &= Csa.p\\left( t \\right) \\\\\nAV.out.p\\left( t \\right) &= Csa.p\\left( t \\right) \\\\\nRs.in.p\\left( t \\right) &= Csa.p\\left( t \\right) \\\\\nCsv.out.p\\left( t \\right) &= Csv.in.p\\left( t \\right) \\\\\nRs.out.p\\left( t \\right) &= Csv.in.p\\left( t \\right) \\\\\nMV.in.p\\left( t \\right) &= Csv.in.p\\left( t \\right) \\\\\nMV.q\\left( t \\right) &= \\frac{ - \\left( MV.{\\Delta}p\\left( t \\right) < 0 \\right) MV.{\\Delta}p\\left( t \\right)}{MV.R} \\\\\nAV.{\\Delta}p\\left( t \\right) &= Csa.p\\left( t \\right) - MV.{\\Delta}p\\left( t \\right) - Csv.p\\left( t \\right) \\\\\nLV.in.p\\left( t \\right) &= LV.out.p\\left( t \\right) \\\\\nRs.q\\left( t \\right) &= \\frac{ - Rs.{\\Delta}p\\left( t \\right)}{Rs.R} \\\\\nCsa.in.p\\left( t \\right) &= Csa.out.p\\left( t \\right) \\\\\nCsv.out.q\\left( t \\right) &=  - MV.q\\left( t \\right) \\\\\nMV.out.q\\left( t \\right) &=  - MV.q\\left( t \\right) \\\\\nAV.q\\left( t \\right) &= \\frac{ - \\left( AV.{\\Delta}p\\left( t \\right) < 0 \\right) AV.{\\Delta}p\\left( t \\right)}{AV.R} \\\\\nRs.out.q\\left( t \\right) &=  - Rs.q\\left( t \\right) \\\\\nCsa.out.q\\left( t \\right) &=  - Rs.q\\left( t \\right) \\\\\nLV.in.q\\left( t \\right) &=  - Csv.out.q\\left( t \\right) \\\\\nMV.in.q\\left( t \\right) &=  - MV.out.q\\left( t \\right) \\\\\nCsa.in.q\\left( t \\right) &= AV.q\\left( t \\right) \\\\\nAV.out.q\\left( t \\right) &=  - AV.q\\left( t \\right) \\\\\nLV.out.q\\left( t \\right) &=  - AV.q\\left( t \\right) \\\\\nRs.in.q\\left( t \\right) &=  - Rs.out.q\\left( t \\right) \\\\\nCsv.in.q\\left( t \\right) &=  - Csa.out.q\\left( t \\right) \\\\\nAV.in.q\\left( t \\right) &=  - AV.out.q\\left( t \\right)\n\\end{align}\n $$"
     },
     "metadata": {},
     "execution_count": 16
    }
   ],
   "cell_type": "code",
   "source": [
    "observed(circ_sys)"
   ],
   "metadata": {},
   "execution_count": 16
  },
  {
   "cell_type": "markdown",
   "source": [
    "And the parameters (these could be reordered, so check these, too):"
   ],
   "metadata": {}
  },
  {
   "outputs": [
    {
     "output_type": "execute_result",
     "data": {
      "text/plain": "18-element Vector{Any}:\n Rs₊R\n LV₊τ₁\n LV₊k\n AV₊R\n LV₊n₁\n LV₊p₀\n LV₊Eₘₐₓ\n LV₊n₂\n LV₊τ₂\n LV₊V₀\n LV₊Eₘᵢₙ\n Csa₊V₀\n LV₊Eshift\n Csv₊V₀\n MV₊R\n Csa₊C\n LV₊τ\n Csv₊C"
     },
     "metadata": {},
     "execution_count": 17
    }
   ],
   "cell_type": "code",
   "source": [
    "parameters(circ_sys)"
   ],
   "metadata": {},
   "execution_count": 17
  },
  {
   "cell_type": "markdown",
   "source": [
    "### Define the ODE problem\n",
    "\n",
    "First defined initial conditions `u0` and the time span for simulation:\n",
    "\n",
    "_Note: the initial conditions are defined as a parameter map, rather than a vector, since the parameter map allows for changes in order.\n",
    "This map can include not only state-variables, but also observables (like `LV.p` in this case), which makes setting up the initial conditions easier, if the known initial conditions are not included in the resulting model states, which is often the case in MTK models. Since MTK9 these cannot be redundant, however, so we need to decide if we want to define pressures or volumes in this case._"
   ],
   "metadata": {}
  },
  {
   "outputs": [
    {
     "output_type": "execute_result",
     "data": {
      "text/plain": "3-element Vector{Pair{Symbolics.Num, Float64}}:\n  LV₊p(t) => 7.0\n Csa₊p(t) => 7.0\n Csv₊p(t) => 7.0"
     },
     "metadata": {},
     "execution_count": 18
    }
   ],
   "cell_type": "code",
   "source": [
    "u0 = [\n",
    "        LV.p => MCFP\n",
    "        Csa.p => MCFP\n",
    "        Csv.p => MCFP\n",
    "        ]"
   ],
   "metadata": {},
   "execution_count": 18
  },
  {
   "outputs": [
    {
     "output_type": "execute_result",
     "data": {
      "text/plain": "(0, 20)"
     },
     "metadata": {},
     "execution_count": 19
    }
   ],
   "cell_type": "code",
   "source": [
    "tspan = (0, 20)"
   ],
   "metadata": {},
   "execution_count": 19
  },
  {
   "cell_type": "markdown",
   "source": [
    "in this case we use the mean cardiac filling pressure as initial condition, and simulate 20 seconds.\n",
    "\n",
    "Then we can define the problem:"
   ],
   "metadata": {}
  },
  {
   "outputs": [
    {
     "output_type": "execute_result",
     "data": {
      "text/plain": "\u001b[38;2;86;182;194mODEProblem\u001b[0m with uType \u001b[38;2;86;182;194mVector{Float64}\u001b[0m and tType \u001b[38;2;86;182;194mInt64\u001b[0m. In-place: \u001b[38;2;86;182;194mtrue\u001b[0m\ntimespan: (0, 20)\nu0: 3-element Vector{Float64}:\n 0.0\n 0.0\n 7.0"
     },
     "metadata": {},
     "execution_count": 20
    }
   ],
   "cell_type": "code",
   "source": [
    "prob = ODEProblem(circ_sys, u0, tspan)"
   ],
   "metadata": {},
   "execution_count": 20
  },
  {
   "cell_type": "markdown",
   "source": [
    "## Simulate\n",
    "\n",
    "The ODE problem is now in the MTK/DifferentialEquations.jl format and we can use any DifferentialEquations.jl solver to solve it:"
   ],
   "metadata": {}
  },
  {
   "outputs": [],
   "cell_type": "code",
   "source": [
    "sol = solve(prob, Vern7(), reltol=1e-12, abstol=1e-12);"
   ],
   "metadata": {},
   "execution_count": 21
  },
  {
   "cell_type": "markdown",
   "source": [
    "## Results"
   ],
   "metadata": {}
  },
  {
   "outputs": [
    {
     "output_type": "execute_result",
     "data": {
      "text/plain": "Plot{Plots.GRBackend() n=6}\nCaptured extra kwargs:\n  Series{1}:\n    hidexaxis: nothing\n  Series{2}:\n    hidexaxis: nothing\n  Series{3}:\n    linkaxes: all\n  Series{4}:\n    linkaxes: all\n  Series{5}:\n    linkaxes: all\n  Series{6}:\n    linkaxes: all\n",
      "image/png": "[encoded data removed]"
     },
     "metadata": {},
     "execution_count": 22
    }
   ],
   "cell_type": "code",
   "source": [
    "p1 = plot(sol, idxs=[LV.p,  Csa.in.p], tspan=(16 * τ, 17 * τ), xlabel = \"Time [s]\", ylabel = \"Pressure [mmHg]\",  hidexaxis = nothing) # Make a line plot\n",
    "p2 = plot(sol, idxs=[LV.V], tspan=(16 * τ, 17 * τ),xlabel = \"Time [s]\", ylabel = \"Volume [ml]\",  linkaxes = :all)\n",
    "p3 = plot(sol, idxs=[Csa.in.q,Csv.in.q], tspan=(16 * τ, 17 * τ),xlabel = \"Time [s]\", ylabel = \"Flow rate [ml/s]\", linkaxes = :all)\n",
    "p4 = plot(sol, idxs=(LV.V, LV.p), tspan=(16 * τ, 17 * τ),xlabel = \"Volume [ml]\", ylabel = \"Pressure [mmHg]\", linkaxes = :all)\n",
    "\n",
    "img = plot(p1, p2, p3, p4; layout=@layout([a b; c d]), legend = true)\n",
    "\n",
    "img = DisplayAs.Text(DisplayAs.PNG(img))\n",
    "\n",
    "img\n",
    "#"
   ],
   "metadata": {},
   "execution_count": 22
  },
  {
   "cell_type": "markdown",
   "source": [
    "---\n",
    "\n",
    "*This notebook was generated using [Literate.jl](https://github.com/fredrikekre/Literate.jl).*"
   ],
   "metadata": {}
  }
 ],
 "nbformat_minor": 3,
 "metadata": {
  "language_info": {
   "file_extension": ".jl",
   "mimetype": "application/julia",
   "name": "julia",
   "version": "1.10.5"
  },
  "kernelspec": {
   "name": "julia-1.10",
   "display_name": "Julia 1.10.5",
   "language": "julia"
  }
 },
 "nbformat": 4
}
